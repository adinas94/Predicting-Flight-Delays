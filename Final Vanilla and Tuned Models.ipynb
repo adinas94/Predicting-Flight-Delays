{
 "cells": [
  {
   "cell_type": "markdown",
   "metadata": {},
   "source": [
    "## Machine Learning Modeling"
   ]
  },
  {
   "cell_type": "code",
   "execution_count": 2,
   "metadata": {
    "scrolled": true
   },
   "outputs": [],
   "source": [
    "#import necessary libraries\n",
    "\n",
    "import pandas as pd\n",
    "import numpy as np\n",
    "import seaborn as sns\n",
    "import matplotlib.pyplot as plt\n",
    "%matplotlib inline\n",
    "from time import time\n",
    "import re\n",
    "from numpy.random import normal\n",
    "from scipy.stats import kurtosis, skew\n",
    "import math\n",
    "from statsmodels.formula.api import ols\n",
    "from statsmodels.stats.outliers_influence import variance_inflation_factor\n",
    "import statsmodels.api as sm\n",
    "import scipy.stats as stats\n",
    "from sklearn import tree\n",
    "from sklearn.model_selection import train_test_split, cross_val_score, GridSearchCV\n",
    "from sklearn.linear_model import LinearRegression, LogisticRegression\n",
    "from sklearn.metrics import roc_curve, auc, plot_confusion_matrix, mean_squared_error, mean_absolute_error, classification_report, precision_score, recall_score, accuracy_score, f1_score\n",
    "from sklearn.preprocessing import StandardScaler\n",
    "from sklearn.neighbors import KNeighborsClassifier\n",
    "from sklearn.naive_bayes import GaussianNB\n",
    "from sklearn.tree import DecisionTreeRegressor, DecisionTreeClassifier, export_graphviz\n",
    "from sklearn.svm import SVC\n",
    "from sklearn.ensemble import RandomForestClassifier, BaggingClassifier, AdaBoostClassifier, GradientBoostingClassifier\n",
    "from six import StringIO \n",
    "from xgboost import XGBClassifier\n",
    "from imblearn.over_sampling import SMOTE\n",
    "from sklearn.pipeline import Pipeline\n",
    "from IPython.display import Image\n",
    "import pydotplus\n",
    "import warnings\n",
    "warnings.filterwarnings('ignore')\n",
    "\n",
    "flights = pd.read_csv('final_data.csv', index_col=0)"
   ]
  },
  {
   "cell_type": "code",
   "execution_count": 3,
   "metadata": {},
   "outputs": [
    {
     "data": {
      "text/html": [
       "<div>\n",
       "<style scoped>\n",
       "    .dataframe tbody tr th:only-of-type {\n",
       "        vertical-align: middle;\n",
       "    }\n",
       "\n",
       "    .dataframe tbody tr th {\n",
       "        vertical-align: top;\n",
       "    }\n",
       "\n",
       "    .dataframe thead th {\n",
       "        text-align: right;\n",
       "    }\n",
       "</style>\n",
       "<table border=\"1\" class=\"dataframe\">\n",
       "  <thead>\n",
       "    <tr style=\"text-align: right;\">\n",
       "      <th></th>\n",
       "      <th>SCHEDULED_DEPARTURE</th>\n",
       "      <th>SCHEDULED_TIME</th>\n",
       "      <th>DISTANCE</th>\n",
       "      <th>SCHEDULED_ARRIVAL</th>\n",
       "      <th>ARRIVAL_DELAY</th>\n",
       "      <th>AIR_SYSTEM_DELAY</th>\n",
       "      <th>SECURITY_DELAY</th>\n",
       "      <th>AIRLINE_DELAY</th>\n",
       "      <th>LATE_AIRCRAFT_DELAY</th>\n",
       "      <th>WEATHER_DELAY</th>\n",
       "      <th>...</th>\n",
       "      <th>MONTH_4</th>\n",
       "      <th>MONTH_5</th>\n",
       "      <th>MONTH_6</th>\n",
       "      <th>MONTH_7</th>\n",
       "      <th>MONTH_8</th>\n",
       "      <th>MONTH_9</th>\n",
       "      <th>MONTH_10</th>\n",
       "      <th>MONTH_11</th>\n",
       "      <th>MONTH_12</th>\n",
       "      <th>DELAYED</th>\n",
       "    </tr>\n",
       "  </thead>\n",
       "  <tbody>\n",
       "    <tr>\n",
       "      <th>0</th>\n",
       "      <td>705</td>\n",
       "      <td>125</td>\n",
       "      <td>634</td>\n",
       "      <td>810</td>\n",
       "      <td>1</td>\n",
       "      <td>0</td>\n",
       "      <td>0</td>\n",
       "      <td>0</td>\n",
       "      <td>0</td>\n",
       "      <td>0</td>\n",
       "      <td>...</td>\n",
       "      <td>0.0</td>\n",
       "      <td>0.0</td>\n",
       "      <td>0.0</td>\n",
       "      <td>0.0</td>\n",
       "      <td>0.0</td>\n",
       "      <td>0.0</td>\n",
       "      <td>0.0</td>\n",
       "      <td>0.0</td>\n",
       "      <td>0.0</td>\n",
       "      <td>1</td>\n",
       "    </tr>\n",
       "    <tr>\n",
       "      <th>1</th>\n",
       "      <td>1859</td>\n",
       "      <td>189</td>\n",
       "      <td>1028</td>\n",
       "      <td>2208</td>\n",
       "      <td>337</td>\n",
       "      <td>0</td>\n",
       "      <td>0</td>\n",
       "      <td>82</td>\n",
       "      <td>255</td>\n",
       "      <td>0</td>\n",
       "      <td>...</td>\n",
       "      <td>0.0</td>\n",
       "      <td>0.0</td>\n",
       "      <td>0.0</td>\n",
       "      <td>0.0</td>\n",
       "      <td>1.0</td>\n",
       "      <td>0.0</td>\n",
       "      <td>0.0</td>\n",
       "      <td>0.0</td>\n",
       "      <td>0.0</td>\n",
       "      <td>1</td>\n",
       "    </tr>\n",
       "    <tr>\n",
       "      <th>2</th>\n",
       "      <td>1735</td>\n",
       "      <td>147</td>\n",
       "      <td>931</td>\n",
       "      <td>2102</td>\n",
       "      <td>-19</td>\n",
       "      <td>0</td>\n",
       "      <td>0</td>\n",
       "      <td>0</td>\n",
       "      <td>0</td>\n",
       "      <td>0</td>\n",
       "      <td>...</td>\n",
       "      <td>0.0</td>\n",
       "      <td>0.0</td>\n",
       "      <td>0.0</td>\n",
       "      <td>0.0</td>\n",
       "      <td>0.0</td>\n",
       "      <td>0.0</td>\n",
       "      <td>0.0</td>\n",
       "      <td>0.0</td>\n",
       "      <td>0.0</td>\n",
       "      <td>0</td>\n",
       "    </tr>\n",
       "    <tr>\n",
       "      <th>3</th>\n",
       "      <td>1815</td>\n",
       "      <td>185</td>\n",
       "      <td>1436</td>\n",
       "      <td>2320</td>\n",
       "      <td>-7</td>\n",
       "      <td>0</td>\n",
       "      <td>0</td>\n",
       "      <td>0</td>\n",
       "      <td>0</td>\n",
       "      <td>0</td>\n",
       "      <td>...</td>\n",
       "      <td>0.0</td>\n",
       "      <td>0.0</td>\n",
       "      <td>0.0</td>\n",
       "      <td>0.0</td>\n",
       "      <td>0.0</td>\n",
       "      <td>0.0</td>\n",
       "      <td>0.0</td>\n",
       "      <td>0.0</td>\n",
       "      <td>0.0</td>\n",
       "      <td>0</td>\n",
       "    </tr>\n",
       "    <tr>\n",
       "      <th>4</th>\n",
       "      <td>2125</td>\n",
       "      <td>100</td>\n",
       "      <td>481</td>\n",
       "      <td>2305</td>\n",
       "      <td>13</td>\n",
       "      <td>0</td>\n",
       "      <td>0</td>\n",
       "      <td>0</td>\n",
       "      <td>0</td>\n",
       "      <td>0</td>\n",
       "      <td>...</td>\n",
       "      <td>0.0</td>\n",
       "      <td>0.0</td>\n",
       "      <td>0.0</td>\n",
       "      <td>0.0</td>\n",
       "      <td>1.0</td>\n",
       "      <td>0.0</td>\n",
       "      <td>0.0</td>\n",
       "      <td>0.0</td>\n",
       "      <td>0.0</td>\n",
       "      <td>1</td>\n",
       "    </tr>\n",
       "  </tbody>\n",
       "</table>\n",
       "<p>5 rows × 52 columns</p>\n",
       "</div>"
      ],
      "text/plain": [
       "   SCHEDULED_DEPARTURE  SCHEDULED_TIME  DISTANCE  SCHEDULED_ARRIVAL  \\\n",
       "0                  705             125       634                810   \n",
       "1                 1859             189      1028               2208   \n",
       "2                 1735             147       931               2102   \n",
       "3                 1815             185      1436               2320   \n",
       "4                 2125             100       481               2305   \n",
       "\n",
       "   ARRIVAL_DELAY  AIR_SYSTEM_DELAY  SECURITY_DELAY  AIRLINE_DELAY  \\\n",
       "0              1                 0               0              0   \n",
       "1            337                 0               0             82   \n",
       "2            -19                 0               0              0   \n",
       "3             -7                 0               0              0   \n",
       "4             13                 0               0              0   \n",
       "\n",
       "   LATE_AIRCRAFT_DELAY  WEATHER_DELAY  ...  MONTH_4  MONTH_5  MONTH_6  \\\n",
       "0                    0              0  ...      0.0      0.0      0.0   \n",
       "1                  255              0  ...      0.0      0.0      0.0   \n",
       "2                    0              0  ...      0.0      0.0      0.0   \n",
       "3                    0              0  ...      0.0      0.0      0.0   \n",
       "4                    0              0  ...      0.0      0.0      0.0   \n",
       "\n",
       "   MONTH_7  MONTH_8  MONTH_9  MONTH_10  MONTH_11  MONTH_12  DELAYED  \n",
       "0      0.0      0.0      0.0       0.0       0.0       0.0        1  \n",
       "1      0.0      1.0      0.0       0.0       0.0       0.0        1  \n",
       "2      0.0      0.0      0.0       0.0       0.0       0.0        0  \n",
       "3      0.0      0.0      0.0       0.0       0.0       0.0        0  \n",
       "4      0.0      1.0      0.0       0.0       0.0       0.0        1  \n",
       "\n",
       "[5 rows x 52 columns]"
      ]
     },
     "execution_count": 3,
     "metadata": {},
     "output_type": "execute_result"
    }
   ],
   "source": [
    "#Preview first 5 rows of the dataste\n",
    "flights.head()"
   ]
  },
  {
   "cell_type": "markdown",
   "metadata": {},
   "source": [
    "### Functions Used for Project"
   ]
  },
  {
   "cell_type": "markdown",
   "metadata": {},
   "source": [
    "Several functions will be used to automate the process in our notebook. The functions used are printed below."
   ]
  },
  {
   "cell_type": "code",
   "execution_count": 3,
   "metadata": {},
   "outputs": [],
   "source": [
    "#write function to train and predict model, then print score results \n",
    "\n",
    "def model_fit(smotex, smotey, trainx, trainy, testx, testy, model, name):  \n",
    "    \n",
    "    model.fit(smotex, smotey)\n",
    "\n",
    "    test_prediction = model.predict(testx)\n",
    "    train_prediction = model.predict(trainx)\n",
    "    \n",
    "    result = {'model': name}\n",
    "    \n",
    "    result['train_accuracy'] = np.around((accuracy_score(trainy, train_prediction)), decimals=3)\n",
    "    result['train_precision'] = np.around((precision_score(trainy, train_prediction)), decimals=3)\n",
    "    result['train_recall'] = np.around((recall_score(trainy, train_prediction)), decimals=3)\n",
    "    result['train_f1'] = np.around((f1_score(trainy, train_prediction)), decimals=3)\n",
    "    \n",
    "    result['test_accuracy'] = np.around((accuracy_score(testy, test_prediction)), decimals=3)\n",
    "    result['test_precision'] = np.around((precision_score(testy, test_prediction)), decimals=3)\n",
    "    result['test_recall'] = np.around((recall_score(testy, test_prediction)), decimals=3)\n",
    "    result['test_f1'] = np.around((f1_score(testy, test_prediction)), decimals=3)\n",
    "    \n",
    "    print(\"\\n\")\n",
    "    \n",
    "    print(\"Train Score Results\")\n",
    "    print(classification_report(trainy, train_prediction))       \n",
    "    print(\"Train Set Accuracy:\", result['train_accuracy'])\n",
    "    print(\"Train Set Precision:\", result['train_precision'])\n",
    "    print(\"Train Set Recall:\", result['train_recall'])\n",
    "    print(\"Train Set F1-Score:\", result['train_f1'])\n",
    "\n",
    "    print(\"\\n\")\n",
    "    \n",
    "    print(\"Test Score Results\")    \n",
    "    print(classification_report(testy, test_prediction)) \n",
    "                                      \n",
    "    print(\"Test Set Accuracy:\", result['test_accuracy'])  \n",
    "    print(\"Test Set Precision:\", result['test_precision']) \n",
    "    print(\"Test Set Recall:\", result['test_recall'])\n",
    "    print(\"Test Set F1-Score:\", result['test_f1'])\n",
    "                                      \n",
    "    \n",
    "    print(\"\\n\")\n",
    "    \n",
    "    fig, (ax1, ax2) = plt.subplots(ncols=2, sharey=True)\n",
    "    trainmatrix = plot_confusion_matrix(model, trainx, trainy, cmap=plt.cm.Blues, ax=ax1)\n",
    "    testmatrix = plot_confusion_matrix(model, testx, testy, cmap=plt.cm.Blues, ax=ax2)\n",
    "    ax1.set_title('Train Confusion Matrix')\n",
    "    ax2.set_title('Test Confusion Matrix')\n",
    "    plt.tight_layout()\n",
    "    plt.show()\n",
    "    \n",
    "    return result"
   ]
  },
  {
   "cell_type": "code",
   "execution_count": 4,
   "metadata": {},
   "outputs": [],
   "source": [
    "# function for plotting a feature importance histogram \n",
    "def features_plot(df, title):\n",
    "    df.columns = ['feature', 'feature_importance']\n",
    "    sns.barplot(x = 'feature_importance', y = 'feature', data = df, orient = 'h', color = 'blue') \\\n",
    "       .set_title(title, fontsize = 20)"
   ]
  },
  {
   "cell_type": "code",
   "execution_count": 5,
   "metadata": {},
   "outputs": [],
   "source": [
    "#Function for creating a feature importance dataframe\n",
    "def features_df(column_names, importances):\n",
    "    df = pd.DataFrame({'feature': column_names,\n",
    "                       'feature_importance': importances}) \\\n",
    "           .sort_values('feature_importance', ascending = False) \\\n",
    "           .reset_index(drop = True)\n",
    "    return df"
   ]
  },
  {
   "cell_type": "markdown",
   "metadata": {},
   "source": [
    "### Train Test Split"
   ]
  },
  {
   "cell_type": "code",
   "execution_count": 5,
   "metadata": {},
   "outputs": [
    {
     "data": {
      "text/plain": [
       "0    6384\n",
       "1    3616\n",
       "Name: DELAYED, dtype: int64"
      ]
     },
     "execution_count": 5,
     "metadata": {},
     "output_type": "execute_result"
    }
   ],
   "source": [
    "#Explore the class distribution of the target variable \n",
    "flights['DELAYED'].value_counts()"
   ]
  },
  {
   "cell_type": "code",
   "execution_count": 6,
   "metadata": {},
   "outputs": [],
   "source": [
    "#Set X and y values \n",
    "y = flights['DELAYED']\n",
    "X = flights.drop(['DELAYED'], axis=1)"
   ]
  },
  {
   "cell_type": "code",
   "execution_count": 7,
   "metadata": {
    "scrolled": true
   },
   "outputs": [
    {
     "data": {
      "text/plain": [
       "0    0.6384\n",
       "1    0.3616\n",
       "Name: DELAYED, dtype: float64"
      ]
     },
     "execution_count": 7,
     "metadata": {},
     "output_type": "execute_result"
    }
   ],
   "source": [
    "#Investigate the value counts of our target variable \n",
    "y.value_counts(normalize=True)"
   ]
  },
  {
   "cell_type": "code",
   "execution_count": 8,
   "metadata": {},
   "outputs": [],
   "source": [
    "#Train test split \n",
    "X_train, X_test, y_train, y_test = train_test_split(X, y, random_state=42)"
   ]
  },
  {
   "cell_type": "markdown",
   "metadata": {},
   "source": [
    "We see that there is quite a bit of a class imbalance in our target variable; 63.8% of our flights were not delayed while only 36.2% were delayed. One sampling technique that we can investigate is downsampling the majority class. I will implement this below."
   ]
  },
  {
   "cell_type": "code",
   "execution_count": 11,
   "metadata": {},
   "outputs": [],
   "source": [
    "#Create a variable of the majority class where DELAYED=0\n",
    "df_majority = flights[flights['DELAYED']==0]\n",
    "\n",
    "#Create a variable of the minority class where DELAYED=1\n",
    "df_minority = flights[flights['DELAYED']==1]"
   ]
  },
  {
   "cell_type": "code",
   "execution_count": 10,
   "metadata": {},
   "outputs": [],
   "source": [
    "#Import resampling from sckitlearn\n",
    "from sklearn.utils import resample"
   ]
  },
  {
   "cell_type": "code",
   "execution_count": 12,
   "metadata": {},
   "outputs": [],
   "source": [
    "#Downsample majority class\n",
    "df_majority_downsampled = resample(df_majority, replace=False, n_samples=len(df_minority), random_state=0)"
   ]
  },
  {
   "cell_type": "code",
   "execution_count": 13,
   "metadata": {},
   "outputs": [
    {
     "data": {
      "text/plain": [
       "3616"
      ]
     },
     "execution_count": 13,
     "metadata": {},
     "output_type": "execute_result"
    }
   ],
   "source": [
    "#Check length of neew majority downsampled class \n",
    "len(df_majority_downsampled)"
   ]
  },
  {
   "cell_type": "markdown",
   "metadata": {},
   "source": [
    "While this is a useful technique in theory, in practice, it will cause us to lose a lot of valuable information from our majority class. As a result, we will apply a SMOTE technique in order to create synthesized data in order to improve our model. "
   ]
  },
  {
   "cell_type": "code",
   "execution_count": 14,
   "metadata": {},
   "outputs": [
    {
     "name": "stdout",
     "output_type": "stream",
     "text": [
      "Original class distribution: \n",
      "\n",
      "0    6384\n",
      "1    3616\n",
      "Name: DELAYED, dtype: int64\n",
      "-----------------------------------------\n",
      "Synthetic sample class distribution: \n",
      "\n",
      "1    4795\n",
      "0    4795\n",
      "Name: DELAYED, dtype: int64\n"
     ]
    }
   ],
   "source": [
    "# Previous original class distribution\n",
    "print('Original class distribution: \\n')\n",
    "print(y.value_counts())\n",
    "smote = SMOTE()\n",
    "X_train_resampled, y_train_resampled = smote.fit_sample(X_train, y_train) \n",
    "# Preview synthetic sample class distribution\n",
    "print('-----------------------------------------')\n",
    "print('Synthetic sample class distribution: \\n')\n",
    "print(pd.Series(y_train_resampled).value_counts()) "
   ]
  },
  {
   "cell_type": "markdown",
   "metadata": {},
   "source": [
    "## Section A: Vanilla Models"
   ]
  },
  {
   "cell_type": "markdown",
   "metadata": {},
   "source": [
    "### 1. KNN"
   ]
  },
  {
   "cell_type": "code",
   "execution_count": 11,
   "metadata": {},
   "outputs": [],
   "source": [
    "#Scale the data\n",
    "scaler = StandardScaler()  \n",
    "scaler.fit(X_train)\n",
    "\n",
    "#Scale original X_train and X_test\n",
    "X_train_scaled = scaler.transform(X_train)  \n",
    "X_test_scaled = scaler.transform(X_test)\n",
    "\n",
    "#Scale the resampled train \n",
    "X_train_resampled_scaled = scaler.transform(X_train_resampled)  "
   ]
  },
  {
   "cell_type": "code",
   "execution_count": 12,
   "metadata": {},
   "outputs": [],
   "source": [
    "#Fit and predict the vanilla model\n",
    "knnmodel = KNeighborsClassifier()"
   ]
  },
  {
   "cell_type": "code",
   "execution_count": 13,
   "metadata": {
    "scrolled": true
   },
   "outputs": [
    {
     "name": "stdout",
     "output_type": "stream",
     "text": [
      "\n",
      "\n",
      "Train Score Results\n",
      "              precision    recall  f1-score   support\n",
      "\n",
      "           0       0.86      0.81      0.84      4795\n",
      "           1       0.70      0.76      0.73      2705\n",
      "\n",
      "    accuracy                           0.79      7500\n",
      "   macro avg       0.78      0.79      0.78      7500\n",
      "weighted avg       0.80      0.79      0.80      7500\n",
      "\n",
      "Train Set Accuracy: 0.795\n",
      "Train Set Precision: 0.697\n",
      "Train Set Recall: 0.762\n",
      "Train Set F1-Score: 0.728\n",
      "\n",
      "\n",
      "Test Score Results\n",
      "              precision    recall  f1-score   support\n",
      "\n",
      "           0       0.71      0.68      0.69      1589\n",
      "           1       0.48      0.51      0.49       911\n",
      "\n",
      "    accuracy                           0.62      2500\n",
      "   macro avg       0.59      0.59      0.59      2500\n",
      "weighted avg       0.62      0.62      0.62      2500\n",
      "\n",
      "Test Set Accuracy: 0.618\n",
      "Test Set Precision: 0.478\n",
      "Test Set Recall: 0.507\n",
      "Test Set F1-Score: 0.492\n",
      "\n",
      "\n"
     ]
    },
    {
     "data": {
      "image/png": "[encoded data removed]",
      "text/plain": [
       "<Figure size 432x288 with 4 Axes>"
      ]
     },
     "metadata": {
      "needs_background": "light"
     },
     "output_type": "display_data"
    }
   ],
   "source": [
    "#Apply the model and print metrics\n",
    "knnresult = model_fit(X_train_resampled_scaled, y_train_resampled, X_train_scaled, y_train, X_test_scaled, y_test, knnmodel, 'knn')"
   ]
  },
  {
   "cell_type": "markdown",
   "metadata": {},
   "source": [
    "### 2. Bayes Classification Model"
   ]
  },
  {
   "cell_type": "code",
   "execution_count": 14,
   "metadata": {},
   "outputs": [],
   "source": [
    "#Instansiate the vanilla model\n",
    "bayes = GaussianNB()"
   ]
  },
  {
   "cell_type": "code",
   "execution_count": 15,
   "metadata": {},
   "outputs": [
    {
     "name": "stdout",
     "output_type": "stream",
     "text": [
      "\n",
      "\n",
      "Train Score Results\n",
      "              precision    recall  f1-score   support\n",
      "\n",
      "           0       0.76      0.99      0.86      4795\n",
      "           1       0.96      0.43      0.60      2705\n",
      "\n",
      "    accuracy                           0.79      7500\n",
      "   macro avg       0.86      0.71      0.73      7500\n",
      "weighted avg       0.83      0.79      0.76      7500\n",
      "\n",
      "Train Set Accuracy: 0.79\n",
      "Train Set Precision: 0.965\n",
      "Train Set Recall: 0.433\n",
      "Train Set F1-Score: 0.597\n",
      "\n",
      "\n",
      "Test Score Results\n",
      "              precision    recall  f1-score   support\n",
      "\n",
      "           0       0.75      0.99      0.85      1589\n",
      "           1       0.98      0.41      0.58       911\n",
      "\n",
      "    accuracy                           0.78      2500\n",
      "   macro avg       0.86      0.70      0.72      2500\n",
      "weighted avg       0.83      0.78      0.75      2500\n",
      "\n",
      "Test Set Accuracy: 0.782\n",
      "Test Set Precision: 0.979\n",
      "Test Set Recall: 0.412\n",
      "Test Set F1-Score: 0.58\n",
      "\n",
      "\n"
     ]
    },
    {
     "data": {
      "image/png": "[encoded data removed]",
      "text/plain": [
       "<Figure size 432x288 with 4 Axes>"
      ]
     },
     "metadata": {
      "needs_background": "light"
     },
     "output_type": "display_data"
    }
   ],
   "source": [
    "#Apply the modelfit function\n",
    "bayesresult = model_fit(X_train_resampled, y_train_resampled, X_train, y_train, X_test, y_test, bayes, 'bayes')"
   ]
  },
  {
   "cell_type": "markdown",
   "metadata": {},
   "source": [
    "### 3. Decision Tree Classifier"
   ]
  },
  {
   "cell_type": "code",
   "execution_count": 16,
   "metadata": {},
   "outputs": [],
   "source": [
    "#Instansiate the vanilla model \n",
    "decisiontree = DecisionTreeClassifier(random_state=42)"
   ]
  },
  {
   "cell_type": "code",
   "execution_count": 17,
   "metadata": {},
   "outputs": [
    {
     "name": "stdout",
     "output_type": "stream",
     "text": [
      "\n",
      "\n",
      "Train Score Results\n",
      "              precision    recall  f1-score   support\n",
      "\n",
      "           0       1.00      1.00      1.00      4795\n",
      "           1       1.00      1.00      1.00      2705\n",
      "\n",
      "    accuracy                           1.00      7500\n",
      "   macro avg       1.00      1.00      1.00      7500\n",
      "weighted avg       1.00      1.00      1.00      7500\n",
      "\n",
      "Train Set Accuracy: 1.0\n",
      "Train Set Precision: 1.0\n",
      "Train Set Recall: 1.0\n",
      "Train Set F1-Score: 1.0\n",
      "\n",
      "\n",
      "Test Score Results\n",
      "              precision    recall  f1-score   support\n",
      "\n",
      "           0       0.81      0.81      0.81      1589\n",
      "           1       0.67      0.67      0.67       911\n",
      "\n",
      "    accuracy                           0.76      2500\n",
      "   macro avg       0.74      0.74      0.74      2500\n",
      "weighted avg       0.76      0.76      0.76      2500\n",
      "\n",
      "Test Set Accuracy: 0.758\n",
      "Test Set Precision: 0.666\n",
      "Test Set Recall: 0.673\n",
      "Test Set F1-Score: 0.67\n",
      "\n",
      "\n"
     ]
    },
    {
     "data": {
      "image/png": "[encoded data removed]",
      "text/plain": [
       "<Figure size 432x288 with 4 Axes>"
      ]
     },
     "metadata": {
      "needs_background": "light"
     },
     "output_type": "display_data"
    }
   ],
   "source": [
    "#Apply the model fit function \n",
    "decisiontreeresult = model_fit(X_train, y_train, X_train, y_train, X_test, y_test, decisiontree, 'decisiontree')"
   ]
  },
  {
   "cell_type": "code",
   "execution_count": 18,
   "metadata": {},
   "outputs": [
    {
     "data": {
      "text/html": [
       "<div>\n",
       "<style scoped>\n",
       "    .dataframe tbody tr th:only-of-type {\n",
       "        vertical-align: middle;\n",
       "    }\n",
       "\n",
       "    .dataframe tbody tr th {\n",
       "        vertical-align: top;\n",
       "    }\n",
       "\n",
       "    .dataframe thead th {\n",
       "        text-align: right;\n",
       "    }\n",
       "</style>\n",
       "<table border=\"1\" class=\"dataframe\">\n",
       "  <thead>\n",
       "    <tr style=\"text-align: right;\">\n",
       "      <th></th>\n",
       "      <th>feature</th>\n",
       "      <th>feature_importance</th>\n",
       "    </tr>\n",
       "  </thead>\n",
       "  <tbody>\n",
       "    <tr>\n",
       "      <th>0</th>\n",
       "      <td>ARRIVAL_DELAY</td>\n",
       "      <td>0.432544</td>\n",
       "    </tr>\n",
       "    <tr>\n",
       "      <th>1</th>\n",
       "      <td>SCHEDULED_ARRIVAL</td>\n",
       "      <td>0.078765</td>\n",
       "    </tr>\n",
       "    <tr>\n",
       "      <th>2</th>\n",
       "      <td>SCHEDULED_DEPARTURE</td>\n",
       "      <td>0.069750</td>\n",
       "    </tr>\n",
       "    <tr>\n",
       "      <th>3</th>\n",
       "      <td>SCHEDULED_TIME</td>\n",
       "      <td>0.067476</td>\n",
       "    </tr>\n",
       "    <tr>\n",
       "      <th>4</th>\n",
       "      <td>DISTANCE</td>\n",
       "      <td>0.066719</td>\n",
       "    </tr>\n",
       "    <tr>\n",
       "      <th>5</th>\n",
       "      <td>LATE_AIRCRAFT_DELAY</td>\n",
       "      <td>0.023493</td>\n",
       "    </tr>\n",
       "    <tr>\n",
       "      <th>6</th>\n",
       "      <td>AIRLINE_DELAY</td>\n",
       "      <td>0.022115</td>\n",
       "    </tr>\n",
       "    <tr>\n",
       "      <th>7</th>\n",
       "      <td>MONTH_7</td>\n",
       "      <td>0.011571</td>\n",
       "    </tr>\n",
       "    <tr>\n",
       "      <th>8</th>\n",
       "      <td>DAY_OF_WEEK_5</td>\n",
       "      <td>0.010587</td>\n",
       "    </tr>\n",
       "    <tr>\n",
       "      <th>9</th>\n",
       "      <td>AIRLINE_Southwest Airlines Co.</td>\n",
       "      <td>0.010336</td>\n",
       "    </tr>\n",
       "    <tr>\n",
       "      <th>10</th>\n",
       "      <td>AIRLINE_United Air Lines Inc.</td>\n",
       "      <td>0.009824</td>\n",
       "    </tr>\n",
       "    <tr>\n",
       "      <th>11</th>\n",
       "      <td>MONTH_9</td>\n",
       "      <td>0.009716</td>\n",
       "    </tr>\n",
       "    <tr>\n",
       "      <th>12</th>\n",
       "      <td>ORIGIN_AIRPORT_TYPE_High</td>\n",
       "      <td>0.009484</td>\n",
       "    </tr>\n",
       "    <tr>\n",
       "      <th>13</th>\n",
       "      <td>DAY_OF_WEEK_7</td>\n",
       "      <td>0.008391</td>\n",
       "    </tr>\n",
       "    <tr>\n",
       "      <th>14</th>\n",
       "      <td>MONTH_8</td>\n",
       "      <td>0.008000</td>\n",
       "    </tr>\n",
       "    <tr>\n",
       "      <th>15</th>\n",
       "      <td>DAY_OF_WEEK_6</td>\n",
       "      <td>0.007831</td>\n",
       "    </tr>\n",
       "    <tr>\n",
       "      <th>16</th>\n",
       "      <td>DESTINATION_AIRPORT_TYPE_High</td>\n",
       "      <td>0.007305</td>\n",
       "    </tr>\n",
       "    <tr>\n",
       "      <th>17</th>\n",
       "      <td>AIRLINE_Delta Air Lines Inc.</td>\n",
       "      <td>0.007236</td>\n",
       "    </tr>\n",
       "    <tr>\n",
       "      <th>18</th>\n",
       "      <td>DAY_OF_WEEK_1</td>\n",
       "      <td>0.007209</td>\n",
       "    </tr>\n",
       "    <tr>\n",
       "      <th>19</th>\n",
       "      <td>DAY_OF_WEEK_4</td>\n",
       "      <td>0.007161</td>\n",
       "    </tr>\n",
       "    <tr>\n",
       "      <th>20</th>\n",
       "      <td>AIR_SYSTEM_DELAY</td>\n",
       "      <td>0.007115</td>\n",
       "    </tr>\n",
       "    <tr>\n",
       "      <th>21</th>\n",
       "      <td>MONTH_1</td>\n",
       "      <td>0.006912</td>\n",
       "    </tr>\n",
       "    <tr>\n",
       "      <th>22</th>\n",
       "      <td>DESTINATION_AIRPORT_TYPE_Medium</td>\n",
       "      <td>0.006854</td>\n",
       "    </tr>\n",
       "    <tr>\n",
       "      <th>23</th>\n",
       "      <td>MONTH_5</td>\n",
       "      <td>0.006418</td>\n",
       "    </tr>\n",
       "    <tr>\n",
       "      <th>24</th>\n",
       "      <td>DAY_OF_WEEK_2</td>\n",
       "      <td>0.006392</td>\n",
       "    </tr>\n",
       "    <tr>\n",
       "      <th>25</th>\n",
       "      <td>ORIGIN_AIRPORT_TYPE_Medium</td>\n",
       "      <td>0.005924</td>\n",
       "    </tr>\n",
       "    <tr>\n",
       "      <th>26</th>\n",
       "      <td>MONTH_12</td>\n",
       "      <td>0.005773</td>\n",
       "    </tr>\n",
       "    <tr>\n",
       "      <th>27</th>\n",
       "      <td>AIRLINE_American Airlines Inc.</td>\n",
       "      <td>0.005692</td>\n",
       "    </tr>\n",
       "    <tr>\n",
       "      <th>28</th>\n",
       "      <td>ORIGIN_AIRPORT_TYPE_Low</td>\n",
       "      <td>0.005557</td>\n",
       "    </tr>\n",
       "    <tr>\n",
       "      <th>29</th>\n",
       "      <td>MONTH_2</td>\n",
       "      <td>0.005375</td>\n",
       "    </tr>\n",
       "    <tr>\n",
       "      <th>30</th>\n",
       "      <td>AIRLINE_Skywest Airlines Inc.</td>\n",
       "      <td>0.004875</td>\n",
       "    </tr>\n",
       "    <tr>\n",
       "      <th>31</th>\n",
       "      <td>MONTH_6</td>\n",
       "      <td>0.004624</td>\n",
       "    </tr>\n",
       "    <tr>\n",
       "      <th>32</th>\n",
       "      <td>DAY_OF_WEEK_3</td>\n",
       "      <td>0.004483</td>\n",
       "    </tr>\n",
       "    <tr>\n",
       "      <th>33</th>\n",
       "      <td>MONTH_3</td>\n",
       "      <td>0.004451</td>\n",
       "    </tr>\n",
       "    <tr>\n",
       "      <th>34</th>\n",
       "      <td>MONTH_10</td>\n",
       "      <td>0.003997</td>\n",
       "    </tr>\n",
       "    <tr>\n",
       "      <th>35</th>\n",
       "      <td>MONTH_4</td>\n",
       "      <td>0.003988</td>\n",
       "    </tr>\n",
       "    <tr>\n",
       "      <th>36</th>\n",
       "      <td>DESTINATION_AIRPORT_TYPE_Very Low</td>\n",
       "      <td>0.003857</td>\n",
       "    </tr>\n",
       "    <tr>\n",
       "      <th>37</th>\n",
       "      <td>DESTINATION_AIRPORT_TYPE_Low</td>\n",
       "      <td>0.003786</td>\n",
       "    </tr>\n",
       "    <tr>\n",
       "      <th>38</th>\n",
       "      <td>AIRLINE_American Eagle Airlines Inc.</td>\n",
       "      <td>0.003622</td>\n",
       "    </tr>\n",
       "    <tr>\n",
       "      <th>39</th>\n",
       "      <td>MONTH_11</td>\n",
       "      <td>0.003616</td>\n",
       "    </tr>\n",
       "    <tr>\n",
       "      <th>40</th>\n",
       "      <td>AIRLINE_JetBlue Airways</td>\n",
       "      <td>0.003515</td>\n",
       "    </tr>\n",
       "    <tr>\n",
       "      <th>41</th>\n",
       "      <td>AIRLINE_Spirit Air Lines</td>\n",
       "      <td>0.003384</td>\n",
       "    </tr>\n",
       "    <tr>\n",
       "      <th>42</th>\n",
       "      <td>AIRLINE_US Airways Inc.</td>\n",
       "      <td>0.003076</td>\n",
       "    </tr>\n",
       "    <tr>\n",
       "      <th>43</th>\n",
       "      <td>ORIGIN_AIRPORT_TYPE_Very Low</td>\n",
       "      <td>0.002889</td>\n",
       "    </tr>\n",
       "    <tr>\n",
       "      <th>44</th>\n",
       "      <td>AIRLINE_Alaska Airlines Inc.</td>\n",
       "      <td>0.002471</td>\n",
       "    </tr>\n",
       "    <tr>\n",
       "      <th>45</th>\n",
       "      <td>AIRLINE_Atlantic Southeast Airlines</td>\n",
       "      <td>0.002458</td>\n",
       "    </tr>\n",
       "    <tr>\n",
       "      <th>46</th>\n",
       "      <td>AIRLINE_Virgin America</td>\n",
       "      <td>0.001342</td>\n",
       "    </tr>\n",
       "    <tr>\n",
       "      <th>47</th>\n",
       "      <td>AIRLINE_Hawaiian Airlines Inc.</td>\n",
       "      <td>0.001296</td>\n",
       "    </tr>\n",
       "    <tr>\n",
       "      <th>48</th>\n",
       "      <td>AIRLINE_Frontier Airlines Inc.</td>\n",
       "      <td>0.000745</td>\n",
       "    </tr>\n",
       "    <tr>\n",
       "      <th>49</th>\n",
       "      <td>WEATHER_DELAY</td>\n",
       "      <td>0.000000</td>\n",
       "    </tr>\n",
       "    <tr>\n",
       "      <th>50</th>\n",
       "      <td>SECURITY_DELAY</td>\n",
       "      <td>0.000000</td>\n",
       "    </tr>\n",
       "  </tbody>\n",
       "</table>\n",
       "</div>"
      ],
      "text/plain": [
       "                                 feature  feature_importance\n",
       "0                          ARRIVAL_DELAY            0.432544\n",
       "1                      SCHEDULED_ARRIVAL            0.078765\n",
       "2                    SCHEDULED_DEPARTURE            0.069750\n",
       "3                         SCHEDULED_TIME            0.067476\n",
       "4                               DISTANCE            0.066719\n",
       "5                    LATE_AIRCRAFT_DELAY            0.023493\n",
       "6                          AIRLINE_DELAY            0.022115\n",
       "7                                MONTH_7            0.011571\n",
       "8                          DAY_OF_WEEK_5            0.010587\n",
       "9         AIRLINE_Southwest Airlines Co.            0.010336\n",
       "10         AIRLINE_United Air Lines Inc.            0.009824\n",
       "11                               MONTH_9            0.009716\n",
       "12              ORIGIN_AIRPORT_TYPE_High            0.009484\n",
       "13                         DAY_OF_WEEK_7            0.008391\n",
       "14                               MONTH_8            0.008000\n",
       "15                         DAY_OF_WEEK_6            0.007831\n",
       "16         DESTINATION_AIRPORT_TYPE_High            0.007305\n",
       "17          AIRLINE_Delta Air Lines Inc.            0.007236\n",
       "18                         DAY_OF_WEEK_1            0.007209\n",
       "19                         DAY_OF_WEEK_4            0.007161\n",
       "20                      AIR_SYSTEM_DELAY            0.007115\n",
       "21                               MONTH_1            0.006912\n",
       "22       DESTINATION_AIRPORT_TYPE_Medium            0.006854\n",
       "23                               MONTH_5            0.006418\n",
       "24                         DAY_OF_WEEK_2            0.006392\n",
       "25            ORIGIN_AIRPORT_TYPE_Medium            0.005924\n",
       "26                              MONTH_12            0.005773\n",
       "27        AIRLINE_American Airlines Inc.            0.005692\n",
       "28               ORIGIN_AIRPORT_TYPE_Low            0.005557\n",
       "29                               MONTH_2            0.005375\n",
       "30         AIRLINE_Skywest Airlines Inc.            0.004875\n",
       "31                               MONTH_6            0.004624\n",
       "32                         DAY_OF_WEEK_3            0.004483\n",
       "33                               MONTH_3            0.004451\n",
       "34                              MONTH_10            0.003997\n",
       "35                               MONTH_4            0.003988\n",
       "36     DESTINATION_AIRPORT_TYPE_Very Low            0.003857\n",
       "37          DESTINATION_AIRPORT_TYPE_Low            0.003786\n",
       "38  AIRLINE_American Eagle Airlines Inc.            0.003622\n",
       "39                              MONTH_11            0.003616\n",
       "40               AIRLINE_JetBlue Airways            0.003515\n",
       "41              AIRLINE_Spirit Air Lines            0.003384\n",
       "42               AIRLINE_US Airways Inc.            0.003076\n",
       "43          ORIGIN_AIRPORT_TYPE_Very Low            0.002889\n",
       "44          AIRLINE_Alaska Airlines Inc.            0.002471\n",
       "45   AIRLINE_Atlantic Southeast Airlines            0.002458\n",
       "46                AIRLINE_Virgin America            0.001342\n",
       "47        AIRLINE_Hawaiian Airlines Inc.            0.001296\n",
       "48        AIRLINE_Frontier Airlines Inc.            0.000745\n",
       "49                         WEATHER_DELAY            0.000000\n",
       "50                        SECURITY_DELAY            0.000000"
      ]
     },
     "execution_count": 18,
     "metadata": {},
     "output_type": "execute_result"
    }
   ],
   "source": [
    "#Look at feature importances of our decision tree \n",
    "features = features_df(X_train.columns, decisiontree.feature_importances_)\n",
    "features"
   ]
  },
  {
   "cell_type": "markdown",
   "metadata": {},
   "source": [
    "The most important feature in our model is the \"Arrival Delay\" - this is expected, as our target variable measures the departure delay, and an arrival delay would likely follow. However, the remaining features have quite low feature importance values and with this current model, it is difficult to make any conclusions as to which features may have a stronger impact on our predictions."
   ]
  },
  {
   "cell_type": "markdown",
   "metadata": {},
   "source": [
    "### 4. Ensemble Methods"
   ]
  },
  {
   "cell_type": "markdown",
   "metadata": {},
   "source": [
    "#### a. Bagging Method"
   ]
  },
  {
   "cell_type": "code",
   "execution_count": 19,
   "metadata": {},
   "outputs": [],
   "source": [
    "#Instansiate the vanilla model\n",
    "bagged_tree = BaggingClassifier(DecisionTreeClassifier(random_state=42), n_estimators=20)"
   ]
  },
  {
   "cell_type": "code",
   "execution_count": 20,
   "metadata": {},
   "outputs": [
    {
     "name": "stdout",
     "output_type": "stream",
     "text": [
      "\n",
      "\n",
      "Train Score Results\n",
      "              precision    recall  f1-score   support\n",
      "\n",
      "           0       1.00      1.00      1.00      4795\n",
      "           1       1.00      0.99      1.00      2705\n",
      "\n",
      "    accuracy                           1.00      7500\n",
      "   macro avg       1.00      1.00      1.00      7500\n",
      "weighted avg       1.00      1.00      1.00      7500\n",
      "\n",
      "Train Set Accuracy: 0.997\n",
      "Train Set Precision: 0.999\n",
      "Train Set Recall: 0.992\n",
      "Train Set F1-Score: 0.995\n",
      "\n",
      "\n",
      "Test Score Results\n",
      "              precision    recall  f1-score   support\n",
      "\n",
      "           0       0.81      0.89      0.85      1589\n",
      "           1       0.77      0.64      0.70       911\n",
      "\n",
      "    accuracy                           0.80      2500\n",
      "   macro avg       0.79      0.77      0.78      2500\n",
      "weighted avg       0.80      0.80      0.80      2500\n",
      "\n",
      "Test Set Accuracy: 0.8\n",
      "Test Set Precision: 0.77\n",
      "Test Set Recall: 0.643\n",
      "Test Set F1-Score: 0.701\n",
      "\n",
      "\n"
     ]
    },
    {
     "data": {
      "image/png": "[encoded data removed]",
      "text/plain": [
       "<Figure size 432x288 with 4 Axes>"
      ]
     },
     "metadata": {
      "needs_background": "light"
     },
     "output_type": "display_data"
    }
   ],
   "source": [
    "#Apply the model prediction\n",
    "baggingresult = model_fit(X_train_resampled, y_train_resampled, X_train, y_train, X_test, y_test, bagged_tree, 'bagging')"
   ]
  },
  {
   "cell_type": "markdown",
   "metadata": {},
   "source": [
    "#### b. Random Forest"
   ]
  },
  {
   "cell_type": "code",
   "execution_count": 21,
   "metadata": {},
   "outputs": [],
   "source": [
    "#Instansiate the vanilla model \n",
    "randomforest = RandomForestClassifier(random_state=42)"
   ]
  },
  {
   "cell_type": "code",
   "execution_count": 22,
   "metadata": {},
   "outputs": [
    {
     "name": "stdout",
     "output_type": "stream",
     "text": [
      "\n",
      "\n",
      "Train Score Results\n",
      "              precision    recall  f1-score   support\n",
      "\n",
      "           0       1.00      1.00      1.00      4795\n",
      "           1       1.00      1.00      1.00      2705\n",
      "\n",
      "    accuracy                           1.00      7500\n",
      "   macro avg       1.00      1.00      1.00      7500\n",
      "weighted avg       1.00      1.00      1.00      7500\n",
      "\n",
      "Train Set Accuracy: 1.0\n",
      "Train Set Precision: 1.0\n",
      "Train Set Recall: 1.0\n",
      "Train Set F1-Score: 1.0\n",
      "\n",
      "\n",
      "Test Score Results\n",
      "              precision    recall  f1-score   support\n",
      "\n",
      "           0       0.81      0.90      0.85      1589\n",
      "           1       0.79      0.63      0.70       911\n",
      "\n",
      "    accuracy                           0.80      2500\n",
      "   macro avg       0.80      0.77      0.78      2500\n",
      "weighted avg       0.80      0.80      0.80      2500\n",
      "\n",
      "Test Set Accuracy: 0.804\n",
      "Test Set Precision: 0.789\n",
      "Test Set Recall: 0.629\n",
      "Test Set F1-Score: 0.7\n",
      "\n",
      "\n"
     ]
    },
    {
     "data": {
      "image/png": "[encoded data removed]",
      "text/plain": [
       "<Figure size 432x288 with 4 Axes>"
      ]
     },
     "metadata": {
      "needs_background": "light"
     },
     "output_type": "display_data"
    }
   ],
   "source": [
    "#Apply the model_fit function \n",
    "randomforestresult = model_fit(X_train_resampled, y_train_resampled, X_train, y_train, X_test, y_test, randomforest, 'randomforest')"
   ]
  },
  {
   "cell_type": "code",
   "execution_count": 23,
   "metadata": {},
   "outputs": [
    {
     "data": {
      "text/plain": [
       "0.8192"
      ]
     },
     "execution_count": 23,
     "metadata": {},
     "output_type": "execute_result"
    }
   ],
   "source": [
    "#Look at another performance measure: mean 3-Fold cross validation score \n",
    "mean_rf_cv_score = np.mean(cross_val_score(randomforest, X_train, y_train, cv=3))\n",
    "mean_rf_cv_score"
   ]
  },
  {
   "cell_type": "markdown",
   "metadata": {},
   "source": [
    "### 5. Boosting"
   ]
  },
  {
   "cell_type": "markdown",
   "metadata": {},
   "source": [
    "#### a. Adaboost"
   ]
  },
  {
   "cell_type": "code",
   "execution_count": 24,
   "metadata": {},
   "outputs": [],
   "source": [
    "#Instansiate the vanilla model\n",
    "adb = AdaBoostClassifier(random_state=0)"
   ]
  },
  {
   "cell_type": "code",
   "execution_count": 25,
   "metadata": {
    "scrolled": true
   },
   "outputs": [
    {
     "name": "stdout",
     "output_type": "stream",
     "text": [
      "\n",
      "\n",
      "Train Score Results\n",
      "              precision    recall  f1-score   support\n",
      "\n",
      "           0       0.83      0.88      0.86      4795\n",
      "           1       0.77      0.69      0.72      2705\n",
      "\n",
      "    accuracy                           0.81      7500\n",
      "   macro avg       0.80      0.78      0.79      7500\n",
      "weighted avg       0.81      0.81      0.81      7500\n",
      "\n",
      "Train Set Accuracy: 0.812\n",
      "Train Set Precision: 0.766\n",
      "Train Set Recall: 0.688\n",
      "Train Set F1-Score: 0.725\n",
      "\n",
      "\n",
      "Test Score Results\n",
      "              precision    recall  f1-score   support\n",
      "\n",
      "           0       0.82      0.89      0.85      1589\n",
      "           1       0.77      0.66      0.71       911\n",
      "\n",
      "    accuracy                           0.81      2500\n",
      "   macro avg       0.80      0.78      0.78      2500\n",
      "weighted avg       0.80      0.81      0.80      2500\n",
      "\n",
      "Test Set Accuracy: 0.806\n",
      "Test Set Precision: 0.773\n",
      "Test Set Recall: 0.664\n",
      "Test Set F1-Score: 0.714\n",
      "\n",
      "\n"
     ]
    },
    {
     "data": {
      "image/png": "[encoded data removed]",
      "text/plain": [
       "<Figure size 432x288 with 4 Axes>"
      ]
     },
     "metadata": {
      "needs_background": "light"
     },
     "output_type": "display_data"
    }
   ],
   "source": [
    "#Fit and predict model and show results\n",
    "adbresult = model_fit(X_train_resampled, y_train_resampled, X_train, y_train, X_test, y_test, adb, 'Adaboost')"
   ]
  },
  {
   "cell_type": "code",
   "execution_count": 26,
   "metadata": {},
   "outputs": [
    {
     "name": "stdout",
     "output_type": "stream",
     "text": [
      "Mean Adaboost Cross-Val Score (k=3):  81.22%\n"
     ]
    }
   ],
   "source": [
    "#Look at another performance measure: mean 3-Fold cross validation score \n",
    "adb_mean_cv = cross_val_score(adb, X, y, cv=3).mean()\n",
    "\n",
    "print(f\"Mean Adaboost Cross-Val Score (k=3): {adb_mean_cv: .2%}\")"
   ]
  },
  {
   "cell_type": "markdown",
   "metadata": {},
   "source": [
    "#### b. Gradient Boosting"
   ]
  },
  {
   "cell_type": "code",
   "execution_count": 27,
   "metadata": {},
   "outputs": [],
   "source": [
    "#Instansiate the vanilla model\n",
    "gb = GradientBoostingClassifier(random_state=42)"
   ]
  },
  {
   "cell_type": "code",
   "execution_count": 28,
   "metadata": {},
   "outputs": [
    {
     "name": "stdout",
     "output_type": "stream",
     "text": [
      "\n",
      "\n",
      "Train Score Results\n",
      "              precision    recall  f1-score   support\n",
      "\n",
      "           0       0.85      0.91      0.88      4795\n",
      "           1       0.81      0.71      0.76      2705\n",
      "\n",
      "    accuracy                           0.84      7500\n",
      "   macro avg       0.83      0.81      0.82      7500\n",
      "weighted avg       0.84      0.84      0.84      7500\n",
      "\n",
      "Train Set Accuracy: 0.838\n",
      "Train Set Precision: 0.815\n",
      "Train Set Recall: 0.712\n",
      "Train Set F1-Score: 0.76\n",
      "\n",
      "\n",
      "Test Score Results\n",
      "              precision    recall  f1-score   support\n",
      "\n",
      "           0       0.83      0.90      0.86      1589\n",
      "           1       0.80      0.68      0.74       911\n",
      "\n",
      "    accuracy                           0.82      2500\n",
      "   macro avg       0.81      0.79      0.80      2500\n",
      "weighted avg       0.82      0.82      0.82      2500\n",
      "\n",
      "Test Set Accuracy: 0.821\n",
      "Test Set Precision: 0.798\n",
      "Test Set Recall: 0.682\n",
      "Test Set F1-Score: 0.735\n",
      "\n",
      "\n"
     ]
    },
    {
     "data": {
      "image/png": "[encoded data removed]",
      "text/plain": [
       "<Figure size 432x288 with 4 Axes>"
      ]
     },
     "metadata": {
      "needs_background": "light"
     },
     "output_type": "display_data"
    }
   ],
   "source": [
    "#Fit and predict model and show results\n",
    "gbresult = model_fit(X_train_resampled, y_train_resampled, X_train, y_train, X_test, y_test, gb, 'Gradient_Boosting')"
   ]
  },
  {
   "cell_type": "code",
   "execution_count": 29,
   "metadata": {},
   "outputs": [
    {
     "name": "stdout",
     "output_type": "stream",
     "text": [
      "Mean Adaboost Cross-Val Score (k=3):  82.34%\n"
     ]
    }
   ],
   "source": [
    "#Look at another performance measure: mean 3-Fold cross validation score \n",
    "gb_mean_cv = cross_val_score(gb, X, y, cv=3).mean()\n",
    "\n",
    "print(f\"Mean Adaboost Cross-Val Score (k=3): {gb_mean_cv: .2%}\")"
   ]
  },
  {
   "cell_type": "markdown",
   "metadata": {},
   "source": [
    "#### c. XGBoost"
   ]
  },
  {
   "cell_type": "code",
   "execution_count": 30,
   "metadata": {},
   "outputs": [],
   "source": [
    "#Instansiate the vanilla model\n",
    "xgb = XGBClassifier(random_state=0)"
   ]
  },
  {
   "cell_type": "code",
   "execution_count": 31,
   "metadata": {},
   "outputs": [
    {
     "name": "stdout",
     "output_type": "stream",
     "text": [
      "\n",
      "\n",
      "Train Score Results\n",
      "              precision    recall  f1-score   support\n",
      "\n",
      "           0       0.84      0.91      0.87      4795\n",
      "           1       0.81      0.70      0.75      2705\n",
      "\n",
      "    accuracy                           0.83      7500\n",
      "   macro avg       0.83      0.80      0.81      7500\n",
      "weighted avg       0.83      0.83      0.83      7500\n",
      "\n",
      "Train Set Accuracy: 0.833\n",
      "Train Set Precision: 0.815\n",
      "Train Set Recall: 0.695\n",
      "Train Set F1-Score: 0.75\n",
      "\n",
      "\n",
      "Test Score Results\n",
      "              precision    recall  f1-score   support\n",
      "\n",
      "           0       0.83      0.91      0.87      1589\n",
      "           1       0.80      0.67      0.73       911\n",
      "\n",
      "    accuracy                           0.82      2500\n",
      "   macro avg       0.82      0.79      0.80      2500\n",
      "weighted avg       0.82      0.82      0.82      2500\n",
      "\n",
      "Test Set Accuracy: 0.821\n",
      "Test Set Precision: 0.803\n",
      "Test Set Recall: 0.673\n",
      "Test Set F1-Score: 0.732\n",
      "\n",
      "\n"
     ]
    },
    {
     "data": {
      "image/png": "[encoded data removed]",
      "text/plain": [
       "<Figure size 432x288 with 4 Axes>"
      ]
     },
     "metadata": {
      "needs_background": "light"
     },
     "output_type": "display_data"
    }
   ],
   "source": [
    "#Fit and predict model and show results\n",
    "xgbresult = model_fit(X_train_resampled, y_train_resampled, X_train, y_train, X_test, y_test, xgb, 'XGBoost')"
   ]
  },
  {
   "cell_type": "code",
   "execution_count": 32,
   "metadata": {},
   "outputs": [
    {
     "name": "stdout",
     "output_type": "stream",
     "text": [
      "Mean XGboost Cross-Val Score (k=3):  82.17%\n"
     ]
    }
   ],
   "source": [
    "#Investigate XGB cross val score \n",
    "xgb_mean_cv = cross_val_score(xgb, X, y, cv=3).mean()\n",
    "\n",
    "print(f\"Mean XGboost Cross-Val Score (k=3): {xgb_mean_cv: .2%}\")"
   ]
  },
  {
   "cell_type": "code",
   "execution_count": 33,
   "metadata": {},
   "outputs": [
    {
     "data": {
      "text/html": [
       "<div>\n",
       "<style scoped>\n",
       "    .dataframe tbody tr th:only-of-type {\n",
       "        vertical-align: middle;\n",
       "    }\n",
       "\n",
       "    .dataframe tbody tr th {\n",
       "        vertical-align: top;\n",
       "    }\n",
       "\n",
       "    .dataframe thead th {\n",
       "        text-align: right;\n",
       "    }\n",
       "</style>\n",
       "<table border=\"1\" class=\"dataframe\">\n",
       "  <thead>\n",
       "    <tr style=\"text-align: right;\">\n",
       "      <th></th>\n",
       "      <th>feature</th>\n",
       "      <th>feature_importance</th>\n",
       "    </tr>\n",
       "  </thead>\n",
       "  <tbody>\n",
       "    <tr>\n",
       "      <th>0</th>\n",
       "      <td>ARRIVAL_DELAY</td>\n",
       "      <td>0.138168</td>\n",
       "    </tr>\n",
       "    <tr>\n",
       "      <th>1</th>\n",
       "      <td>ORIGIN_AIRPORT_TYPE_High</td>\n",
       "      <td>0.073669</td>\n",
       "    </tr>\n",
       "    <tr>\n",
       "      <th>2</th>\n",
       "      <td>LATE_AIRCRAFT_DELAY</td>\n",
       "      <td>0.065620</td>\n",
       "    </tr>\n",
       "    <tr>\n",
       "      <th>3</th>\n",
       "      <td>AIRLINE_DELAY</td>\n",
       "      <td>0.063795</td>\n",
       "    </tr>\n",
       "    <tr>\n",
       "      <th>4</th>\n",
       "      <td>ORIGIN_AIRPORT_TYPE_Very Low</td>\n",
       "      <td>0.054443</td>\n",
       "    </tr>\n",
       "    <tr>\n",
       "      <th>5</th>\n",
       "      <td>DESTINATION_AIRPORT_TYPE_High</td>\n",
       "      <td>0.046067</td>\n",
       "    </tr>\n",
       "    <tr>\n",
       "      <th>6</th>\n",
       "      <td>AIRLINE_Southwest Airlines Co.</td>\n",
       "      <td>0.043137</td>\n",
       "    </tr>\n",
       "    <tr>\n",
       "      <th>7</th>\n",
       "      <td>DAY_OF_WEEK_5</td>\n",
       "      <td>0.040593</td>\n",
       "    </tr>\n",
       "    <tr>\n",
       "      <th>8</th>\n",
       "      <td>AIRLINE_United Air Lines Inc.</td>\n",
       "      <td>0.034651</td>\n",
       "    </tr>\n",
       "    <tr>\n",
       "      <th>9</th>\n",
       "      <td>AIRLINE_Delta Air Lines Inc.</td>\n",
       "      <td>0.032931</td>\n",
       "    </tr>\n",
       "    <tr>\n",
       "      <th>10</th>\n",
       "      <td>DAY_OF_WEEK_1</td>\n",
       "      <td>0.032300</td>\n",
       "    </tr>\n",
       "    <tr>\n",
       "      <th>11</th>\n",
       "      <td>DAY_OF_WEEK_2</td>\n",
       "      <td>0.032023</td>\n",
       "    </tr>\n",
       "    <tr>\n",
       "      <th>12</th>\n",
       "      <td>DAY_OF_WEEK_7</td>\n",
       "      <td>0.031344</td>\n",
       "    </tr>\n",
       "    <tr>\n",
       "      <th>13</th>\n",
       "      <td>DAY_OF_WEEK_3</td>\n",
       "      <td>0.030920</td>\n",
       "    </tr>\n",
       "    <tr>\n",
       "      <th>14</th>\n",
       "      <td>AIRLINE_Skywest Airlines Inc.</td>\n",
       "      <td>0.023974</td>\n",
       "    </tr>\n",
       "    <tr>\n",
       "      <th>15</th>\n",
       "      <td>MONTH_1</td>\n",
       "      <td>0.021375</td>\n",
       "    </tr>\n",
       "    <tr>\n",
       "      <th>16</th>\n",
       "      <td>AIRLINE_Atlantic Southeast Airlines</td>\n",
       "      <td>0.020170</td>\n",
       "    </tr>\n",
       "    <tr>\n",
       "      <th>17</th>\n",
       "      <td>MONTH_9</td>\n",
       "      <td>0.019827</td>\n",
       "    </tr>\n",
       "    <tr>\n",
       "      <th>18</th>\n",
       "      <td>MONTH_8</td>\n",
       "      <td>0.019435</td>\n",
       "    </tr>\n",
       "    <tr>\n",
       "      <th>19</th>\n",
       "      <td>SCHEDULED_DEPARTURE</td>\n",
       "      <td>0.019372</td>\n",
       "    </tr>\n",
       "    <tr>\n",
       "      <th>20</th>\n",
       "      <td>DESTINATION_AIRPORT_TYPE_Very Low</td>\n",
       "      <td>0.017018</td>\n",
       "    </tr>\n",
       "    <tr>\n",
       "      <th>21</th>\n",
       "      <td>SCHEDULED_TIME</td>\n",
       "      <td>0.016357</td>\n",
       "    </tr>\n",
       "    <tr>\n",
       "      <th>22</th>\n",
       "      <td>AIRLINE_American Airlines Inc.</td>\n",
       "      <td>0.015830</td>\n",
       "    </tr>\n",
       "    <tr>\n",
       "      <th>23</th>\n",
       "      <td>MONTH_7</td>\n",
       "      <td>0.014799</td>\n",
       "    </tr>\n",
       "    <tr>\n",
       "      <th>24</th>\n",
       "      <td>AIR_SYSTEM_DELAY</td>\n",
       "      <td>0.013349</td>\n",
       "    </tr>\n",
       "    <tr>\n",
       "      <th>25</th>\n",
       "      <td>ORIGIN_AIRPORT_TYPE_Medium</td>\n",
       "      <td>0.012269</td>\n",
       "    </tr>\n",
       "    <tr>\n",
       "      <th>26</th>\n",
       "      <td>AIRLINE_Frontier Airlines Inc.</td>\n",
       "      <td>0.009917</td>\n",
       "    </tr>\n",
       "    <tr>\n",
       "      <th>27</th>\n",
       "      <td>WEATHER_DELAY</td>\n",
       "      <td>0.008944</td>\n",
       "    </tr>\n",
       "    <tr>\n",
       "      <th>28</th>\n",
       "      <td>AIRLINE_US Airways Inc.</td>\n",
       "      <td>0.008514</td>\n",
       "    </tr>\n",
       "    <tr>\n",
       "      <th>29</th>\n",
       "      <td>SCHEDULED_ARRIVAL</td>\n",
       "      <td>0.008400</td>\n",
       "    </tr>\n",
       "    <tr>\n",
       "      <th>30</th>\n",
       "      <td>AIRLINE_Alaska Airlines Inc.</td>\n",
       "      <td>0.007243</td>\n",
       "    </tr>\n",
       "    <tr>\n",
       "      <th>31</th>\n",
       "      <td>AIRLINE_Hawaiian Airlines Inc.</td>\n",
       "      <td>0.005748</td>\n",
       "    </tr>\n",
       "    <tr>\n",
       "      <th>32</th>\n",
       "      <td>MONTH_3</td>\n",
       "      <td>0.005103</td>\n",
       "    </tr>\n",
       "    <tr>\n",
       "      <th>33</th>\n",
       "      <td>DISTANCE</td>\n",
       "      <td>0.004026</td>\n",
       "    </tr>\n",
       "    <tr>\n",
       "      <th>34</th>\n",
       "      <td>MONTH_6</td>\n",
       "      <td>0.003391</td>\n",
       "    </tr>\n",
       "    <tr>\n",
       "      <th>35</th>\n",
       "      <td>MONTH_4</td>\n",
       "      <td>0.002708</td>\n",
       "    </tr>\n",
       "    <tr>\n",
       "      <th>36</th>\n",
       "      <td>DAY_OF_WEEK_4</td>\n",
       "      <td>0.002572</td>\n",
       "    </tr>\n",
       "    <tr>\n",
       "      <th>37</th>\n",
       "      <td>MONTH_5</td>\n",
       "      <td>0.000000</td>\n",
       "    </tr>\n",
       "    <tr>\n",
       "      <th>38</th>\n",
       "      <td>MONTH_11</td>\n",
       "      <td>0.000000</td>\n",
       "    </tr>\n",
       "    <tr>\n",
       "      <th>39</th>\n",
       "      <td>MONTH_10</td>\n",
       "      <td>0.000000</td>\n",
       "    </tr>\n",
       "    <tr>\n",
       "      <th>40</th>\n",
       "      <td>ORIGIN_AIRPORT_TYPE_Low</td>\n",
       "      <td>0.000000</td>\n",
       "    </tr>\n",
       "    <tr>\n",
       "      <th>41</th>\n",
       "      <td>MONTH_2</td>\n",
       "      <td>0.000000</td>\n",
       "    </tr>\n",
       "    <tr>\n",
       "      <th>42</th>\n",
       "      <td>DAY_OF_WEEK_6</td>\n",
       "      <td>0.000000</td>\n",
       "    </tr>\n",
       "    <tr>\n",
       "      <th>43</th>\n",
       "      <td>DESTINATION_AIRPORT_TYPE_Medium</td>\n",
       "      <td>0.000000</td>\n",
       "    </tr>\n",
       "    <tr>\n",
       "      <th>44</th>\n",
       "      <td>DESTINATION_AIRPORT_TYPE_Low</td>\n",
       "      <td>0.000000</td>\n",
       "    </tr>\n",
       "    <tr>\n",
       "      <th>45</th>\n",
       "      <td>AIRLINE_Virgin America</td>\n",
       "      <td>0.000000</td>\n",
       "    </tr>\n",
       "    <tr>\n",
       "      <th>46</th>\n",
       "      <td>AIRLINE_Spirit Air Lines</td>\n",
       "      <td>0.000000</td>\n",
       "    </tr>\n",
       "    <tr>\n",
       "      <th>47</th>\n",
       "      <td>AIRLINE_JetBlue Airways</td>\n",
       "      <td>0.000000</td>\n",
       "    </tr>\n",
       "    <tr>\n",
       "      <th>48</th>\n",
       "      <td>AIRLINE_American Eagle Airlines Inc.</td>\n",
       "      <td>0.000000</td>\n",
       "    </tr>\n",
       "    <tr>\n",
       "      <th>49</th>\n",
       "      <td>SECURITY_DELAY</td>\n",
       "      <td>0.000000</td>\n",
       "    </tr>\n",
       "    <tr>\n",
       "      <th>50</th>\n",
       "      <td>MONTH_12</td>\n",
       "      <td>0.000000</td>\n",
       "    </tr>\n",
       "  </tbody>\n",
       "</table>\n",
       "</div>"
      ],
      "text/plain": [
       "                                 feature  feature_importance\n",
       "0                          ARRIVAL_DELAY            0.138168\n",
       "1               ORIGIN_AIRPORT_TYPE_High            0.073669\n",
       "2                    LATE_AIRCRAFT_DELAY            0.065620\n",
       "3                          AIRLINE_DELAY            0.063795\n",
       "4           ORIGIN_AIRPORT_TYPE_Very Low            0.054443\n",
       "5          DESTINATION_AIRPORT_TYPE_High            0.046067\n",
       "6         AIRLINE_Southwest Airlines Co.            0.043137\n",
       "7                          DAY_OF_WEEK_5            0.040593\n",
       "8          AIRLINE_United Air Lines Inc.            0.034651\n",
       "9           AIRLINE_Delta Air Lines Inc.            0.032931\n",
       "10                         DAY_OF_WEEK_1            0.032300\n",
       "11                         DAY_OF_WEEK_2            0.032023\n",
       "12                         DAY_OF_WEEK_7            0.031344\n",
       "13                         DAY_OF_WEEK_3            0.030920\n",
       "14         AIRLINE_Skywest Airlines Inc.            0.023974\n",
       "15                               MONTH_1            0.021375\n",
       "16   AIRLINE_Atlantic Southeast Airlines            0.020170\n",
       "17                               MONTH_9            0.019827\n",
       "18                               MONTH_8            0.019435\n",
       "19                   SCHEDULED_DEPARTURE            0.019372\n",
       "20     DESTINATION_AIRPORT_TYPE_Very Low            0.017018\n",
       "21                        SCHEDULED_TIME            0.016357\n",
       "22        AIRLINE_American Airlines Inc.            0.015830\n",
       "23                               MONTH_7            0.014799\n",
       "24                      AIR_SYSTEM_DELAY            0.013349\n",
       "25            ORIGIN_AIRPORT_TYPE_Medium            0.012269\n",
       "26        AIRLINE_Frontier Airlines Inc.            0.009917\n",
       "27                         WEATHER_DELAY            0.008944\n",
       "28               AIRLINE_US Airways Inc.            0.008514\n",
       "29                     SCHEDULED_ARRIVAL            0.008400\n",
       "30          AIRLINE_Alaska Airlines Inc.            0.007243\n",
       "31        AIRLINE_Hawaiian Airlines Inc.            0.005748\n",
       "32                               MONTH_3            0.005103\n",
       "33                              DISTANCE            0.004026\n",
       "34                               MONTH_6            0.003391\n",
       "35                               MONTH_4            0.002708\n",
       "36                         DAY_OF_WEEK_4            0.002572\n",
       "37                               MONTH_5            0.000000\n",
       "38                              MONTH_11            0.000000\n",
       "39                              MONTH_10            0.000000\n",
       "40               ORIGIN_AIRPORT_TYPE_Low            0.000000\n",
       "41                               MONTH_2            0.000000\n",
       "42                         DAY_OF_WEEK_6            0.000000\n",
       "43       DESTINATION_AIRPORT_TYPE_Medium            0.000000\n",
       "44          DESTINATION_AIRPORT_TYPE_Low            0.000000\n",
       "45                AIRLINE_Virgin America            0.000000\n",
       "46              AIRLINE_Spirit Air Lines            0.000000\n",
       "47               AIRLINE_JetBlue Airways            0.000000\n",
       "48  AIRLINE_American Eagle Airlines Inc.            0.000000\n",
       "49                        SECURITY_DELAY            0.000000\n",
       "50                              MONTH_12            0.000000"
      ]
     },
     "execution_count": 33,
     "metadata": {},
     "output_type": "execute_result"
    }
   ],
   "source": [
    "#Look at feature importance for the XGBoost model \n",
    "xgb_features = features_df(X_train.columns, xgb.feature_importances_)\n",
    "xgb_features"
   ]
  },
  {
   "cell_type": "markdown",
   "metadata": {},
   "source": [
    "Again, arrival delay is the most important feature, however its value is lower than in our decision tree result. Interestingly, the next important feature is \"Origin Airport Type - High\" which represents airports with high aircraft traffic. This makes sense - if airports are experiencing a high volume of flights and are very busy, it is a) with more flights, it is more likely that some are going to be delayed and b) it could be more challenging to ensure flights are departing on time when there are limited resources at the airport itself but a high amount of flights that are departing. This feature importance value is quite low for now, but we will investigate this further when we tune our models."
   ]
  },
  {
   "cell_type": "markdown",
   "metadata": {},
   "source": [
    "### 6. Support Vector Machines"
   ]
  },
  {
   "cell_type": "code",
   "execution_count": 34,
   "metadata": {},
   "outputs": [],
   "source": [
    "#Instansiate the vanilla model\n",
    "svclassifier = SVC(random_state=42)"
   ]
  },
  {
   "cell_type": "code",
   "execution_count": 35,
   "metadata": {},
   "outputs": [
    {
     "name": "stdout",
     "output_type": "stream",
     "text": [
      "\n",
      "\n",
      "Train Score Results\n",
      "              precision    recall  f1-score   support\n",
      "\n",
      "           0       0.86      0.95      0.90      4795\n",
      "           1       0.89      0.72      0.79      2705\n",
      "\n",
      "    accuracy                           0.86      7500\n",
      "   macro avg       0.87      0.83      0.85      7500\n",
      "weighted avg       0.87      0.86      0.86      7500\n",
      "\n",
      "Train Set Accuracy: 0.864\n",
      "Train Set Precision: 0.886\n",
      "Train Set Recall: 0.715\n",
      "Train Set F1-Score: 0.792\n",
      "\n",
      "\n",
      "Test Score Results\n",
      "              precision    recall  f1-score   support\n",
      "\n",
      "           0       0.79      0.90      0.84      1589\n",
      "           1       0.77      0.58      0.66       911\n",
      "\n",
      "    accuracy                           0.78      2500\n",
      "   macro avg       0.78      0.74      0.75      2500\n",
      "weighted avg       0.78      0.78      0.77      2500\n",
      "\n",
      "Test Set Accuracy: 0.783\n",
      "Test Set Precision: 0.767\n",
      "Test Set Recall: 0.58\n",
      "Test Set F1-Score: 0.66\n",
      "\n",
      "\n"
     ]
    },
    {
     "data": {
      "image/png": "[encoded data removed]",
      "text/plain": [
       "<Figure size 432x288 with 4 Axes>"
      ]
     },
     "metadata": {
      "needs_background": "light"
     },
     "output_type": "display_data"
    }
   ],
   "source": [
    "#Fit and predict model and show results. Note we are using the scaled data for the SVM model \n",
    "svmresult = model_fit(X_train_resampled_scaled, y_train_resampled, X_train_scaled, y_train, X_test_scaled, y_test, svclassifier, 'SVM')"
   ]
  },
  {
   "cell_type": "markdown",
   "metadata": {},
   "source": [
    "### All Vanilla Results"
   ]
  },
  {
   "cell_type": "code",
   "execution_count": 36,
   "metadata": {},
   "outputs": [],
   "source": [
    "#Create list of all the Vanilla model results \n",
    "result_list = [knnresult, bayesresult, decisiontreeresult, baggingresult, \n",
    "                randomforestresult, adbresult, xgbresult, svmresult]"
   ]
  },
  {
   "cell_type": "code",
   "execution_count": 37,
   "metadata": {},
   "outputs": [],
   "source": [
    "#Convert results into a dataframe \n",
    "df_results = pd.DataFrame.from_dict(result_list, orient='columns')\n",
    "df_results = df_results.set_index('model')"
   ]
  },
  {
   "cell_type": "code",
   "execution_count": 38,
   "metadata": {},
   "outputs": [
    {
     "data": {
      "text/html": [
       "<div>\n",
       "<style scoped>\n",
       "    .dataframe tbody tr th:only-of-type {\n",
       "        vertical-align: middle;\n",
       "    }\n",
       "\n",
       "    .dataframe tbody tr th {\n",
       "        vertical-align: top;\n",
       "    }\n",
       "\n",
       "    .dataframe thead th {\n",
       "        text-align: right;\n",
       "    }\n",
       "</style>\n",
       "<table border=\"1\" class=\"dataframe\">\n",
       "  <thead>\n",
       "    <tr style=\"text-align: right;\">\n",
       "      <th></th>\n",
       "      <th>train_accuracy</th>\n",
       "      <th>train_precision</th>\n",
       "      <th>train_recall</th>\n",
       "      <th>train_f1</th>\n",
       "      <th>test_accuracy</th>\n",
       "      <th>test_precision</th>\n",
       "      <th>test_recall</th>\n",
       "      <th>test_f1</th>\n",
       "    </tr>\n",
       "    <tr>\n",
       "      <th>model</th>\n",
       "      <th></th>\n",
       "      <th></th>\n",
       "      <th></th>\n",
       "      <th></th>\n",
       "      <th></th>\n",
       "      <th></th>\n",
       "      <th></th>\n",
       "      <th></th>\n",
       "    </tr>\n",
       "  </thead>\n",
       "  <tbody>\n",
       "    <tr>\n",
       "      <th>knn</th>\n",
       "      <td>0.795</td>\n",
       "      <td>0.697</td>\n",
       "      <td>0.762</td>\n",
       "      <td>0.728</td>\n",
       "      <td>0.618</td>\n",
       "      <td>0.478</td>\n",
       "      <td>0.507</td>\n",
       "      <td>0.492</td>\n",
       "    </tr>\n",
       "    <tr>\n",
       "      <th>bayes</th>\n",
       "      <td>0.790</td>\n",
       "      <td>0.965</td>\n",
       "      <td>0.433</td>\n",
       "      <td>0.597</td>\n",
       "      <td>0.782</td>\n",
       "      <td>0.979</td>\n",
       "      <td>0.412</td>\n",
       "      <td>0.580</td>\n",
       "    </tr>\n",
       "    <tr>\n",
       "      <th>decisiontree</th>\n",
       "      <td>1.000</td>\n",
       "      <td>1.000</td>\n",
       "      <td>1.000</td>\n",
       "      <td>1.000</td>\n",
       "      <td>0.758</td>\n",
       "      <td>0.666</td>\n",
       "      <td>0.673</td>\n",
       "      <td>0.670</td>\n",
       "    </tr>\n",
       "    <tr>\n",
       "      <th>bagging</th>\n",
       "      <td>0.997</td>\n",
       "      <td>0.999</td>\n",
       "      <td>0.992</td>\n",
       "      <td>0.995</td>\n",
       "      <td>0.800</td>\n",
       "      <td>0.770</td>\n",
       "      <td>0.643</td>\n",
       "      <td>0.701</td>\n",
       "    </tr>\n",
       "    <tr>\n",
       "      <th>randomforest</th>\n",
       "      <td>1.000</td>\n",
       "      <td>1.000</td>\n",
       "      <td>1.000</td>\n",
       "      <td>1.000</td>\n",
       "      <td>0.804</td>\n",
       "      <td>0.789</td>\n",
       "      <td>0.629</td>\n",
       "      <td>0.700</td>\n",
       "    </tr>\n",
       "    <tr>\n",
       "      <th>Adaboost</th>\n",
       "      <td>0.812</td>\n",
       "      <td>0.766</td>\n",
       "      <td>0.688</td>\n",
       "      <td>0.725</td>\n",
       "      <td>0.806</td>\n",
       "      <td>0.773</td>\n",
       "      <td>0.664</td>\n",
       "      <td>0.714</td>\n",
       "    </tr>\n",
       "    <tr>\n",
       "      <th>XGBoost</th>\n",
       "      <td>0.833</td>\n",
       "      <td>0.815</td>\n",
       "      <td>0.695</td>\n",
       "      <td>0.750</td>\n",
       "      <td>0.821</td>\n",
       "      <td>0.803</td>\n",
       "      <td>0.673</td>\n",
       "      <td>0.732</td>\n",
       "    </tr>\n",
       "    <tr>\n",
       "      <th>SVM</th>\n",
       "      <td>0.864</td>\n",
       "      <td>0.886</td>\n",
       "      <td>0.715</td>\n",
       "      <td>0.792</td>\n",
       "      <td>0.783</td>\n",
       "      <td>0.767</td>\n",
       "      <td>0.580</td>\n",
       "      <td>0.660</td>\n",
       "    </tr>\n",
       "  </tbody>\n",
       "</table>\n",
       "</div>"
      ],
      "text/plain": [
       "              train_accuracy  train_precision  train_recall  train_f1  \\\n",
       "model                                                                   \n",
       "knn                    0.795            0.697         0.762     0.728   \n",
       "bayes                  0.790            0.965         0.433     0.597   \n",
       "decisiontree           1.000            1.000         1.000     1.000   \n",
       "bagging                0.997            0.999         0.992     0.995   \n",
       "randomforest           1.000            1.000         1.000     1.000   \n",
       "Adaboost               0.812            0.766         0.688     0.725   \n",
       "XGBoost                0.833            0.815         0.695     0.750   \n",
       "SVM                    0.864            0.886         0.715     0.792   \n",
       "\n",
       "              test_accuracy  test_precision  test_recall  test_f1  \n",
       "model                                                              \n",
       "knn                   0.618           0.478        0.507    0.492  \n",
       "bayes                 0.782           0.979        0.412    0.580  \n",
       "decisiontree          0.758           0.666        0.673    0.670  \n",
       "bagging               0.800           0.770        0.643    0.701  \n",
       "randomforest          0.804           0.789        0.629    0.700  \n",
       "Adaboost              0.806           0.773        0.664    0.714  \n",
       "XGBoost               0.821           0.803        0.673    0.732  \n",
       "SVM                   0.783           0.767        0.580    0.660  "
      ]
     },
     "execution_count": 38,
     "metadata": {},
     "output_type": "execute_result"
    }
   ],
   "source": [
    "#Preview results \n",
    "df_results"
   ]
  },
  {
   "cell_type": "markdown",
   "metadata": {},
   "source": [
    "In the context of this project's problem, we are looking to optimize recall. In the results above, the test_recall scores are highest for Decision Tree (0.671) and XGBoost (0.672). As a result, in the next section, we will tune these models to determine if we can improve these recall results even further."
   ]
  },
  {
   "cell_type": "markdown",
   "metadata": {},
   "source": [
    "Before I proceed, I will quickly look at how the vanilla models for Decision Tree and XGBoost perform when the NON SMOTE data is used. This will be used for comparison later on when comparing how the synthesized data improves the overall model results."
   ]
  },
  {
   "cell_type": "code",
   "execution_count": 39,
   "metadata": {},
   "outputs": [
    {
     "name": "stdout",
     "output_type": "stream",
     "text": [
      "\n",
      "\n",
      "Train Score Results\n",
      "              precision    recall  f1-score   support\n",
      "\n",
      "           0       1.00      1.00      1.00      4795\n",
      "           1       1.00      1.00      1.00      2705\n",
      "\n",
      "    accuracy                           1.00      7500\n",
      "   macro avg       1.00      1.00      1.00      7500\n",
      "weighted avg       1.00      1.00      1.00      7500\n",
      "\n",
      "Train Set Accuracy: 1.0\n",
      "Train Set Precision: 1.0\n",
      "Train Set Recall: 1.0\n",
      "Train Set F1-Score: 1.0\n",
      "\n",
      "\n",
      "Test Score Results\n",
      "              precision    recall  f1-score   support\n",
      "\n",
      "           0       0.81      0.81      0.81      1589\n",
      "           1       0.67      0.67      0.67       911\n",
      "\n",
      "    accuracy                           0.76      2500\n",
      "   macro avg       0.74      0.74      0.74      2500\n",
      "weighted avg       0.76      0.76      0.76      2500\n",
      "\n",
      "Test Set Accuracy: 0.758\n",
      "Test Set Precision: 0.666\n",
      "Test Set Recall: 0.673\n",
      "Test Set F1-Score: 0.67\n",
      "\n",
      "\n"
     ]
    },
    {
     "data": {
      "image/png": "[encoded data removed]",
      "text/plain": [
       "<Figure size 432x288 with 4 Axes>"
      ]
     },
     "metadata": {
      "needs_background": "light"
     },
     "output_type": "display_data"
    }
   ],
   "source": [
    "#Apply the model fit function to non-smoted data\n",
    "decisiontreeresult_orig = model_fit(X_train, y_train, X_train, y_train, X_test, y_test, decisiontree, 'decisiontree_orig')"
   ]
  },
  {
   "cell_type": "code",
   "execution_count": 40,
   "metadata": {},
   "outputs": [
    {
     "name": "stdout",
     "output_type": "stream",
     "text": [
      "\n",
      "\n",
      "Train Score Results\n",
      "              precision    recall  f1-score   support\n",
      "\n",
      "           0       0.83      0.94      0.88      4795\n",
      "           1       0.86      0.66      0.75      2705\n",
      "\n",
      "    accuracy                           0.84      7500\n",
      "   macro avg       0.84      0.80      0.81      7500\n",
      "weighted avg       0.84      0.84      0.83      7500\n",
      "\n",
      "Train Set Accuracy: 0.838\n",
      "Train Set Precision: 0.857\n",
      "Train Set Recall: 0.662\n",
      "Train Set F1-Score: 0.747\n",
      "\n",
      "\n",
      "Test Score Results\n",
      "              precision    recall  f1-score   support\n",
      "\n",
      "           0       0.81      0.93      0.87      1589\n",
      "           1       0.84      0.62      0.71       911\n",
      "\n",
      "    accuracy                           0.82      2500\n",
      "   macro avg       0.82      0.78      0.79      2500\n",
      "weighted avg       0.82      0.82      0.81      2500\n",
      "\n",
      "Test Set Accuracy: 0.818\n",
      "Test Set Precision: 0.837\n",
      "Test Set Recall: 0.623\n",
      "Test Set F1-Score: 0.714\n",
      "\n",
      "\n"
     ]
    },
    {
     "data": {
      "image/png": "[encoded data removed]",
      "text/plain": [
       "<Figure size 432x288 with 4 Axes>"
      ]
     },
     "metadata": {
      "needs_background": "light"
     },
     "output_type": "display_data"
    }
   ],
   "source": [
    "#Apply the model fit function to non-smoted data\n",
    "xgbresult_orig = model_fit(X_train, y_train, X_train, y_train, X_test, y_test, xgb, 'XGBoost_orig')"
   ]
  },
  {
   "cell_type": "markdown",
   "metadata": {},
   "source": [
    "## Section B: Tuning Models\n"
   ]
  },
  {
   "cell_type": "markdown",
   "metadata": {},
   "source": [
    "### 1. Decision Tree"
   ]
  },
  {
   "cell_type": "code",
   "execution_count": 41,
   "metadata": {},
   "outputs": [
    {
     "data": {
      "text/plain": [
       "{'model': 'decisiontree',\n",
       " 'train_accuracy': 1.0,\n",
       " 'train_precision': 1.0,\n",
       " 'train_recall': 1.0,\n",
       " 'train_f1': 1.0,\n",
       " 'test_accuracy': 0.758,\n",
       " 'test_precision': 0.666,\n",
       " 'test_recall': 0.673,\n",
       " 'test_f1': 0.67}"
      ]
     },
     "execution_count": 41,
     "metadata": {},
     "output_type": "execute_result"
    }
   ],
   "source": [
    "#Preview Decision Tree result again\n",
    "decisiontreeresult"
   ]
  },
  {
   "cell_type": "code",
   "execution_count": 42,
   "metadata": {},
   "outputs": [],
   "source": [
    "#Select hyperparemeters for GridSearch to tune our decision tree model \n",
    "param_grid = {\n",
    "    'criterion': ['gini', 'entropy'],\n",
    "    'max_depth': [1, 3, 5, 7, 11, 15], \n",
    "    'min_samples_split': [10, 20, 30, 40], \n",
    "    'min_samples_leaf': [10, 20, 30, 40]}\n",
    "\n",
    "gs_dt = GridSearchCV(decisiontree, param_grid, scoring='recall', cv=10)"
   ]
  },
  {
   "cell_type": "code",
   "execution_count": 43,
   "metadata": {},
   "outputs": [
    {
     "data": {
      "text/plain": [
       "GridSearchCV(cv=10, estimator=DecisionTreeClassifier(random_state=42),\n",
       "             param_grid={'criterion': ['gini', 'entropy'],\n",
       "                         'max_depth': [1, 3, 5, 7, 11, 15],\n",
       "                         'min_samples_leaf': [10, 20, 30, 40],\n",
       "                         'min_samples_split': [10, 20, 30, 40]},\n",
       "             scoring='recall')"
      ]
     },
     "execution_count": 43,
     "metadata": {},
     "output_type": "execute_result"
    }
   ],
   "source": [
    "#Fit the GridSearch on the resampled data\n",
    "gs_dt.fit(X_train_resampled, y_train_resampled)"
   ]
  },
  {
   "cell_type": "code",
   "execution_count": 44,
   "metadata": {},
   "outputs": [
    {
     "name": "stdout",
     "output_type": "stream",
     "text": [
      "Train Recall: 0.8097660055671538\n",
      "Test Recall: 0.7156970362239298\n",
      "{'criterion': 'entropy', 'max_depth': 5, 'min_samples_leaf': 20, 'min_samples_split': 10}\n"
     ]
    }
   ],
   "source": [
    "#Print the best Train and Test Recall scores from the GridSearch\n",
    "#Print the best parameters that helped reach this result \n",
    "\n",
    "print(f'Train Recall: {gs_dt.best_score_}')\n",
    "dttest_recall = recall_score(y_test, gs_dt.predict(X_test))\n",
    "print(f'Test Recall: {dttest_recall}')\n",
    "print(gs_dt.best_params_)"
   ]
  },
  {
   "cell_type": "markdown",
   "metadata": {},
   "source": [
    "By introducing hyperparameters into the model, the results improved our test recall quite a bit, from 0.67 in our vanilla model to 0.76 in our tuned model. I will now redo training, fitting and predicting the model with these best parameters."
   ]
  },
  {
   "cell_type": "code",
   "execution_count": 45,
   "metadata": {},
   "outputs": [],
   "source": [
    "#Instansiate the new model with the best parameters as given above \n",
    "dttuned = DecisionTreeClassifier(criterion='entropy', max_depth=5, min_samples_leaf=10, \n",
    "                                 min_samples_split=10, random_state=42)"
   ]
  },
  {
   "cell_type": "code",
   "execution_count": 46,
   "metadata": {},
   "outputs": [
    {
     "name": "stdout",
     "output_type": "stream",
     "text": [
      "\n",
      "\n",
      "Train Score Results\n",
      "              precision    recall  f1-score   support\n",
      "\n",
      "           0       0.82      0.93      0.87      4795\n",
      "           1       0.84      0.64      0.72      2705\n",
      "\n",
      "    accuracy                           0.82      7500\n",
      "   macro avg       0.83      0.78      0.80      7500\n",
      "weighted avg       0.83      0.82      0.82      7500\n",
      "\n",
      "Train Set Accuracy: 0.825\n",
      "Train Set Precision: 0.84\n",
      "Train Set Recall: 0.635\n",
      "Train Set F1-Score: 0.724\n",
      "\n",
      "\n",
      "Test Score Results\n",
      "              precision    recall  f1-score   support\n",
      "\n",
      "           0       0.80      0.93      0.86      1589\n",
      "           1       0.83      0.61      0.70       911\n",
      "\n",
      "    accuracy                           0.81      2500\n",
      "   macro avg       0.82      0.77      0.78      2500\n",
      "weighted avg       0.81      0.81      0.80      2500\n",
      "\n",
      "Test Set Accuracy: 0.811\n",
      "Test Set Precision: 0.829\n",
      "Test Set Recall: 0.607\n",
      "Test Set F1-Score: 0.701\n",
      "\n",
      "\n"
     ]
    },
    {
     "data": {
      "image/png": "[encoded data removed]",
      "text/plain": [
       "<Figure size 432x288 with 4 Axes>"
      ]
     },
     "metadata": {
      "needs_background": "light"
     },
     "output_type": "display_data"
    }
   ],
   "source": [
    "#Fit and predict model and show results\n",
    "dttunedresult = model_fit(X_train, y_train, X_train, y_train, X_test, y_test, dttuned, 'Decision Tree Tuned')"
   ]
  },
  {
   "cell_type": "code",
   "execution_count": 47,
   "metadata": {
    "scrolled": true
   },
   "outputs": [
    {
     "data": {
      "text/html": [
       "<div>\n",
       "<style scoped>\n",
       "    .dataframe tbody tr th:only-of-type {\n",
       "        vertical-align: middle;\n",
       "    }\n",
       "\n",
       "    .dataframe tbody tr th {\n",
       "        vertical-align: top;\n",
       "    }\n",
       "\n",
       "    .dataframe thead th {\n",
       "        text-align: right;\n",
       "    }\n",
       "</style>\n",
       "<table border=\"1\" class=\"dataframe\">\n",
       "  <thead>\n",
       "    <tr style=\"text-align: right;\">\n",
       "      <th></th>\n",
       "      <th>feature</th>\n",
       "      <th>feature_importance</th>\n",
       "    </tr>\n",
       "  </thead>\n",
       "  <tbody>\n",
       "    <tr>\n",
       "      <th>0</th>\n",
       "      <td>ARRIVAL_DELAY</td>\n",
       "      <td>0.748387</td>\n",
       "    </tr>\n",
       "    <tr>\n",
       "      <th>1</th>\n",
       "      <td>LATE_AIRCRAFT_DELAY</td>\n",
       "      <td>0.094194</td>\n",
       "    </tr>\n",
       "    <tr>\n",
       "      <th>2</th>\n",
       "      <td>AIRLINE_DELAY</td>\n",
       "      <td>0.061741</td>\n",
       "    </tr>\n",
       "    <tr>\n",
       "      <th>3</th>\n",
       "      <td>SCHEDULED_TIME</td>\n",
       "      <td>0.033721</td>\n",
       "    </tr>\n",
       "    <tr>\n",
       "      <th>4</th>\n",
       "      <td>SCHEDULED_DEPARTURE</td>\n",
       "      <td>0.013259</td>\n",
       "    </tr>\n",
       "    <tr>\n",
       "      <th>5</th>\n",
       "      <td>AIRLINE_United Air Lines Inc.</td>\n",
       "      <td>0.012403</td>\n",
       "    </tr>\n",
       "    <tr>\n",
       "      <th>6</th>\n",
       "      <td>DISTANCE</td>\n",
       "      <td>0.009914</td>\n",
       "    </tr>\n",
       "    <tr>\n",
       "      <th>7</th>\n",
       "      <td>WEATHER_DELAY</td>\n",
       "      <td>0.008912</td>\n",
       "    </tr>\n",
       "    <tr>\n",
       "      <th>8</th>\n",
       "      <td>AIR_SYSTEM_DELAY</td>\n",
       "      <td>0.006253</td>\n",
       "    </tr>\n",
       "    <tr>\n",
       "      <th>9</th>\n",
       "      <td>AIRLINE_Southwest Airlines Co.</td>\n",
       "      <td>0.006188</td>\n",
       "    </tr>\n",
       "    <tr>\n",
       "      <th>10</th>\n",
       "      <td>MONTH_6</td>\n",
       "      <td>0.004362</td>\n",
       "    </tr>\n",
       "    <tr>\n",
       "      <th>11</th>\n",
       "      <td>SCHEDULED_ARRIVAL</td>\n",
       "      <td>0.000666</td>\n",
       "    </tr>\n",
       "    <tr>\n",
       "      <th>12</th>\n",
       "      <td>DAY_OF_WEEK_2</td>\n",
       "      <td>0.000000</td>\n",
       "    </tr>\n",
       "    <tr>\n",
       "      <th>13</th>\n",
       "      <td>DAY_OF_WEEK_3</td>\n",
       "      <td>0.000000</td>\n",
       "    </tr>\n",
       "    <tr>\n",
       "      <th>14</th>\n",
       "      <td>DAY_OF_WEEK_4</td>\n",
       "      <td>0.000000</td>\n",
       "    </tr>\n",
       "    <tr>\n",
       "      <th>15</th>\n",
       "      <td>DAY_OF_WEEK_5</td>\n",
       "      <td>0.000000</td>\n",
       "    </tr>\n",
       "    <tr>\n",
       "      <th>16</th>\n",
       "      <td>DAY_OF_WEEK_6</td>\n",
       "      <td>0.000000</td>\n",
       "    </tr>\n",
       "    <tr>\n",
       "      <th>17</th>\n",
       "      <td>DAY_OF_WEEK_7</td>\n",
       "      <td>0.000000</td>\n",
       "    </tr>\n",
       "    <tr>\n",
       "      <th>18</th>\n",
       "      <td>MONTH_1</td>\n",
       "      <td>0.000000</td>\n",
       "    </tr>\n",
       "    <tr>\n",
       "      <th>19</th>\n",
       "      <td>MONTH_5</td>\n",
       "      <td>0.000000</td>\n",
       "    </tr>\n",
       "    <tr>\n",
       "      <th>20</th>\n",
       "      <td>MONTH_2</td>\n",
       "      <td>0.000000</td>\n",
       "    </tr>\n",
       "    <tr>\n",
       "      <th>21</th>\n",
       "      <td>MONTH_3</td>\n",
       "      <td>0.000000</td>\n",
       "    </tr>\n",
       "    <tr>\n",
       "      <th>22</th>\n",
       "      <td>MONTH_4</td>\n",
       "      <td>0.000000</td>\n",
       "    </tr>\n",
       "    <tr>\n",
       "      <th>23</th>\n",
       "      <td>DESTINATION_AIRPORT_TYPE_Very Low</td>\n",
       "      <td>0.000000</td>\n",
       "    </tr>\n",
       "    <tr>\n",
       "      <th>24</th>\n",
       "      <td>MONTH_7</td>\n",
       "      <td>0.000000</td>\n",
       "    </tr>\n",
       "    <tr>\n",
       "      <th>25</th>\n",
       "      <td>MONTH_8</td>\n",
       "      <td>0.000000</td>\n",
       "    </tr>\n",
       "    <tr>\n",
       "      <th>26</th>\n",
       "      <td>MONTH_9</td>\n",
       "      <td>0.000000</td>\n",
       "    </tr>\n",
       "    <tr>\n",
       "      <th>27</th>\n",
       "      <td>MONTH_10</td>\n",
       "      <td>0.000000</td>\n",
       "    </tr>\n",
       "    <tr>\n",
       "      <th>28</th>\n",
       "      <td>MONTH_11</td>\n",
       "      <td>0.000000</td>\n",
       "    </tr>\n",
       "    <tr>\n",
       "      <th>29</th>\n",
       "      <td>DAY_OF_WEEK_1</td>\n",
       "      <td>0.000000</td>\n",
       "    </tr>\n",
       "    <tr>\n",
       "      <th>30</th>\n",
       "      <td>ORIGIN_AIRPORT_TYPE_Low</td>\n",
       "      <td>0.000000</td>\n",
       "    </tr>\n",
       "    <tr>\n",
       "      <th>31</th>\n",
       "      <td>DESTINATION_AIRPORT_TYPE_Medium</td>\n",
       "      <td>0.000000</td>\n",
       "    </tr>\n",
       "    <tr>\n",
       "      <th>32</th>\n",
       "      <td>DESTINATION_AIRPORT_TYPE_Low</td>\n",
       "      <td>0.000000</td>\n",
       "    </tr>\n",
       "    <tr>\n",
       "      <th>33</th>\n",
       "      <td>SECURITY_DELAY</td>\n",
       "      <td>0.000000</td>\n",
       "    </tr>\n",
       "    <tr>\n",
       "      <th>34</th>\n",
       "      <td>AIRLINE_Alaska Airlines Inc.</td>\n",
       "      <td>0.000000</td>\n",
       "    </tr>\n",
       "    <tr>\n",
       "      <th>35</th>\n",
       "      <td>AIRLINE_American Airlines Inc.</td>\n",
       "      <td>0.000000</td>\n",
       "    </tr>\n",
       "    <tr>\n",
       "      <th>36</th>\n",
       "      <td>AIRLINE_American Eagle Airlines Inc.</td>\n",
       "      <td>0.000000</td>\n",
       "    </tr>\n",
       "    <tr>\n",
       "      <th>37</th>\n",
       "      <td>AIRLINE_Atlantic Southeast Airlines</td>\n",
       "      <td>0.000000</td>\n",
       "    </tr>\n",
       "    <tr>\n",
       "      <th>38</th>\n",
       "      <td>AIRLINE_Delta Air Lines Inc.</td>\n",
       "      <td>0.000000</td>\n",
       "    </tr>\n",
       "    <tr>\n",
       "      <th>39</th>\n",
       "      <td>AIRLINE_Frontier Airlines Inc.</td>\n",
       "      <td>0.000000</td>\n",
       "    </tr>\n",
       "    <tr>\n",
       "      <th>40</th>\n",
       "      <td>AIRLINE_Hawaiian Airlines Inc.</td>\n",
       "      <td>0.000000</td>\n",
       "    </tr>\n",
       "    <tr>\n",
       "      <th>41</th>\n",
       "      <td>AIRLINE_JetBlue Airways</td>\n",
       "      <td>0.000000</td>\n",
       "    </tr>\n",
       "    <tr>\n",
       "      <th>42</th>\n",
       "      <td>AIRLINE_Skywest Airlines Inc.</td>\n",
       "      <td>0.000000</td>\n",
       "    </tr>\n",
       "    <tr>\n",
       "      <th>43</th>\n",
       "      <td>AIRLINE_Spirit Air Lines</td>\n",
       "      <td>0.000000</td>\n",
       "    </tr>\n",
       "    <tr>\n",
       "      <th>44</th>\n",
       "      <td>AIRLINE_US Airways Inc.</td>\n",
       "      <td>0.000000</td>\n",
       "    </tr>\n",
       "    <tr>\n",
       "      <th>45</th>\n",
       "      <td>AIRLINE_Virgin America</td>\n",
       "      <td>0.000000</td>\n",
       "    </tr>\n",
       "    <tr>\n",
       "      <th>46</th>\n",
       "      <td>ORIGIN_AIRPORT_TYPE_High</td>\n",
       "      <td>0.000000</td>\n",
       "    </tr>\n",
       "    <tr>\n",
       "      <th>47</th>\n",
       "      <td>ORIGIN_AIRPORT_TYPE_Medium</td>\n",
       "      <td>0.000000</td>\n",
       "    </tr>\n",
       "    <tr>\n",
       "      <th>48</th>\n",
       "      <td>ORIGIN_AIRPORT_TYPE_Very Low</td>\n",
       "      <td>0.000000</td>\n",
       "    </tr>\n",
       "    <tr>\n",
       "      <th>49</th>\n",
       "      <td>DESTINATION_AIRPORT_TYPE_High</td>\n",
       "      <td>0.000000</td>\n",
       "    </tr>\n",
       "    <tr>\n",
       "      <th>50</th>\n",
       "      <td>MONTH_12</td>\n",
       "      <td>0.000000</td>\n",
       "    </tr>\n",
       "  </tbody>\n",
       "</table>\n",
       "</div>"
      ],
      "text/plain": [
       "                                 feature  feature_importance\n",
       "0                          ARRIVAL_DELAY            0.748387\n",
       "1                    LATE_AIRCRAFT_DELAY            0.094194\n",
       "2                          AIRLINE_DELAY            0.061741\n",
       "3                         SCHEDULED_TIME            0.033721\n",
       "4                    SCHEDULED_DEPARTURE            0.013259\n",
       "5          AIRLINE_United Air Lines Inc.            0.012403\n",
       "6                               DISTANCE            0.009914\n",
       "7                          WEATHER_DELAY            0.008912\n",
       "8                       AIR_SYSTEM_DELAY            0.006253\n",
       "9         AIRLINE_Southwest Airlines Co.            0.006188\n",
       "10                               MONTH_6            0.004362\n",
       "11                     SCHEDULED_ARRIVAL            0.000666\n",
       "12                         DAY_OF_WEEK_2            0.000000\n",
       "13                         DAY_OF_WEEK_3            0.000000\n",
       "14                         DAY_OF_WEEK_4            0.000000\n",
       "15                         DAY_OF_WEEK_5            0.000000\n",
       "16                         DAY_OF_WEEK_6            0.000000\n",
       "17                         DAY_OF_WEEK_7            0.000000\n",
       "18                               MONTH_1            0.000000\n",
       "19                               MONTH_5            0.000000\n",
       "20                               MONTH_2            0.000000\n",
       "21                               MONTH_3            0.000000\n",
       "22                               MONTH_4            0.000000\n",
       "23     DESTINATION_AIRPORT_TYPE_Very Low            0.000000\n",
       "24                               MONTH_7            0.000000\n",
       "25                               MONTH_8            0.000000\n",
       "26                               MONTH_9            0.000000\n",
       "27                              MONTH_10            0.000000\n",
       "28                              MONTH_11            0.000000\n",
       "29                         DAY_OF_WEEK_1            0.000000\n",
       "30               ORIGIN_AIRPORT_TYPE_Low            0.000000\n",
       "31       DESTINATION_AIRPORT_TYPE_Medium            0.000000\n",
       "32          DESTINATION_AIRPORT_TYPE_Low            0.000000\n",
       "33                        SECURITY_DELAY            0.000000\n",
       "34          AIRLINE_Alaska Airlines Inc.            0.000000\n",
       "35        AIRLINE_American Airlines Inc.            0.000000\n",
       "36  AIRLINE_American Eagle Airlines Inc.            0.000000\n",
       "37   AIRLINE_Atlantic Southeast Airlines            0.000000\n",
       "38          AIRLINE_Delta Air Lines Inc.            0.000000\n",
       "39        AIRLINE_Frontier Airlines Inc.            0.000000\n",
       "40        AIRLINE_Hawaiian Airlines Inc.            0.000000\n",
       "41               AIRLINE_JetBlue Airways            0.000000\n",
       "42         AIRLINE_Skywest Airlines Inc.            0.000000\n",
       "43              AIRLINE_Spirit Air Lines            0.000000\n",
       "44               AIRLINE_US Airways Inc.            0.000000\n",
       "45                AIRLINE_Virgin America            0.000000\n",
       "46              ORIGIN_AIRPORT_TYPE_High            0.000000\n",
       "47            ORIGIN_AIRPORT_TYPE_Medium            0.000000\n",
       "48          ORIGIN_AIRPORT_TYPE_Very Low            0.000000\n",
       "49         DESTINATION_AIRPORT_TYPE_High            0.000000\n",
       "50                              MONTH_12            0.000000"
      ]
     },
     "execution_count": 47,
     "metadata": {},
     "output_type": "execute_result"
    }
   ],
   "source": [
    "#Look at feature importance for the tuned decision tree  \n",
    "overall_features = features_df(X_train.columns, dttuned.feature_importances_)\n",
    "overall_features"
   ]
  },
  {
   "cell_type": "markdown",
   "metadata": {},
   "source": [
    "Many of the features have a feature importance of 0 in our decision tree. Before we plot the features on a graph, I will filter out the values that have 0 so we can have a cleaner visual as to which features are important in the results of our decision tree."
   ]
  },
  {
   "cell_type": "code",
   "execution_count": 48,
   "metadata": {},
   "outputs": [],
   "source": [
    "#Create new dataframe of all non-zero features \n",
    "overall_features_2 = overall_features[overall_features['feature_importance']>0]"
   ]
  },
  {
   "cell_type": "code",
   "execution_count": 49,
   "metadata": {},
   "outputs": [
    {
     "data": {
      "text/html": [
       "<div>\n",
       "<style scoped>\n",
       "    .dataframe tbody tr th:only-of-type {\n",
       "        vertical-align: middle;\n",
       "    }\n",
       "\n",
       "    .dataframe tbody tr th {\n",
       "        vertical-align: top;\n",
       "    }\n",
       "\n",
       "    .dataframe thead th {\n",
       "        text-align: right;\n",
       "    }\n",
       "</style>\n",
       "<table border=\"1\" class=\"dataframe\">\n",
       "  <thead>\n",
       "    <tr style=\"text-align: right;\">\n",
       "      <th></th>\n",
       "      <th>feature</th>\n",
       "      <th>feature_importance</th>\n",
       "    </tr>\n",
       "  </thead>\n",
       "  <tbody>\n",
       "    <tr>\n",
       "      <th>0</th>\n",
       "      <td>ARRIVAL_DELAY</td>\n",
       "      <td>0.748387</td>\n",
       "    </tr>\n",
       "    <tr>\n",
       "      <th>1</th>\n",
       "      <td>LATE_AIRCRAFT_DELAY</td>\n",
       "      <td>0.094194</td>\n",
       "    </tr>\n",
       "    <tr>\n",
       "      <th>2</th>\n",
       "      <td>AIRLINE_DELAY</td>\n",
       "      <td>0.061741</td>\n",
       "    </tr>\n",
       "    <tr>\n",
       "      <th>3</th>\n",
       "      <td>SCHEDULED_TIME</td>\n",
       "      <td>0.033721</td>\n",
       "    </tr>\n",
       "    <tr>\n",
       "      <th>4</th>\n",
       "      <td>SCHEDULED_DEPARTURE</td>\n",
       "      <td>0.013259</td>\n",
       "    </tr>\n",
       "    <tr>\n",
       "      <th>5</th>\n",
       "      <td>AIRLINE_United Air Lines Inc.</td>\n",
       "      <td>0.012403</td>\n",
       "    </tr>\n",
       "    <tr>\n",
       "      <th>6</th>\n",
       "      <td>DISTANCE</td>\n",
       "      <td>0.009914</td>\n",
       "    </tr>\n",
       "    <tr>\n",
       "      <th>7</th>\n",
       "      <td>WEATHER_DELAY</td>\n",
       "      <td>0.008912</td>\n",
       "    </tr>\n",
       "    <tr>\n",
       "      <th>8</th>\n",
       "      <td>AIR_SYSTEM_DELAY</td>\n",
       "      <td>0.006253</td>\n",
       "    </tr>\n",
       "    <tr>\n",
       "      <th>9</th>\n",
       "      <td>AIRLINE_Southwest Airlines Co.</td>\n",
       "      <td>0.006188</td>\n",
       "    </tr>\n",
       "    <tr>\n",
       "      <th>10</th>\n",
       "      <td>MONTH_6</td>\n",
       "      <td>0.004362</td>\n",
       "    </tr>\n",
       "    <tr>\n",
       "      <th>11</th>\n",
       "      <td>SCHEDULED_ARRIVAL</td>\n",
       "      <td>0.000666</td>\n",
       "    </tr>\n",
       "  </tbody>\n",
       "</table>\n",
       "</div>"
      ],
      "text/plain": [
       "                           feature  feature_importance\n",
       "0                    ARRIVAL_DELAY            0.748387\n",
       "1              LATE_AIRCRAFT_DELAY            0.094194\n",
       "2                    AIRLINE_DELAY            0.061741\n",
       "3                   SCHEDULED_TIME            0.033721\n",
       "4              SCHEDULED_DEPARTURE            0.013259\n",
       "5    AIRLINE_United Air Lines Inc.            0.012403\n",
       "6                         DISTANCE            0.009914\n",
       "7                    WEATHER_DELAY            0.008912\n",
       "8                 AIR_SYSTEM_DELAY            0.006253\n",
       "9   AIRLINE_Southwest Airlines Co.            0.006188\n",
       "10                         MONTH_6            0.004362\n",
       "11               SCHEDULED_ARRIVAL            0.000666"
      ]
     },
     "execution_count": 49,
     "metadata": {},
     "output_type": "execute_result"
    }
   ],
   "source": [
    "#Print the. dataframe\n",
    "overall_features_2"
   ]
  },
  {
   "cell_type": "code",
   "execution_count": 50,
   "metadata": {},
   "outputs": [
    {
     "data": {
      "image/png": "[encoded data removed]",
      "text/plain": [
       "<Figure size 432x288 with 1 Axes>"
      ]
     },
     "metadata": {
      "needs_background": "light"
     },
     "output_type": "display_data"
    }
   ],
   "source": [
    "#Plot the feature importances \n",
    "features_plot(overall_features_2, 'Feature Importances')"
   ]
  },
  {
   "cell_type": "markdown",
   "metadata": {},
   "source": [
    "The top 3 features in the plot above are particularly noteworthy; arrival delay, late aircraft delay, and airline delay are the more important features in this model. Unsurprisingly, an arrival delay would be important when classifying a departure delay. Next, the top two features that are useful in our predictive analysis are late aircraft delays and airline delays. We also see that of all the airlines, United Air Lines is the highest feature of importance in the model. This concludes that while issues with weather, security, and airport delays could be highly influential in determining a departure delay, our model indicates that late aircrafts and airline delays are of higher importance in our model."
   ]
  },
  {
   "cell_type": "markdown",
   "metadata": {},
   "source": [
    "### 2. XGBoost"
   ]
  },
  {
   "cell_type": "code",
   "execution_count": 51,
   "metadata": {},
   "outputs": [
    {
     "data": {
      "text/plain": [
       "{'model': 'XGBoost',\n",
       " 'train_accuracy': 0.833,\n",
       " 'train_precision': 0.815,\n",
       " 'train_recall': 0.695,\n",
       " 'train_f1': 0.75,\n",
       " 'test_accuracy': 0.821,\n",
       " 'test_precision': 0.803,\n",
       " 'test_recall': 0.673,\n",
       " 'test_f1': 0.732}"
      ]
     },
     "execution_count": 51,
     "metadata": {},
     "output_type": "execute_result"
    }
   ],
   "source": [
    "#Preview XGBoost results again \n",
    "xgbresult"
   ]
  },
  {
   "cell_type": "code",
   "execution_count": 52,
   "metadata": {
    "scrolled": true
   },
   "outputs": [],
   "source": [
    "#Build parameter grid to be used in GridSearch to find the best hyperparameters\n",
    "param_grid = {\n",
    "    'max_depth': [1, 5, 8],\n",
    "    'learning_rate': [.1, .15, 1], \n",
    "    'subsample': [.5, .9],\n",
    "    'min_split_loss': [1, 3, 5],\n",
    "    'n_estimators': [100, 500, 1000]\n",
    "}\n",
    "gs_xgb = GridSearchCV(xgb, param_grid, scoring='recall', cv=3)\n",
    "\n"
   ]
  },
  {
   "cell_type": "code",
   "execution_count": 53,
   "metadata": {},
   "outputs": [
    {
     "data": {
      "text/plain": [
       "GridSearchCV(cv=3, estimator=XGBClassifier(),\n",
       "             param_grid={'learning_rate': [0.1, 0.15, 1],\n",
       "                         'max_depth': [1, 5, 8], 'min_split_loss': [1, 3, 5],\n",
       "                         'n_estimators': [100, 500, 1000],\n",
       "                         'subsample': [0.5, 0.9]},\n",
       "             scoring='recall')"
      ]
     },
     "execution_count": 53,
     "metadata": {},
     "output_type": "execute_result"
    }
   ],
   "source": [
    "# Fit the gridsearched with our X and Y resampled data \n",
    "gs_xgb.fit(X_train_resampled, y_train_resampled)"
   ]
  },
  {
   "cell_type": "code",
   "execution_count": 54,
   "metadata": {},
   "outputs": [
    {
     "name": "stdout",
     "output_type": "stream",
     "text": [
      "Train Recall: 0.8020898804347628\n",
      "Test Recall: 0.6750823271130626\n",
      "{'learning_rate': 1, 'max_depth': 8, 'min_split_loss': 3, 'n_estimators': 1000, 'subsample': 0.9}\n"
     ]
    }
   ],
   "source": [
    "#Display the best possible recall results as well as the best parameters\n",
    "print(f'Train Recall: {gs_xgb.best_score_}')\n",
    "xgbtest_recall = recall_score(y_test, gs_xgb.predict(X_test))\n",
    "print(f'Test Recall: {xgbtest_recall}')\n",
    "print(gs_xgb.best_params_)"
   ]
  },
  {
   "cell_type": "code",
   "execution_count": 55,
   "metadata": {},
   "outputs": [
    {
     "name": "stdout",
     "output_type": "stream",
     "text": [
      "Mean XGboost Cross-Val Score (k=3):  82.17%\n"
     ]
    }
   ],
   "source": [
    "#Look at another performance measure: mean 3-Fold cross validation score \n",
    "xgb_mean_cv = cross_val_score(xgb, X, y, cv=3).mean()\n",
    "\n",
    "print(f\"Mean XGboost Cross-Val Score (k=3): {xgb_mean_cv: .2%}\")"
   ]
  },
  {
   "cell_type": "code",
   "execution_count": 56,
   "metadata": {},
   "outputs": [],
   "source": [
    "#Instansiate an XGB model with the best parameters as indicated above\n",
    "xgbtuned = XGBClassifier(learning_rate=1, max_depth=5, \n",
    "                         min_split_loss=1, n_estimators=1000, subsample=0.9)"
   ]
  },
  {
   "cell_type": "code",
   "execution_count": 57,
   "metadata": {
    "scrolled": true
   },
   "outputs": [
    {
     "name": "stdout",
     "output_type": "stream",
     "text": [
      "\n",
      "\n",
      "Train Score Results\n",
      "              precision    recall  f1-score   support\n",
      "\n",
      "           0       1.00      1.00      1.00      4795\n",
      "           1       1.00      1.00      1.00      2705\n",
      "\n",
      "    accuracy                           1.00      7500\n",
      "   macro avg       1.00      1.00      1.00      7500\n",
      "weighted avg       1.00      1.00      1.00      7500\n",
      "\n",
      "Train Set Accuracy: 1.0\n",
      "Train Set Precision: 1.0\n",
      "Train Set Recall: 1.0\n",
      "Train Set F1-Score: 1.0\n",
      "\n",
      "\n",
      "Test Score Results\n",
      "              precision    recall  f1-score   support\n",
      "\n",
      "           0       0.82      0.86      0.84      1589\n",
      "           1       0.73      0.67      0.70       911\n",
      "\n",
      "    accuracy                           0.79      2500\n",
      "   macro avg       0.77      0.76      0.77      2500\n",
      "weighted avg       0.79      0.79      0.79      2500\n",
      "\n",
      "Test Set Accuracy: 0.79\n",
      "Test Set Precision: 0.731\n",
      "Test Set Recall: 0.67\n",
      "Test Set F1-Score: 0.699\n",
      "\n",
      "\n"
     ]
    },
    {
     "data": {
      "image/png": "[encoded data removed]",
      "text/plain": [
       "<Figure size 432x288 with 4 Axes>"
      ]
     },
     "metadata": {
      "needs_background": "light"
     },
     "output_type": "display_data"
    }
   ],
   "source": [
    "#Apply the model fit function to the tuned XGB Classifier\n",
    "xgbtunedresult = model_fit(X_train, y_train, X_train, y_train, X_test, y_test, xgbtuned, 'XGBoost Tuned')"
   ]
  },
  {
   "cell_type": "code",
   "execution_count": 58,
   "metadata": {
    "scrolled": true
   },
   "outputs": [
    {
     "data": {
      "text/html": [
       "<div>\n",
       "<style scoped>\n",
       "    .dataframe tbody tr th:only-of-type {\n",
       "        vertical-align: middle;\n",
       "    }\n",
       "\n",
       "    .dataframe tbody tr th {\n",
       "        vertical-align: top;\n",
       "    }\n",
       "\n",
       "    .dataframe thead th {\n",
       "        text-align: right;\n",
       "    }\n",
       "</style>\n",
       "<table border=\"1\" class=\"dataframe\">\n",
       "  <thead>\n",
       "    <tr style=\"text-align: right;\">\n",
       "      <th></th>\n",
       "      <th>feature</th>\n",
       "      <th>feature_importance</th>\n",
       "    </tr>\n",
       "  </thead>\n",
       "  <tbody>\n",
       "    <tr>\n",
       "      <th>0</th>\n",
       "      <td>LATE_AIRCRAFT_DELAY</td>\n",
       "      <td>0.213489</td>\n",
       "    </tr>\n",
       "    <tr>\n",
       "      <th>1</th>\n",
       "      <td>AIRLINE_DELAY</td>\n",
       "      <td>0.130776</td>\n",
       "    </tr>\n",
       "    <tr>\n",
       "      <th>2</th>\n",
       "      <td>WEATHER_DELAY</td>\n",
       "      <td>0.073675</td>\n",
       "    </tr>\n",
       "    <tr>\n",
       "      <th>3</th>\n",
       "      <td>ARRIVAL_DELAY</td>\n",
       "      <td>0.052334</td>\n",
       "    </tr>\n",
       "    <tr>\n",
       "      <th>4</th>\n",
       "      <td>AIRLINE_Hawaiian Airlines Inc.</td>\n",
       "      <td>0.027369</td>\n",
       "    </tr>\n",
       "    <tr>\n",
       "      <th>5</th>\n",
       "      <td>AIRLINE_United Air Lines Inc.</td>\n",
       "      <td>0.023610</td>\n",
       "    </tr>\n",
       "    <tr>\n",
       "      <th>6</th>\n",
       "      <td>AIRLINE_Southwest Airlines Co.</td>\n",
       "      <td>0.019214</td>\n",
       "    </tr>\n",
       "    <tr>\n",
       "      <th>7</th>\n",
       "      <td>AIR_SYSTEM_DELAY</td>\n",
       "      <td>0.018864</td>\n",
       "    </tr>\n",
       "    <tr>\n",
       "      <th>8</th>\n",
       "      <td>MONTH_6</td>\n",
       "      <td>0.015491</td>\n",
       "    </tr>\n",
       "    <tr>\n",
       "      <th>9</th>\n",
       "      <td>AIRLINE_US Airways Inc.</td>\n",
       "      <td>0.014410</td>\n",
       "    </tr>\n",
       "    <tr>\n",
       "      <th>10</th>\n",
       "      <td>MONTH_7</td>\n",
       "      <td>0.014227</td>\n",
       "    </tr>\n",
       "    <tr>\n",
       "      <th>11</th>\n",
       "      <td>DAY_OF_WEEK_2</td>\n",
       "      <td>0.013150</td>\n",
       "    </tr>\n",
       "    <tr>\n",
       "      <th>12</th>\n",
       "      <td>AIRLINE_Skywest Airlines Inc.</td>\n",
       "      <td>0.012971</td>\n",
       "    </tr>\n",
       "    <tr>\n",
       "      <th>13</th>\n",
       "      <td>AIRLINE_American Eagle Airlines Inc.</td>\n",
       "      <td>0.012582</td>\n",
       "    </tr>\n",
       "    <tr>\n",
       "      <th>14</th>\n",
       "      <td>ORIGIN_AIRPORT_TYPE_Low</td>\n",
       "      <td>0.012242</td>\n",
       "    </tr>\n",
       "    <tr>\n",
       "      <th>15</th>\n",
       "      <td>AIRLINE_Alaska Airlines Inc.</td>\n",
       "      <td>0.011804</td>\n",
       "    </tr>\n",
       "    <tr>\n",
       "      <th>16</th>\n",
       "      <td>AIRLINE_Atlantic Southeast Airlines</td>\n",
       "      <td>0.011737</td>\n",
       "    </tr>\n",
       "    <tr>\n",
       "      <th>17</th>\n",
       "      <td>MONTH_1</td>\n",
       "      <td>0.011726</td>\n",
       "    </tr>\n",
       "    <tr>\n",
       "      <th>18</th>\n",
       "      <td>AIRLINE_Virgin America</td>\n",
       "      <td>0.011501</td>\n",
       "    </tr>\n",
       "    <tr>\n",
       "      <th>19</th>\n",
       "      <td>SCHEDULED_TIME</td>\n",
       "      <td>0.011358</td>\n",
       "    </tr>\n",
       "    <tr>\n",
       "      <th>20</th>\n",
       "      <td>AIRLINE_Delta Air Lines Inc.</td>\n",
       "      <td>0.011327</td>\n",
       "    </tr>\n",
       "    <tr>\n",
       "      <th>21</th>\n",
       "      <td>AIRLINE_JetBlue Airways</td>\n",
       "      <td>0.011190</td>\n",
       "    </tr>\n",
       "    <tr>\n",
       "      <th>22</th>\n",
       "      <td>ORIGIN_AIRPORT_TYPE_Very Low</td>\n",
       "      <td>0.011164</td>\n",
       "    </tr>\n",
       "    <tr>\n",
       "      <th>23</th>\n",
       "      <td>DESTINATION_AIRPORT_TYPE_Medium</td>\n",
       "      <td>0.011124</td>\n",
       "    </tr>\n",
       "    <tr>\n",
       "      <th>24</th>\n",
       "      <td>DAY_OF_WEEK_3</td>\n",
       "      <td>0.011102</td>\n",
       "    </tr>\n",
       "    <tr>\n",
       "      <th>25</th>\n",
       "      <td>AIRLINE_American Airlines Inc.</td>\n",
       "      <td>0.010972</td>\n",
       "    </tr>\n",
       "    <tr>\n",
       "      <th>26</th>\n",
       "      <td>AIRLINE_Frontier Airlines Inc.</td>\n",
       "      <td>0.010875</td>\n",
       "    </tr>\n",
       "    <tr>\n",
       "      <th>27</th>\n",
       "      <td>ORIGIN_AIRPORT_TYPE_High</td>\n",
       "      <td>0.010729</td>\n",
       "    </tr>\n",
       "    <tr>\n",
       "      <th>28</th>\n",
       "      <td>ORIGIN_AIRPORT_TYPE_Medium</td>\n",
       "      <td>0.010714</td>\n",
       "    </tr>\n",
       "    <tr>\n",
       "      <th>29</th>\n",
       "      <td>SCHEDULED_DEPARTURE</td>\n",
       "      <td>0.010667</td>\n",
       "    </tr>\n",
       "    <tr>\n",
       "      <th>30</th>\n",
       "      <td>DAY_OF_WEEK_1</td>\n",
       "      <td>0.010618</td>\n",
       "    </tr>\n",
       "    <tr>\n",
       "      <th>31</th>\n",
       "      <td>DESTINATION_AIRPORT_TYPE_Low</td>\n",
       "      <td>0.010446</td>\n",
       "    </tr>\n",
       "    <tr>\n",
       "      <th>32</th>\n",
       "      <td>DAY_OF_WEEK_4</td>\n",
       "      <td>0.010188</td>\n",
       "    </tr>\n",
       "    <tr>\n",
       "      <th>33</th>\n",
       "      <td>AIRLINE_Spirit Air Lines</td>\n",
       "      <td>0.010110</td>\n",
       "    </tr>\n",
       "    <tr>\n",
       "      <th>34</th>\n",
       "      <td>SCHEDULED_ARRIVAL</td>\n",
       "      <td>0.009921</td>\n",
       "    </tr>\n",
       "    <tr>\n",
       "      <th>35</th>\n",
       "      <td>DESTINATION_AIRPORT_TYPE_Very Low</td>\n",
       "      <td>0.009686</td>\n",
       "    </tr>\n",
       "    <tr>\n",
       "      <th>36</th>\n",
       "      <td>DISTANCE</td>\n",
       "      <td>0.009681</td>\n",
       "    </tr>\n",
       "    <tr>\n",
       "      <th>37</th>\n",
       "      <td>DAY_OF_WEEK_6</td>\n",
       "      <td>0.009369</td>\n",
       "    </tr>\n",
       "    <tr>\n",
       "      <th>38</th>\n",
       "      <td>DESTINATION_AIRPORT_TYPE_High</td>\n",
       "      <td>0.009301</td>\n",
       "    </tr>\n",
       "    <tr>\n",
       "      <th>39</th>\n",
       "      <td>MONTH_8</td>\n",
       "      <td>0.009218</td>\n",
       "    </tr>\n",
       "    <tr>\n",
       "      <th>40</th>\n",
       "      <td>MONTH_11</td>\n",
       "      <td>0.008800</td>\n",
       "    </tr>\n",
       "    <tr>\n",
       "      <th>41</th>\n",
       "      <td>DAY_OF_WEEK_5</td>\n",
       "      <td>0.008699</td>\n",
       "    </tr>\n",
       "    <tr>\n",
       "      <th>42</th>\n",
       "      <td>MONTH_9</td>\n",
       "      <td>0.008420</td>\n",
       "    </tr>\n",
       "    <tr>\n",
       "      <th>43</th>\n",
       "      <td>MONTH_10</td>\n",
       "      <td>0.008344</td>\n",
       "    </tr>\n",
       "    <tr>\n",
       "      <th>44</th>\n",
       "      <td>MONTH_5</td>\n",
       "      <td>0.008166</td>\n",
       "    </tr>\n",
       "    <tr>\n",
       "      <th>45</th>\n",
       "      <td>MONTH_12</td>\n",
       "      <td>0.007888</td>\n",
       "    </tr>\n",
       "    <tr>\n",
       "      <th>46</th>\n",
       "      <td>MONTH_4</td>\n",
       "      <td>0.007504</td>\n",
       "    </tr>\n",
       "    <tr>\n",
       "      <th>47</th>\n",
       "      <td>MONTH_3</td>\n",
       "      <td>0.007280</td>\n",
       "    </tr>\n",
       "    <tr>\n",
       "      <th>48</th>\n",
       "      <td>MONTH_2</td>\n",
       "      <td>0.007252</td>\n",
       "    </tr>\n",
       "    <tr>\n",
       "      <th>49</th>\n",
       "      <td>DAY_OF_WEEK_7</td>\n",
       "      <td>0.006714</td>\n",
       "    </tr>\n",
       "    <tr>\n",
       "      <th>50</th>\n",
       "      <td>SECURITY_DELAY</td>\n",
       "      <td>0.000000</td>\n",
       "    </tr>\n",
       "  </tbody>\n",
       "</table>\n",
       "</div>"
      ],
      "text/plain": [
       "                                 feature  feature_importance\n",
       "0                    LATE_AIRCRAFT_DELAY            0.213489\n",
       "1                          AIRLINE_DELAY            0.130776\n",
       "2                          WEATHER_DELAY            0.073675\n",
       "3                          ARRIVAL_DELAY            0.052334\n",
       "4         AIRLINE_Hawaiian Airlines Inc.            0.027369\n",
       "5          AIRLINE_United Air Lines Inc.            0.023610\n",
       "6         AIRLINE_Southwest Airlines Co.            0.019214\n",
       "7                       AIR_SYSTEM_DELAY            0.018864\n",
       "8                                MONTH_6            0.015491\n",
       "9                AIRLINE_US Airways Inc.            0.014410\n",
       "10                               MONTH_7            0.014227\n",
       "11                         DAY_OF_WEEK_2            0.013150\n",
       "12         AIRLINE_Skywest Airlines Inc.            0.012971\n",
       "13  AIRLINE_American Eagle Airlines Inc.            0.012582\n",
       "14               ORIGIN_AIRPORT_TYPE_Low            0.012242\n",
       "15          AIRLINE_Alaska Airlines Inc.            0.011804\n",
       "16   AIRLINE_Atlantic Southeast Airlines            0.011737\n",
       "17                               MONTH_1            0.011726\n",
       "18                AIRLINE_Virgin America            0.011501\n",
       "19                        SCHEDULED_TIME            0.011358\n",
       "20          AIRLINE_Delta Air Lines Inc.            0.011327\n",
       "21               AIRLINE_JetBlue Airways            0.011190\n",
       "22          ORIGIN_AIRPORT_TYPE_Very Low            0.011164\n",
       "23       DESTINATION_AIRPORT_TYPE_Medium            0.011124\n",
       "24                         DAY_OF_WEEK_3            0.011102\n",
       "25        AIRLINE_American Airlines Inc.            0.010972\n",
       "26        AIRLINE_Frontier Airlines Inc.            0.010875\n",
       "27              ORIGIN_AIRPORT_TYPE_High            0.010729\n",
       "28            ORIGIN_AIRPORT_TYPE_Medium            0.010714\n",
       "29                   SCHEDULED_DEPARTURE            0.010667\n",
       "30                         DAY_OF_WEEK_1            0.010618\n",
       "31          DESTINATION_AIRPORT_TYPE_Low            0.010446\n",
       "32                         DAY_OF_WEEK_4            0.010188\n",
       "33              AIRLINE_Spirit Air Lines            0.010110\n",
       "34                     SCHEDULED_ARRIVAL            0.009921\n",
       "35     DESTINATION_AIRPORT_TYPE_Very Low            0.009686\n",
       "36                              DISTANCE            0.009681\n",
       "37                         DAY_OF_WEEK_6            0.009369\n",
       "38         DESTINATION_AIRPORT_TYPE_High            0.009301\n",
       "39                               MONTH_8            0.009218\n",
       "40                              MONTH_11            0.008800\n",
       "41                         DAY_OF_WEEK_5            0.008699\n",
       "42                               MONTH_9            0.008420\n",
       "43                              MONTH_10            0.008344\n",
       "44                               MONTH_5            0.008166\n",
       "45                              MONTH_12            0.007888\n",
       "46                               MONTH_4            0.007504\n",
       "47                               MONTH_3            0.007280\n",
       "48                               MONTH_2            0.007252\n",
       "49                         DAY_OF_WEEK_7            0.006714\n",
       "50                        SECURITY_DELAY            0.000000"
      ]
     },
     "execution_count": 58,
     "metadata": {},
     "output_type": "execute_result"
    }
   ],
   "source": [
    "#Look at feature importance for the decision tree for the tuned model\n",
    "xgbtuned_features = features_df(X_train.columns, xgbtuned.feature_importances_)\n",
    "xgbtuned_features"
   ]
  },
  {
   "cell_type": "markdown",
   "metadata": {},
   "source": [
    "Similar to the decision tree tuned model, \"Late Aircraft Delay\" and \"Airline Delay\" are the top feature importances. Here, however, \"Arrival Delay\" is not as high of importance. Again we see that United Air Lines has higher importance than other airlines, however the value for this is quite low, at 0.054."
   ]
  },
  {
   "cell_type": "markdown",
   "metadata": {},
   "source": [
    "## Conclusion and Recommendations"
   ]
  },
  {
   "cell_type": "markdown",
   "metadata": {},
   "source": [
    "In order to interpret the results, it is crucial that we compare both the train and test results from the tuned models to the results from the vanilla models. I will build a DataFrame that shows these results side by side so that the interpretation is as reader-friendly as possible. "
   ]
  },
  {
   "cell_type": "code",
   "execution_count": 59,
   "metadata": {},
   "outputs": [],
   "source": [
    "#Create list of results for vanilla and tuned models for Decision Trees and XGBoost \n",
    "result_list_updated = [decisiontreeresult, dttunedresult, xgbresult, xgbtunedresult]"
   ]
  },
  {
   "cell_type": "code",
   "execution_count": 60,
   "metadata": {},
   "outputs": [],
   "source": [
    "#Convert results into a dataframe\n",
    "df_results_updated = pd.DataFrame.from_dict(result_list_updated, orient='columns')\n",
    "df_results_updated = df_results_updated.set_index('model')"
   ]
  },
  {
   "cell_type": "code",
   "execution_count": 61,
   "metadata": {},
   "outputs": [
    {
     "data": {
      "text/html": [
       "<div>\n",
       "<style scoped>\n",
       "    .dataframe tbody tr th:only-of-type {\n",
       "        vertical-align: middle;\n",
       "    }\n",
       "\n",
       "    .dataframe tbody tr th {\n",
       "        vertical-align: top;\n",
       "    }\n",
       "\n",
       "    .dataframe thead th {\n",
       "        text-align: right;\n",
       "    }\n",
       "</style>\n",
       "<table border=\"1\" class=\"dataframe\">\n",
       "  <thead>\n",
       "    <tr style=\"text-align: right;\">\n",
       "      <th></th>\n",
       "      <th>train_accuracy</th>\n",
       "      <th>train_precision</th>\n",
       "      <th>train_recall</th>\n",
       "      <th>train_f1</th>\n",
       "      <th>test_accuracy</th>\n",
       "      <th>test_precision</th>\n",
       "      <th>test_recall</th>\n",
       "      <th>test_f1</th>\n",
       "    </tr>\n",
       "    <tr>\n",
       "      <th>model</th>\n",
       "      <th></th>\n",
       "      <th></th>\n",
       "      <th></th>\n",
       "      <th></th>\n",
       "      <th></th>\n",
       "      <th></th>\n",
       "      <th></th>\n",
       "      <th></th>\n",
       "    </tr>\n",
       "  </thead>\n",
       "  <tbody>\n",
       "    <tr>\n",
       "      <th>decisiontree</th>\n",
       "      <td>1.000</td>\n",
       "      <td>1.000</td>\n",
       "      <td>1.000</td>\n",
       "      <td>1.000</td>\n",
       "      <td>0.758</td>\n",
       "      <td>0.666</td>\n",
       "      <td>0.673</td>\n",
       "      <td>0.670</td>\n",
       "    </tr>\n",
       "    <tr>\n",
       "      <th>Decision Tree Tuned</th>\n",
       "      <td>0.825</td>\n",
       "      <td>0.840</td>\n",
       "      <td>0.635</td>\n",
       "      <td>0.724</td>\n",
       "      <td>0.811</td>\n",
       "      <td>0.829</td>\n",
       "      <td>0.607</td>\n",
       "      <td>0.701</td>\n",
       "    </tr>\n",
       "    <tr>\n",
       "      <th>XGBoost</th>\n",
       "      <td>0.833</td>\n",
       "      <td>0.815</td>\n",
       "      <td>0.695</td>\n",
       "      <td>0.750</td>\n",
       "      <td>0.821</td>\n",
       "      <td>0.803</td>\n",
       "      <td>0.673</td>\n",
       "      <td>0.732</td>\n",
       "    </tr>\n",
       "    <tr>\n",
       "      <th>XGBoost Tuned</th>\n",
       "      <td>1.000</td>\n",
       "      <td>1.000</td>\n",
       "      <td>1.000</td>\n",
       "      <td>1.000</td>\n",
       "      <td>0.790</td>\n",
       "      <td>0.731</td>\n",
       "      <td>0.670</td>\n",
       "      <td>0.699</td>\n",
       "    </tr>\n",
       "  </tbody>\n",
       "</table>\n",
       "</div>"
      ],
      "text/plain": [
       "                     train_accuracy  train_precision  train_recall  train_f1  \\\n",
       "model                                                                          \n",
       "decisiontree                  1.000            1.000         1.000     1.000   \n",
       "Decision Tree Tuned           0.825            0.840         0.635     0.724   \n",
       "XGBoost                       0.833            0.815         0.695     0.750   \n",
       "XGBoost Tuned                 1.000            1.000         1.000     1.000   \n",
       "\n",
       "                     test_accuracy  test_precision  test_recall  test_f1  \n",
       "model                                                                     \n",
       "decisiontree                 0.758           0.666        0.673    0.670  \n",
       "Decision Tree Tuned          0.811           0.829        0.607    0.701  \n",
       "XGBoost                      0.821           0.803        0.673    0.732  \n",
       "XGBoost Tuned                0.790           0.731        0.670    0.699  "
      ]
     },
     "execution_count": 61,
     "metadata": {},
     "output_type": "execute_result"
    }
   ],
   "source": [
    "#Print the DataFrame \n",
    "df_results_updated"
   ]
  },
  {
   "cell_type": "markdown",
   "metadata": {},
   "source": [
    "In the context of our model, we are looking to prioritize the recall of the model, and we do so by looking at the test set score results. When we prioritize recall, we are allowing for more false positives than false negatives; i.e., we are ensuring that we do not \"miss\" classifying any delayed flights incorrectly, so that all the values in the dataset that are delayed will be classified as delayed. This could introduce additional false positives in our model, but by maximizing recall we are minimizing false negatives, which is appropriate in our context. This is important as the FAA would like to be particularly careful when determining which flights are actually delayed so that their resources can be effectively distributed to necessary airlines and/or airports in order to maximize efficiency of the United States flights system. \n",
    "\n",
    "First, we looked at the decision tree model. Our vanilla decision tree model is overfit to our training data, as seen by perfect metric scores of 1 across all performance metrics for the train set, but this does not appear to be the case once our model has been tuned. The test recall score improved from 0.671 to 0.739 after tuning. There were slight increases in test accuracy, precision and f1 scores as well, although much smaller relative increases than the recall score. Additionally, our tuned decision tree's top feature importances were \"Arrival Delay\", \"Late Aircraft Delay\" and \"Airline Delay\". Our recommendation to the FAA is to invest in resources to mitigate these specific types of delays, as they are the most powerful in predicting whether a flight is delayed or not. While it does not appear that a specific airline has a higher impact in predicting a delayed flight over another, more research should be allocated to identify the specific factors that cause an \"Airline Delay\" in order to prevent these delays going forward. When looking at the train and test confusion matrices for our decision tree model, overall, our model does a fairly good job at correctly classifying our results. \n",
    "\n",
    "Next, we looked a the XGBoost model, whose test recall score only improved slightly after tuning. We also see a decrease in all the remaining test results; accuracy, precision and f1, therefore an increase in recall came at the expense of the other performance metrics. Interestingly, all of our train metrics in our tuned model had a result of 1; indicating that our model is overfit to our training data. Future work should look at altering the hyperparameters in the GridSearch in order to prevent overfitting, as well as optimize our XGBoost Tuned test recall further. Regardless, the feature importances of our XGBoost Tuned model do align with the decision tree results; \"Late Aircraft Delay\" and \"Airline Delay\" are both the highest feature importances for our model and prove to be strongly influential in predicting our classification results. \n",
    "\n",
    "In conclusion, we believe that the Decision Tree tuned model is the best at classifying our target variable, Departure Delay. Our final model does not appear to be overfit, and all of the test set performance metrics improved to some extent, most notably test_recall which is the element we are aiming to prioritize in the context of our business problem. As a result, the FAA should consider using this ML model when classifying future data points. Additionally, the FAA, along with the help of our team of strategists, will look into how resources can be reallocated in order to prevent delays particularly due to airline delays and late aircraft delays."
   ]
  },
  {
   "cell_type": "markdown",
   "metadata": {},
   "source": [
    "### Future Work"
   ]
  },
  {
   "cell_type": "markdown",
   "metadata": {},
   "source": [
    "There are several additional items that could be considered in future work: \n",
    "\n",
    "- Additional data cleaning: such as removing outliers, removing variables that are not highly correlated with the target variable. These techniques could be implemented before we process our models to see if there is an impact on the results.\n",
    "- After plotting the feature importance graph for both Decision Tree Classifier and XGBoost models, we could drop features of low importance (especially those with feature importance of 0). Then, I would rerun models to see how/if the results are any different once these features are removed. \n",
    "- Including more hyperparameters and further tuning of the model could potentially increase the test recall scores ever further. This is particularly relevant for XGBoost whose test recall score only improved slightly after the hyperparmeters were tuned. In particular, certain additional hyperparemeters could be included, such as \"colsample_by\" to subset columns either by tree, level or node, or \"sampling_method\" to introduce a non-uniform method to sample the training instances. In addition, I could introduce new values to the hyperparameters that were already included in our original GridSearch to see if these different values are able to increase the test recall score even higher.\n",
    "- Looking into other models, such as RandomForest Classifier and ADBoost, could be alternative methods of trees and boosting algorithms that, after tuning, could produce even stronger test recall scores than what was found by tuning the decision tree and XGBoost classifiers.\n",
    "- Lastly, it is important to remember that this entire analysis was done on a random subset of 10,000 rows of data. Future work could look to take a different random sample of 10,000 from the initial dataset and compare those results to the results that were found above. Additionally, with more time, a similar analysis could be conducted on the entire dataset to determine if our results will differ. "
   ]
  }
 ],
 "metadata": {
  "kernelspec": {
   "display_name": "learn-env",
   "language": "python",
   "name": "learn-env"
  },
  "language_info": {
   "codemirror_mode": {
    "name": "ipython",
    "version": 3
   },
   "file_extension": ".py",
   "mimetype": "text/x-python",
   "name": "python",
   "nbconvert_exporter": "python",
   "pygments_lexer": "ipython3",
   "version": "3.6.9"
  }
 },
 "nbformat": 4,
 "nbformat_minor": 4
}
