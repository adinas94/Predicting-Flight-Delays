{
 "cells": [
  {
   "cell_type": "markdown",
   "metadata": {},
   "source": [
    "## Machine Learning Modeling"
   ]
  },
  {
   "cell_type": "code",
   "execution_count": 1,
   "metadata": {
    "scrolled": true
   },
   "outputs": [],
   "source": [
    "#import necessary libraries\n",
    "\n",
    "import pandas as pd\n",
    "import numpy as np\n",
    "import seaborn as sns\n",
    "import matplotlib.pyplot as plt\n",
    "%matplotlib inline\n",
    "from time import time\n",
    "import re\n",
    "from numpy.random import normal\n",
    "from scipy.stats import kurtosis, skew\n",
    "import math\n",
    "from statsmodels.formula.api import ols\n",
    "from statsmodels.stats.outliers_influence import variance_inflation_factor\n",
    "import statsmodels.api as sm\n",
    "import scipy.stats as stats\n",
    "from sklearn import tree\n",
    "from sklearn.model_selection import train_test_split, cross_val_score, GridSearchCV\n",
    "from sklearn.linear_model import LinearRegression, LogisticRegression\n",
    "from sklearn.metrics import roc_curve, auc, plot_confusion_matrix, mean_squared_error, mean_absolute_error, classification_report, precision_score, recall_score, accuracy_score, f1_score\n",
    "from sklearn.preprocessing import StandardScaler\n",
    "from sklearn.neighbors import KNeighborsClassifier\n",
    "from sklearn.naive_bayes import GaussianNB\n",
    "from sklearn.tree import DecisionTreeRegressor, DecisionTreeClassifier, export_graphviz\n",
    "from sklearn.svm import SVC\n",
    "from sklearn.ensemble import RandomForestClassifier, BaggingClassifier, AdaBoostClassifier, GradientBoostingClassifier\n",
    "from six import StringIO \n",
    "from xgboost import XGBClassifier\n",
    "from imblearn.over_sampling import SMOTE\n",
    "from sklearn.pipeline import Pipeline\n",
    "from IPython.display import Image\n",
    "import pydotplus\n",
    "import warnings\n",
    "warnings.filterwarnings('ignore')\n",
    "\n",
    "flights = pd.read_csv('final_data.csv', index_col=0)"
   ]
  },
  {
   "cell_type": "code",
   "execution_count": 2,
   "metadata": {},
   "outputs": [
    {
     "data": {
      "text/html": [
       "<div>\n",
       "<style scoped>\n",
       "    .dataframe tbody tr th:only-of-type {\n",
       "        vertical-align: middle;\n",
       "    }\n",
       "\n",
       "    .dataframe tbody tr th {\n",
       "        vertical-align: top;\n",
       "    }\n",
       "\n",
       "    .dataframe thead th {\n",
       "        text-align: right;\n",
       "    }\n",
       "</style>\n",
       "<table border=\"1\" class=\"dataframe\">\n",
       "  <thead>\n",
       "    <tr style=\"text-align: right;\">\n",
       "      <th></th>\n",
       "      <th>SCHEDULED_DEPARTURE</th>\n",
       "      <th>SCHEDULED_TIME</th>\n",
       "      <th>DISTANCE</th>\n",
       "      <th>SCHEDULED_ARRIVAL</th>\n",
       "      <th>ARRIVAL_DELAY</th>\n",
       "      <th>AIR_SYSTEM_DELAY</th>\n",
       "      <th>SECURITY_DELAY</th>\n",
       "      <th>AIRLINE_DELAY</th>\n",
       "      <th>LATE_AIRCRAFT_DELAY</th>\n",
       "      <th>WEATHER_DELAY</th>\n",
       "      <th>...</th>\n",
       "      <th>MONTH_4</th>\n",
       "      <th>MONTH_5</th>\n",
       "      <th>MONTH_6</th>\n",
       "      <th>MONTH_7</th>\n",
       "      <th>MONTH_8</th>\n",
       "      <th>MONTH_9</th>\n",
       "      <th>MONTH_10</th>\n",
       "      <th>MONTH_11</th>\n",
       "      <th>MONTH_12</th>\n",
       "      <th>DELAYED</th>\n",
       "    </tr>\n",
       "  </thead>\n",
       "  <tbody>\n",
       "    <tr>\n",
       "      <th>0</th>\n",
       "      <td>1340</td>\n",
       "      <td>56</td>\n",
       "      <td>128</td>\n",
       "      <td>1436</td>\n",
       "      <td>-13</td>\n",
       "      <td>0</td>\n",
       "      <td>0</td>\n",
       "      <td>0</td>\n",
       "      <td>0</td>\n",
       "      <td>0</td>\n",
       "      <td>...</td>\n",
       "      <td>1.0</td>\n",
       "      <td>0.0</td>\n",
       "      <td>0.0</td>\n",
       "      <td>0.0</td>\n",
       "      <td>0.0</td>\n",
       "      <td>0.0</td>\n",
       "      <td>0.0</td>\n",
       "      <td>0.0</td>\n",
       "      <td>0.0</td>\n",
       "      <td>0</td>\n",
       "    </tr>\n",
       "    <tr>\n",
       "      <th>1</th>\n",
       "      <td>1910</td>\n",
       "      <td>155</td>\n",
       "      <td>867</td>\n",
       "      <td>2145</td>\n",
       "      <td>-12</td>\n",
       "      <td>0</td>\n",
       "      <td>0</td>\n",
       "      <td>0</td>\n",
       "      <td>0</td>\n",
       "      <td>0</td>\n",
       "      <td>...</td>\n",
       "      <td>0.0</td>\n",
       "      <td>0.0</td>\n",
       "      <td>0.0</td>\n",
       "      <td>0.0</td>\n",
       "      <td>0.0</td>\n",
       "      <td>0.0</td>\n",
       "      <td>0.0</td>\n",
       "      <td>0.0</td>\n",
       "      <td>0.0</td>\n",
       "      <td>0</td>\n",
       "    </tr>\n",
       "    <tr>\n",
       "      <th>2</th>\n",
       "      <td>630</td>\n",
       "      <td>110</td>\n",
       "      <td>672</td>\n",
       "      <td>820</td>\n",
       "      <td>-8</td>\n",
       "      <td>0</td>\n",
       "      <td>0</td>\n",
       "      <td>0</td>\n",
       "      <td>0</td>\n",
       "      <td>0</td>\n",
       "      <td>...</td>\n",
       "      <td>0.0</td>\n",
       "      <td>0.0</td>\n",
       "      <td>0.0</td>\n",
       "      <td>1.0</td>\n",
       "      <td>0.0</td>\n",
       "      <td>0.0</td>\n",
       "      <td>0.0</td>\n",
       "      <td>0.0</td>\n",
       "      <td>0.0</td>\n",
       "      <td>0</td>\n",
       "    </tr>\n",
       "    <tr>\n",
       "      <th>3</th>\n",
       "      <td>810</td>\n",
       "      <td>100</td>\n",
       "      <td>546</td>\n",
       "      <td>950</td>\n",
       "      <td>152</td>\n",
       "      <td>0</td>\n",
       "      <td>0</td>\n",
       "      <td>0</td>\n",
       "      <td>152</td>\n",
       "      <td>0</td>\n",
       "      <td>...</td>\n",
       "      <td>0.0</td>\n",
       "      <td>1.0</td>\n",
       "      <td>0.0</td>\n",
       "      <td>0.0</td>\n",
       "      <td>0.0</td>\n",
       "      <td>0.0</td>\n",
       "      <td>0.0</td>\n",
       "      <td>0.0</td>\n",
       "      <td>0.0</td>\n",
       "      <td>1</td>\n",
       "    </tr>\n",
       "    <tr>\n",
       "      <th>4</th>\n",
       "      <td>1000</td>\n",
       "      <td>498</td>\n",
       "      <td>3904</td>\n",
       "      <td>1318</td>\n",
       "      <td>-2</td>\n",
       "      <td>0</td>\n",
       "      <td>0</td>\n",
       "      <td>0</td>\n",
       "      <td>0</td>\n",
       "      <td>0</td>\n",
       "      <td>...</td>\n",
       "      <td>0.0</td>\n",
       "      <td>0.0</td>\n",
       "      <td>0.0</td>\n",
       "      <td>1.0</td>\n",
       "      <td>0.0</td>\n",
       "      <td>0.0</td>\n",
       "      <td>0.0</td>\n",
       "      <td>0.0</td>\n",
       "      <td>0.0</td>\n",
       "      <td>1</td>\n",
       "    </tr>\n",
       "  </tbody>\n",
       "</table>\n",
       "<p>5 rows × 52 columns</p>\n",
       "</div>"
      ],
      "text/plain": [
       "   SCHEDULED_DEPARTURE  SCHEDULED_TIME  DISTANCE  SCHEDULED_ARRIVAL  \\\n",
       "0                 1340              56       128               1436   \n",
       "1                 1910             155       867               2145   \n",
       "2                  630             110       672                820   \n",
       "3                  810             100       546                950   \n",
       "4                 1000             498      3904               1318   \n",
       "\n",
       "   ARRIVAL_DELAY  AIR_SYSTEM_DELAY  SECURITY_DELAY  AIRLINE_DELAY  \\\n",
       "0            -13                 0               0              0   \n",
       "1            -12                 0               0              0   \n",
       "2             -8                 0               0              0   \n",
       "3            152                 0               0              0   \n",
       "4             -2                 0               0              0   \n",
       "\n",
       "   LATE_AIRCRAFT_DELAY  WEATHER_DELAY  ...  MONTH_4  MONTH_5  MONTH_6  \\\n",
       "0                    0              0  ...      1.0      0.0      0.0   \n",
       "1                    0              0  ...      0.0      0.0      0.0   \n",
       "2                    0              0  ...      0.0      0.0      0.0   \n",
       "3                  152              0  ...      0.0      1.0      0.0   \n",
       "4                    0              0  ...      0.0      0.0      0.0   \n",
       "\n",
       "   MONTH_7  MONTH_8  MONTH_9  MONTH_10  MONTH_11  MONTH_12  DELAYED  \n",
       "0      0.0      0.0      0.0       0.0       0.0       0.0        0  \n",
       "1      0.0      0.0      0.0       0.0       0.0       0.0        0  \n",
       "2      1.0      0.0      0.0       0.0       0.0       0.0        0  \n",
       "3      0.0      0.0      0.0       0.0       0.0       0.0        1  \n",
       "4      1.0      0.0      0.0       0.0       0.0       0.0        1  \n",
       "\n",
       "[5 rows x 52 columns]"
      ]
     },
     "execution_count": 2,
     "metadata": {},
     "output_type": "execute_result"
    }
   ],
   "source": [
    "#Preview first 5 rows of the dataste\n",
    "flights.head()"
   ]
  },
  {
   "cell_type": "markdown",
   "metadata": {},
   "source": [
    "### Functions Used for Project"
   ]
  },
  {
   "cell_type": "markdown",
   "metadata": {},
   "source": [
    "Several functions will be used to automate the process in our notebook. The functions used are printed below."
   ]
  },
  {
   "cell_type": "code",
   "execution_count": 3,
   "metadata": {},
   "outputs": [],
   "source": [
    "#write function to train and predict model, then print score results \n",
    "\n",
    "def model_fit(smotex, smotey, trainx, trainy, testx, testy, model, name):  \n",
    "    \n",
    "    model.fit(smotex, smotey)\n",
    "\n",
    "    test_prediction = model.predict(testx)\n",
    "    train_prediction = model.predict(trainx)\n",
    "    \n",
    "    result = {'model': name}\n",
    "    \n",
    "    result['train_accuracy'] = np.around((accuracy_score(trainy, train_prediction)), decimals=3)\n",
    "    result['train_precision'] = np.around((precision_score(trainy, train_prediction)), decimals=3)\n",
    "    result['train_recall'] = np.around((recall_score(trainy, train_prediction)), decimals=3)\n",
    "    result['train_f1'] = np.around((f1_score(trainy, train_prediction)), decimals=3)\n",
    "    \n",
    "    result['test_accuracy'] = np.around((accuracy_score(testy, test_prediction)), decimals=3)\n",
    "    result['test_precision'] = np.around((precision_score(testy, test_prediction)), decimals=3)\n",
    "    result['test_recall'] = np.around((recall_score(testy, test_prediction)), decimals=3)\n",
    "    result['test_f1'] = np.around((f1_score(testy, test_prediction)), decimals=3)\n",
    "    \n",
    "    print(\"\\n\")\n",
    "    \n",
    "    print(\"Train Score Results\")\n",
    "    print(classification_report(trainy, train_prediction))       \n",
    "    print(\"Train Set Accuracy:\", result['train_accuracy'])\n",
    "    print(\"Train Set Precision:\", result['train_precision'])\n",
    "    print(\"Train Set Recall:\", result['train_recall'])\n",
    "    print(\"Train Set F1-Score:\", result['train_f1'])\n",
    "\n",
    "    print(\"\\n\")\n",
    "    \n",
    "    print(\"Test Score Results\")    \n",
    "    print(classification_report(testy, test_prediction)) \n",
    "                                      \n",
    "    print(\"Test Set Accuracy:\", result['test_accuracy'])  \n",
    "    print(\"Test Set Precision:\", result['test_precision']) \n",
    "    print(\"Test Set Recall:\", result['test_recall'])\n",
    "    print(\"Test Set F1-Score:\", result['test_f1'])\n",
    "                                      \n",
    "    \n",
    "    print(\"\\n\")\n",
    "    \n",
    "    fig, (ax1, ax2) = plt.subplots(ncols=2, sharey=True)\n",
    "    trainmatrix = plot_confusion_matrix(model, trainx, trainy, cmap=plt.cm.Blues, ax=ax1)\n",
    "    testmatrix = plot_confusion_matrix(model, testx, testy, cmap=plt.cm.Blues, ax=ax2)\n",
    "    ax1.set_title('Train Confusion Matrix')\n",
    "    ax2.set_title('Test Confusion Matrix')\n",
    "    plt.tight_layout()\n",
    "    plt.show()\n",
    "    \n",
    "    return result"
   ]
  },
  {
   "cell_type": "code",
   "execution_count": 4,
   "metadata": {},
   "outputs": [],
   "source": [
    "#Create graph that shows the feature importances per tree \n",
    "def plot_feature_importances(model):\n",
    "    n_features = X_train.shape[1]\n",
    "    plt.figure(figsize=(8,8))\n",
    "    plt.barh(range(n_features), model.feature_importances_, align='center') \n",
    "    plt.yticks(np.arange(n_features), X_train.columns.values) \n",
    "    plt.xlabel('Feature importance')\n",
    "    plt.ylabel('Feature')"
   ]
  },
  {
   "cell_type": "code",
   "execution_count": 5,
   "metadata": {},
   "outputs": [],
   "source": [
    "# # function for plotting a feature importance histogram (very similar to function above - may not need both)\n",
    "# def features_plot(df, title):\n",
    "#     df.columns = ['feature', 'feature_importance']\n",
    "#     sns.barplot(x = 'feature_importance', y = 'feature', data = df, orient = 'h', color = 'blue') \\\n",
    "#        .set_title(title, fontsize = 20)"
   ]
  },
  {
   "cell_type": "code",
   "execution_count": 6,
   "metadata": {},
   "outputs": [],
   "source": [
    "# #Function for creating a feature importance dataframe\n",
    "# def features_df(column_names, importances):\n",
    "#     df = pd.DataFrame({'feature': column_names,\n",
    "#                        'feature_importance': importances}) \\\n",
    "#            .sort_values('feature_importance', ascending = False) \\\n",
    "#            .reset_index(drop = True)\n",
    "#     return df"
   ]
  },
  {
   "cell_type": "markdown",
   "metadata": {},
   "source": [
    "### Train Test Split"
   ]
  },
  {
   "cell_type": "code",
   "execution_count": 7,
   "metadata": {},
   "outputs": [
    {
     "data": {
      "text/plain": [
       "0    6284\n",
       "1    3716\n",
       "Name: DELAYED, dtype: int64"
      ]
     },
     "execution_count": 7,
     "metadata": {},
     "output_type": "execute_result"
    }
   ],
   "source": [
    "#Explore the class distribution of the target variable \n",
    "flights['DELAYED'].value_counts()"
   ]
  },
  {
   "cell_type": "code",
   "execution_count": 8,
   "metadata": {},
   "outputs": [],
   "source": [
    "#Set X and y values \n",
    "y = flights['DELAYED']\n",
    "X = flights.drop(['DELAYED'], axis=1)"
   ]
  },
  {
   "cell_type": "code",
   "execution_count": 9,
   "metadata": {
    "scrolled": true
   },
   "outputs": [
    {
     "data": {
      "text/plain": [
       "0    0.6284\n",
       "1    0.3716\n",
       "Name: DELAYED, dtype: float64"
      ]
     },
     "execution_count": 9,
     "metadata": {},
     "output_type": "execute_result"
    }
   ],
   "source": [
    "#Investigate the value counts of our target variable \n",
    "y.value_counts(normalize=True)"
   ]
  },
  {
   "cell_type": "code",
   "execution_count": 10,
   "metadata": {},
   "outputs": [],
   "source": [
    "#Train test split \n",
    "X_train, X_test, y_train, y_test = train_test_split(X, y, random_state=42)"
   ]
  },
  {
   "cell_type": "markdown",
   "metadata": {},
   "source": [
    "We see that there is quite a bit of a class imbalance in our target variable; 62.8% of our flights were not delayed while only 37.1% were delayed. As a result, we will apply a SMOTE technique in order to create synthesized data in order to improve our model. "
   ]
  },
  {
   "cell_type": "code",
   "execution_count": 11,
   "metadata": {},
   "outputs": [
    {
     "name": "stdout",
     "output_type": "stream",
     "text": [
      "Original class distribution: \n",
      "\n",
      "0    6284\n",
      "1    3716\n",
      "Name: DELAYED, dtype: int64\n",
      "-----------------------------------------\n",
      "Synthetic sample class distribution: \n",
      "\n",
      "1    4729\n",
      "0    4729\n",
      "Name: DELAYED, dtype: int64\n"
     ]
    }
   ],
   "source": [
    "# Previous original class distribution\n",
    "print('Original class distribution: \\n')\n",
    "print(y.value_counts())\n",
    "smote = SMOTE()\n",
    "X_train_resampled, y_train_resampled = smote.fit_sample(X_train, y_train) \n",
    "# Preview synthetic sample class distribution\n",
    "print('-----------------------------------------')\n",
    "print('Synthetic sample class distribution: \\n')\n",
    "print(pd.Series(y_train_resampled).value_counts()) "
   ]
  },
  {
   "cell_type": "markdown",
   "metadata": {},
   "source": [
    "### 1. KNN"
   ]
  },
  {
   "cell_type": "code",
   "execution_count": 12,
   "metadata": {},
   "outputs": [],
   "source": [
    "#Scale the data\n",
    "scaler = StandardScaler()  \n",
    "scaler.fit(X_train)\n",
    "\n",
    "#Scale original X_train and X_test\n",
    "X_train_scaled = scaler.transform(X_train)  \n",
    "X_test_scaled = scaler.transform(X_test)\n",
    "\n",
    "#Scale the resampled train \n",
    "X_train_resampled_scaled = scaler.transform(X_train_resampled)  "
   ]
  },
  {
   "cell_type": "code",
   "execution_count": 13,
   "metadata": {},
   "outputs": [],
   "source": [
    "#Fit and predict the vanilla model\n",
    "knnmodel = KNeighborsClassifier()"
   ]
  },
  {
   "cell_type": "code",
   "execution_count": 14,
   "metadata": {
    "scrolled": true
   },
   "outputs": [
    {
     "name": "stdout",
     "output_type": "stream",
     "text": [
      "\n",
      "\n",
      "Train Score Results\n",
      "              precision    recall  f1-score   support\n",
      "\n",
      "           0       0.84      0.81      0.82      4729\n",
      "           1       0.69      0.74      0.71      2771\n",
      "\n",
      "    accuracy                           0.78      7500\n",
      "   macro avg       0.77      0.77      0.77      7500\n",
      "weighted avg       0.79      0.78      0.78      7500\n",
      "\n",
      "Train Set Accuracy: 0.783\n",
      "Train Set Precision: 0.694\n",
      "Train Set Recall: 0.736\n",
      "Train Set F1-Score: 0.714\n",
      "\n",
      "\n",
      "Test Score Results\n",
      "              precision    recall  f1-score   support\n",
      "\n",
      "           0       0.69      0.68      0.68      1555\n",
      "           1       0.49      0.51      0.50       945\n",
      "\n",
      "    accuracy                           0.61      2500\n",
      "   macro avg       0.59      0.59      0.59      2500\n",
      "weighted avg       0.62      0.61      0.61      2500\n",
      "\n",
      "Test Set Accuracy: 0.612\n",
      "Test Set Precision: 0.488\n",
      "Test Set Recall: 0.506\n",
      "Test Set F1-Score: 0.497\n",
      "\n",
      "\n"
     ]
    },
    {
     "data": {
      "image/png": "[encoded data removed]",
      "text/plain": [
       "<Figure size 432x288 with 4 Axes>"
      ]
     },
     "metadata": {
      "needs_background": "light"
     },
     "output_type": "display_data"
    }
   ],
   "source": [
    "#Apply the model and print metrics\n",
    "knnresult = model_fit(X_train_resampled_scaled, y_train_resampled, X_train_scaled, y_train, X_test_scaled, y_test, knnmodel, 'knn')"
   ]
  },
  {
   "cell_type": "markdown",
   "metadata": {},
   "source": [
    "### 2. Bayes Classification Model"
   ]
  },
  {
   "cell_type": "code",
   "execution_count": 15,
   "metadata": {},
   "outputs": [],
   "source": [
    "#Instansiate the vanilla model\n",
    "bayes = GaussianNB()"
   ]
  },
  {
   "cell_type": "code",
   "execution_count": 16,
   "metadata": {},
   "outputs": [
    {
     "name": "stdout",
     "output_type": "stream",
     "text": [
      "\n",
      "\n",
      "Train Score Results\n",
      "              precision    recall  f1-score   support\n",
      "\n",
      "           0       0.75      0.99      0.86      4729\n",
      "           1       0.97      0.44      0.60      2771\n",
      "\n",
      "    accuracy                           0.79      7500\n",
      "   macro avg       0.86      0.72      0.73      7500\n",
      "weighted avg       0.83      0.79      0.76      7500\n",
      "\n",
      "Train Set Accuracy: 0.788\n",
      "Train Set Precision: 0.972\n",
      "Train Set Recall: 0.438\n",
      "Train Set F1-Score: 0.604\n",
      "\n",
      "\n",
      "Test Score Results\n",
      "              precision    recall  f1-score   support\n",
      "\n",
      "           0       0.74      0.99      0.85      1555\n",
      "           1       0.98      0.43      0.60       945\n",
      "\n",
      "    accuracy                           0.78      2500\n",
      "   macro avg       0.86      0.71      0.72      2500\n",
      "weighted avg       0.83      0.78      0.75      2500\n",
      "\n",
      "Test Set Accuracy: 0.78\n",
      "Test Set Precision: 0.976\n",
      "Test Set Recall: 0.43\n",
      "Test Set F1-Score: 0.597\n",
      "\n",
      "\n"
     ]
    },
    {
     "data": {
      "image/png": "[encoded data removed]",
      "text/plain": [
       "<Figure size 432x288 with 4 Axes>"
      ]
     },
     "metadata": {
      "needs_background": "light"
     },
     "output_type": "display_data"
    }
   ],
   "source": [
    "#Apply the modelfit function\n",
    "bayesresult = model_fit(X_train_resampled, y_train_resampled, X_train, y_train, X_test, y_test, bayes, 'bayes')"
   ]
  },
  {
   "cell_type": "markdown",
   "metadata": {},
   "source": [
    "### 3. Decision Tree Classifier"
   ]
  },
  {
   "cell_type": "code",
   "execution_count": 17,
   "metadata": {},
   "outputs": [],
   "source": [
    "#Instansiate the vanilla model \n",
    "decisiontree = DecisionTreeClassifier(random_state=42)"
   ]
  },
  {
   "cell_type": "code",
   "execution_count": 18,
   "metadata": {},
   "outputs": [
    {
     "name": "stdout",
     "output_type": "stream",
     "text": [
      "\n",
      "\n",
      "Train Score Results\n",
      "              precision    recall  f1-score   support\n",
      "\n",
      "           0       1.00      1.00      1.00      4729\n",
      "           1       1.00      1.00      1.00      2771\n",
      "\n",
      "    accuracy                           1.00      7500\n",
      "   macro avg       1.00      1.00      1.00      7500\n",
      "weighted avg       1.00      1.00      1.00      7500\n",
      "\n",
      "Train Set Accuracy: 1.0\n",
      "Train Set Precision: 1.0\n",
      "Train Set Recall: 1.0\n",
      "Train Set F1-Score: 1.0\n",
      "\n",
      "\n",
      "Test Score Results\n",
      "              precision    recall  f1-score   support\n",
      "\n",
      "           0       0.79      0.77      0.78      1555\n",
      "           1       0.64      0.66      0.65       945\n",
      "\n",
      "    accuracy                           0.73      2500\n",
      "   macro avg       0.71      0.71      0.71      2500\n",
      "weighted avg       0.73      0.73      0.73      2500\n",
      "\n",
      "Test Set Accuracy: 0.728\n",
      "Test Set Precision: 0.636\n",
      "Test Set Recall: 0.657\n",
      "Test Set F1-Score: 0.646\n",
      "\n",
      "\n"
     ]
    },
    {
     "data": {
      "image/png": "[encoded data removed]",
      "text/plain": [
       "<Figure size 432x288 with 4 Axes>"
      ]
     },
     "metadata": {
      "needs_background": "light"
     },
     "output_type": "display_data"
    }
   ],
   "source": [
    "#Apply the model fit function \n",
    "decisiontreeresult = model_fit(X_train_resampled, y_train_resampled, X_train, y_train, X_test, y_test, decisiontree, 'decisiontree')"
   ]
  },
  {
   "cell_type": "code",
   "execution_count": 19,
   "metadata": {},
   "outputs": [],
   "source": [
    "#Look at feature importances "
   ]
  },
  {
   "cell_type": "code",
   "execution_count": 20,
   "metadata": {},
   "outputs": [],
   "source": [
    "#Code for plotting decision tree\n",
    "\n",
    "\n",
    "# dot_data = StringIO()\n",
    "# export_graphviz(decisiontree3, out_file=dot_data,  \n",
    "#                 special_characters=True)\n",
    "# graph = pydotplus.graph_from_dot_data(dot_data.getvalue())  \n",
    "# Image(graph.create_png())"
   ]
  },
  {
   "cell_type": "markdown",
   "metadata": {},
   "source": [
    "### 4. Ensemble Methods"
   ]
  },
  {
   "cell_type": "markdown",
   "metadata": {},
   "source": [
    "#### a. Bagging Method"
   ]
  },
  {
   "cell_type": "code",
   "execution_count": 21,
   "metadata": {},
   "outputs": [],
   "source": [
    "#Instansiate the vanilla model\n",
    "bagged_tree = BaggingClassifier(DecisionTreeClassifier(random_state=42), n_estimators=20)"
   ]
  },
  {
   "cell_type": "code",
   "execution_count": 22,
   "metadata": {},
   "outputs": [
    {
     "name": "stdout",
     "output_type": "stream",
     "text": [
      "\n",
      "\n",
      "Train Score Results\n",
      "              precision    recall  f1-score   support\n",
      "\n",
      "           0       0.99      1.00      1.00      4729\n",
      "           1       1.00      0.99      0.99      2771\n",
      "\n",
      "    accuracy                           0.99      7500\n",
      "   macro avg       1.00      0.99      0.99      7500\n",
      "weighted avg       0.99      0.99      0.99      7500\n",
      "\n",
      "Train Set Accuracy: 0.995\n",
      "Train Set Precision: 0.998\n",
      "Train Set Recall: 0.987\n",
      "Train Set F1-Score: 0.993\n",
      "\n",
      "\n",
      "Test Score Results\n",
      "              precision    recall  f1-score   support\n",
      "\n",
      "           0       0.80      0.89      0.84      1555\n",
      "           1       0.77      0.64      0.70       945\n",
      "\n",
      "    accuracy                           0.79      2500\n",
      "   macro avg       0.79      0.76      0.77      2500\n",
      "weighted avg       0.79      0.79      0.79      2500\n",
      "\n",
      "Test Set Accuracy: 0.792\n",
      "Test Set Precision: 0.772\n",
      "Test Set Recall: 0.637\n",
      "Test Set F1-Score: 0.698\n",
      "\n",
      "\n"
     ]
    },
    {
     "data": {
      "image/png": "[encoded data removed]",
      "text/plain": [
       "<Figure size 432x288 with 4 Axes>"
      ]
     },
     "metadata": {
      "needs_background": "light"
     },
     "output_type": "display_data"
    }
   ],
   "source": [
    "#Apply the model prediction\n",
    "baggingresult = model_fit(X_train_resampled, y_train_resampled, X_train, y_train, X_test, y_test, bagged_tree, 'bagging')"
   ]
  },
  {
   "cell_type": "markdown",
   "metadata": {},
   "source": [
    "#### b. Random Forest"
   ]
  },
  {
   "cell_type": "code",
   "execution_count": 23,
   "metadata": {},
   "outputs": [],
   "source": [
    "#Instansiate the vanilla model \n",
    "randomforest = RandomForestClassifier(random_state=42)"
   ]
  },
  {
   "cell_type": "code",
   "execution_count": 24,
   "metadata": {},
   "outputs": [
    {
     "name": "stdout",
     "output_type": "stream",
     "text": [
      "\n",
      "\n",
      "Train Score Results\n",
      "              precision    recall  f1-score   support\n",
      "\n",
      "           0       1.00      1.00      1.00      4729\n",
      "           1       1.00      1.00      1.00      2771\n",
      "\n",
      "    accuracy                           1.00      7500\n",
      "   macro avg       1.00      1.00      1.00      7500\n",
      "weighted avg       1.00      1.00      1.00      7500\n",
      "\n",
      "Train Set Accuracy: 1.0\n",
      "Train Set Precision: 1.0\n",
      "Train Set Recall: 1.0\n",
      "Train Set F1-Score: 1.0\n",
      "\n",
      "\n",
      "Test Score Results\n",
      "              precision    recall  f1-score   support\n",
      "\n",
      "           0       0.81      0.90      0.85      1555\n",
      "           1       0.79      0.64      0.71       945\n",
      "\n",
      "    accuracy                           0.80      2500\n",
      "   macro avg       0.80      0.77      0.78      2500\n",
      "weighted avg       0.80      0.80      0.80      2500\n",
      "\n",
      "Test Set Accuracy: 0.8\n",
      "Test Set Precision: 0.789\n",
      "Test Set Recall: 0.643\n",
      "Test Set F1-Score: 0.709\n",
      "\n",
      "\n"
     ]
    },
    {
     "data": {
      "image/png": "[encoded data removed]",
      "text/plain": [
       "<Figure size 432x288 with 4 Axes>"
      ]
     },
     "metadata": {
      "needs_background": "light"
     },
     "output_type": "display_data"
    }
   ],
   "source": [
    "#Apply the model_fit function \n",
    "randomforestresult = model_fit(X_train_resampled, y_train_resampled, X_train, y_train, X_test, y_test, randomforest, 'randomforest')"
   ]
  },
  {
   "cell_type": "code",
   "execution_count": 25,
   "metadata": {},
   "outputs": [
    {
     "data": {
      "text/plain": [
       "0.8092"
      ]
     },
     "execution_count": 25,
     "metadata": {},
     "output_type": "execute_result"
    }
   ],
   "source": [
    "#Look at another performance measure: mean 3-Fold cross validation score \n",
    "mean_rf_cv_score = np.mean(cross_val_score(randomforest, X_train, y_train, cv=3))\n",
    "mean_rf_cv_score"
   ]
  },
  {
   "cell_type": "markdown",
   "metadata": {},
   "source": [
    "### 5. Boosting"
   ]
  },
  {
   "cell_type": "markdown",
   "metadata": {},
   "source": [
    "#### a. Adaboost"
   ]
  },
  {
   "cell_type": "code",
   "execution_count": 26,
   "metadata": {},
   "outputs": [],
   "source": [
    "#Instansiate the vanilla model\n",
    "adb = AdaBoostClassifier(random_state=42)"
   ]
  },
  {
   "cell_type": "code",
   "execution_count": 27,
   "metadata": {
    "scrolled": true
   },
   "outputs": [
    {
     "name": "stdout",
     "output_type": "stream",
     "text": [
      "\n",
      "\n",
      "Train Score Results\n",
      "              precision    recall  f1-score   support\n",
      "\n",
      "           0       0.83      0.88      0.86      4729\n",
      "           1       0.77      0.69      0.73      2771\n",
      "\n",
      "    accuracy                           0.81      7500\n",
      "   macro avg       0.80      0.79      0.79      7500\n",
      "weighted avg       0.81      0.81      0.81      7500\n",
      "\n",
      "Train Set Accuracy: 0.812\n",
      "Train Set Precision: 0.774\n",
      "Train Set Recall: 0.693\n",
      "Train Set F1-Score: 0.732\n",
      "\n",
      "\n",
      "Test Score Results\n",
      "              precision    recall  f1-score   support\n",
      "\n",
      "           0       0.82      0.86      0.84      1555\n",
      "           1       0.76      0.70      0.73       945\n",
      "\n",
      "    accuracy                           0.80      2500\n",
      "   macro avg       0.79      0.78      0.78      2500\n",
      "weighted avg       0.80      0.80      0.80      2500\n",
      "\n",
      "Test Set Accuracy: 0.801\n",
      "Test Set Precision: 0.758\n",
      "Test Set Recall: 0.696\n",
      "Test Set F1-Score: 0.726\n",
      "\n",
      "\n"
     ]
    },
    {
     "data": {
      "image/png": "[encoded data removed]",
      "text/plain": [
       "<Figure size 432x288 with 4 Axes>"
      ]
     },
     "metadata": {
      "needs_background": "light"
     },
     "output_type": "display_data"
    }
   ],
   "source": [
    "#Fit and predict model and show results\n",
    "adbresult = model_fit(X_train_resampled, y_train_resampled, X_train, y_train, X_test, y_test, adb, 'Adaboost')"
   ]
  },
  {
   "cell_type": "code",
   "execution_count": 28,
   "metadata": {},
   "outputs": [
    {
     "name": "stdout",
     "output_type": "stream",
     "text": [
      "Mean Adaboost Cross-Val Score (k=3):  81.31%\n"
     ]
    }
   ],
   "source": [
    "#Look at another performance measure: mean 3-Fold cross validation score \n",
    "adb_mean_cv = cross_val_score(adb, X, y, cv=3).mean()\n",
    "\n",
    "print(f\"Mean Adaboost Cross-Val Score (k=3): {adb_mean_cv: .2%}\")"
   ]
  },
  {
   "cell_type": "markdown",
   "metadata": {},
   "source": [
    "#### b. Gradient Boosting"
   ]
  },
  {
   "cell_type": "code",
   "execution_count": 29,
   "metadata": {},
   "outputs": [],
   "source": [
    "#Instansiate the vanilla model\n",
    "gb = GradientBoostingClassifier(random_state=42)"
   ]
  },
  {
   "cell_type": "code",
   "execution_count": 30,
   "metadata": {},
   "outputs": [
    {
     "name": "stdout",
     "output_type": "stream",
     "text": [
      "\n",
      "\n",
      "Train Score Results\n",
      "              precision    recall  f1-score   support\n",
      "\n",
      "           0       0.84      0.91      0.87      4729\n",
      "           1       0.82      0.70      0.76      2771\n",
      "\n",
      "    accuracy                           0.83      7500\n",
      "   macro avg       0.83      0.81      0.82      7500\n",
      "weighted avg       0.83      0.83      0.83      7500\n",
      "\n",
      "Train Set Accuracy: 0.834\n",
      "Train Set Precision: 0.823\n",
      "Train Set Recall: 0.701\n",
      "Train Set F1-Score: 0.757\n",
      "\n",
      "\n",
      "Test Score Results\n",
      "              precision    recall  f1-score   support\n",
      "\n",
      "           0       0.82      0.89      0.85      1555\n",
      "           1       0.79      0.68      0.73       945\n",
      "\n",
      "    accuracy                           0.81      2500\n",
      "   macro avg       0.80      0.78      0.79      2500\n",
      "weighted avg       0.81      0.81      0.81      2500\n",
      "\n",
      "Test Set Accuracy: 0.81\n",
      "Test Set Precision: 0.787\n",
      "Test Set Recall: 0.68\n",
      "Test Set F1-Score: 0.73\n",
      "\n",
      "\n"
     ]
    },
    {
     "data": {
      "image/png": "[encoded data removed]",
      "text/plain": [
       "<Figure size 432x288 with 4 Axes>"
      ]
     },
     "metadata": {
      "needs_background": "light"
     },
     "output_type": "display_data"
    }
   ],
   "source": [
    "#Fit and predict model and show results\n",
    "gbresult = model_fit(X_train_resampled, y_train_resampled, X_train, y_train, X_test, y_test, gb, 'Gradient_Boosting')"
   ]
  },
  {
   "cell_type": "code",
   "execution_count": 31,
   "metadata": {},
   "outputs": [
    {
     "name": "stdout",
     "output_type": "stream",
     "text": [
      "Mean Adaboost Cross-Val Score (k=3):  81.68%\n"
     ]
    }
   ],
   "source": [
    "#Look at another performance measure: mean 3-Fold cross validation score \n",
    "gb_mean_cv = cross_val_score(gb, X, y, cv=3).mean()\n",
    "\n",
    "print(f\"Mean Adaboost Cross-Val Score (k=3): {gb_mean_cv: .2%}\")"
   ]
  },
  {
   "cell_type": "markdown",
   "metadata": {},
   "source": [
    "#### c. XGBoost"
   ]
  },
  {
   "cell_type": "code",
   "execution_count": 32,
   "metadata": {},
   "outputs": [],
   "source": [
    "#Instansiate the vanilla model\n",
    "xgb = XGBClassifier()"
   ]
  },
  {
   "cell_type": "code",
   "execution_count": 33,
   "metadata": {},
   "outputs": [
    {
     "name": "stdout",
     "output_type": "stream",
     "text": [
      "\n",
      "\n",
      "Train Score Results\n",
      "              precision    recall  f1-score   support\n",
      "\n",
      "           0       0.83      0.92      0.87      4729\n",
      "           1       0.83      0.69      0.75      2771\n",
      "\n",
      "    accuracy                           0.83      7500\n",
      "   macro avg       0.83      0.80      0.81      7500\n",
      "weighted avg       0.83      0.83      0.83      7500\n",
      "\n",
      "Train Set Accuracy: 0.833\n",
      "Train Set Precision: 0.828\n",
      "Train Set Recall: 0.691\n",
      "Train Set F1-Score: 0.753\n",
      "\n",
      "\n",
      "Test Score Results\n",
      "              precision    recall  f1-score   support\n",
      "\n",
      "           0       0.82      0.89      0.85      1555\n",
      "           1       0.79      0.67      0.72       945\n",
      "\n",
      "    accuracy                           0.81      2500\n",
      "   macro avg       0.80      0.78      0.79      2500\n",
      "weighted avg       0.81      0.81      0.80      2500\n",
      "\n",
      "Test Set Accuracy: 0.808\n",
      "Test Set Precision: 0.789\n",
      "Test Set Recall: 0.67\n",
      "Test Set F1-Score: 0.725\n",
      "\n",
      "\n"
     ]
    },
    {
     "data": {
      "image/png": "[encoded data removed]",
      "text/plain": [
       "<Figure size 432x288 with 4 Axes>"
      ]
     },
     "metadata": {
      "needs_background": "light"
     },
     "output_type": "display_data"
    }
   ],
   "source": [
    "#Fit and predict model and show results\n",
    "xgbresult = model_fit(X_train_resampled, y_train_resampled, X_train, y_train, X_test, y_test, xgb, 'XGBoost')"
   ]
  },
  {
   "cell_type": "markdown",
   "metadata": {},
   "source": [
    "### 6. Support Vector Machines"
   ]
  },
  {
   "cell_type": "code",
   "execution_count": 34,
   "metadata": {},
   "outputs": [],
   "source": [
    "#Instansiate the vanilla model\n",
    "svclassifier = SVC()"
   ]
  },
  {
   "cell_type": "code",
   "execution_count": null,
   "metadata": {},
   "outputs": [],
   "source": [
    "#Fit and predict model and show results. Note we are using the scaled data for the SVM model \n",
    "svmresult = model_fit(X_train_resampled_scaled, y_train_resampled, X_train_scaled, y_train, X_test_scaled, y_test, svclassifier, 'SVM')"
   ]
  },
  {
   "cell_type": "markdown",
   "metadata": {},
   "source": [
    "### All Vanilla Results"
   ]
  },
  {
   "cell_type": "code",
   "execution_count": null,
   "metadata": {},
   "outputs": [],
   "source": [
    "#Create list of all the Vanilla model results \n",
    "result_list = [knnresult, bayesresult, decisiontreeresult, baggingresult, \n",
    "                randomforestresult, adbresult, xgbresult, svmresult]"
   ]
  },
  {
   "cell_type": "code",
   "execution_count": null,
   "metadata": {},
   "outputs": [],
   "source": [
    "#Convert results into a dataframe \n",
    "df_results = pd.DataFrame.from_dict(result_list, orient='columns')\n",
    "df_results = df_results.set_index('model')"
   ]
  },
  {
   "cell_type": "code",
   "execution_count": null,
   "metadata": {},
   "outputs": [],
   "source": [
    "#Preview results \n",
    "df_results"
   ]
  },
  {
   "cell_type": "markdown",
   "metadata": {},
   "source": [
    "In the context of this project's problem, we are looking to optimize recall. In the results above, the test_recall scores are highest for Adaboost and XGBoost. As a result, in the next section, we will tune these models to determine if we can improve these recall results even further."
   ]
  },
  {
   "cell_type": "markdown",
   "metadata": {},
   "source": [
    "## Section B: Tuning Models\n"
   ]
  },
  {
   "cell_type": "markdown",
   "metadata": {},
   "source": [
    "### 1. AdaBoost"
   ]
  },
  {
   "cell_type": "code",
   "execution_count": null,
   "metadata": {},
   "outputs": [],
   "source": [
    "#Preivew Adaboost Model again \n",
    "adbresult = model_fit(X_train_resampled, y_train_resampled, X_train, y_train, X_test, y_test, adb, 'Adaboost')"
   ]
  },
  {
   "cell_type": "code",
   "execution_count": null,
   "metadata": {},
   "outputs": [],
   "source": [
    "adb = AdaBoostClassifier(random_state=42)"
   ]
  },
  {
   "cell_type": "code",
   "execution_count": null,
   "metadata": {
    "scrolled": false
   },
   "outputs": [],
   "source": [
    "# param_grid = {\n",
    "#     'base_estimator': [DecisionTreeClassifier(max_depth=1), LogisticRegression(solver='lbfgs', multi_class='auto')], \n",
    "#     'n_estimators': [10, 30, 50, 1000], \n",
    "#     'learning_rate': [.0001, .001, .01, .1]\n",
    "# }\n",
    "# gs_ab = GridSearchCV(adb, param_grid, scoring='accuracy', cv=5)\n",
    "# gs_ab.fit(X_train_resampled, y_train_resampled)\n"
   ]
  },
  {
   "cell_type": "code",
   "execution_count": null,
   "metadata": {},
   "outputs": [],
   "source": [
    "param_grid = {\n",
    "    'base_estimator': [DecisionTreeClassifier(max_depth=3), LogisticRegression(solver='lbfgs', multi_class='auto')], \n",
    "    'n_estimators': [10, 30, 50, 1000], \n",
    "    'learning_rate': [.0001, .001, .01, .1]\n",
    "}\n",
    "gs_ab = GridSearchCV(adb, param_grid, scoring='recall', cv=5)\n",
    "gs_ab.fit(X_train_resampled, y_train_resampled)\n"
   ]
  },
  {
   "cell_type": "code",
   "execution_count": null,
   "metadata": {},
   "outputs": [],
   "source": [
    "print(f'Train Recall: {gs_ab.best_score_}')\n",
    "agbtest_recall = accuracy_score(y_test, gs_ab.predict(X_test))\n",
    "print(f'Test Recall: {agbtest_recall}')\n",
    "print(gs_ab.best_params_)"
   ]
  },
  {
   "cell_type": "markdown",
   "metadata": {},
   "source": [
    "### 2. XGBoost"
   ]
  },
  {
   "cell_type": "code",
   "execution_count": null,
   "metadata": {},
   "outputs": [],
   "source": [
    "#Preivew XGBoost Model again \n",
    "xgb = XGBClassifier()"
   ]
  },
  {
   "cell_type": "code",
   "execution_count": null,
   "metadata": {},
   "outputs": [],
   "source": [
    "param_grid = {\n",
    "    'max_depth': [1, 3, 5],\n",
    "    'learning_rate': [.05, .1, .15], \n",
    "    'subsample': [.7, .8],\n",
    "    'min_child_weight': [10, 20, 30], \n",
    "    'n_estimators': [10, 100, 500]\n",
    "}\n",
    "gs_xgb = GridSearchCV(xgb, param_grid, scoring='recall', cv=5)\n",
    "gs_xgb.fit(X_train_resampled, y_train_resampled)\n"
   ]
  },
  {
   "cell_type": "code",
   "execution_count": null,
   "metadata": {},
   "outputs": [],
   "source": [
    "print(f'Train Accuracy: {gs_xgb.best_score_}')\n",
    "xgbtest_accuracy = accuracy_score(y_test, gs_xgb.predict(X_test))\n",
    "print(f'Test Accuracy: {xgbtest_accuracy}')\n",
    "print(gs_xgb.best_params_)"
   ]
  },
  {
   "cell_type": "code",
   "execution_count": null,
   "metadata": {},
   "outputs": [],
   "source": [
    "#rename above to train and test recall"
   ]
  },
  {
   "cell_type": "code",
   "execution_count": null,
   "metadata": {},
   "outputs": [],
   "source": [
    "xgbtuned = XGBClassifier(learning_rate=0.05, max_depth=5, min_child_weight=20, \n",
    "                         n_estimators=500, subsample=0.7)"
   ]
  },
  {
   "cell_type": "code",
   "execution_count": null,
   "metadata": {},
   "outputs": [],
   "source": [
    "xgbtunedresult = model_fit(X_train_resampled, y_train_resampled, X_train, y_train, X_test, y_test, xgbtuned, 'XGBoost Tuned')"
   ]
  },
  {
   "cell_type": "code",
   "execution_count": null,
   "metadata": {},
   "outputs": [],
   "source": []
  }
 ],
 "metadata": {
  "kernelspec": {
   "display_name": "learn-env",
   "language": "python",
   "name": "learn-env"
  },
  "language_info": {
   "codemirror_mode": {
    "name": "ipython",
    "version": 3
   },
   "file_extension": ".py",
   "mimetype": "text/x-python",
   "name": "python",
   "nbconvert_exporter": "python",
   "pygments_lexer": "ipython3",
   "version": "3.6.9"
  }
 },
 "nbformat": 4,
 "nbformat_minor": 4
}
