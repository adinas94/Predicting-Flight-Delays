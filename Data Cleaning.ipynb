{
 "cells": [
  {
   "cell_type": "markdown",
   "metadata": {},
   "source": [
    "### Introduction"
   ]
  },
  {
   "cell_type": "markdown",
   "metadata": {},
   "source": [
    "The FAA, Federal Aviation Authority of the United States, is looking to improve air transportation efficiency across the United States. They have hired my team of data scientists to utilize data from 2015 Flight Delays and Cancellations to build a model that can predict whether a flight will be delayed or not. The FAA aims to use the results of this model to strategize how flights across the United States can run more smoothly; whether that be that specific airlines need to implement ways to improve timeliness, if specific airports are experiencing more delays than others, or whether some conditions are outside of the FAA's control (i.e. weather delays in Chicago or other areas with harsher winter climates that experience many delays due to snow in December). Having a model that can predict whether a flight is delayed or not can help the FAA determine how to allocate resources effectively in order to prevent flight delays in the United States as much as possible. \n",
    "\n",
    "I will begin this project by importing all of the necessary libraries and an exploratory data analysis. Overall, the goal of this project is to identify which machine learning model is best able to predict the likelihood that a flight will be delayed, using data from 2015 Flights and Cancellations. I will use a variety of machine learning models and tune them accordingly in order to optimize performance metrics for this model. "
   ]
  },
  {
   "cell_type": "markdown",
   "metadata": {},
   "source": [
    "### Data Cleaning"
   ]
  },
  {
   "cell_type": "code",
   "execution_count": 1,
   "metadata": {},
   "outputs": [],
   "source": [
    "#Import necessary libraries\n",
    "import pandas as pd\n",
    "import matplotlib.pyplot as plt\n",
    "%matplotlib inline\n",
    "import seaborn as sns\n",
    "from imblearn.under_sampling import TomekLinks\n",
    "from sklearn.model_selection import train_test_split\n",
    "from imblearn.over_sampling import SMOTE\n",
    "import numpy as np\n",
    "from sklearn.neighbors import KNeighborsClassifier\n",
    "from sklearn.feature_extraction.text import CountVectorizer\n",
    "from sklearn.preprocessing import StandardScaler"
   ]
  },
  {
   "cell_type": "code",
   "execution_count": 2,
   "metadata": {},
   "outputs": [],
   "source": [
    "#create dataframe \n",
    "df = pd.read_csv('travel_data.csv')\n",
    "df = df.drop(['Unnamed: 0'], axis=1)"
   ]
  },
  {
   "cell_type": "code",
   "execution_count": 3,
   "metadata": {},
   "outputs": [
    {
     "data": {
      "text/plain": [
       "(10000, 39)"
      ]
     },
     "execution_count": 3,
     "metadata": {},
     "output_type": "execute_result"
    }
   ],
   "source": [
    "#Investigate the shape of the data\n",
    "df.shape"
   ]
  },
  {
   "cell_type": "code",
   "execution_count": 4,
   "metadata": {},
   "outputs": [
    {
     "data": {
      "text/html": [
       "<div>\n",
       "<style scoped>\n",
       "    .dataframe tbody tr th:only-of-type {\n",
       "        vertical-align: middle;\n",
       "    }\n",
       "\n",
       "    .dataframe tbody tr th {\n",
       "        vertical-align: top;\n",
       "    }\n",
       "\n",
       "    .dataframe thead th {\n",
       "        text-align: right;\n",
       "    }\n",
       "</style>\n",
       "<table border=\"1\" class=\"dataframe\">\n",
       "  <thead>\n",
       "    <tr style=\"text-align: right;\">\n",
       "      <th></th>\n",
       "      <th>YEAR</th>\n",
       "      <th>MONTH</th>\n",
       "      <th>DAY</th>\n",
       "      <th>DAY_OF_WEEK</th>\n",
       "      <th>AIRLINE_CODE</th>\n",
       "      <th>FLIGHT_NUMBER</th>\n",
       "      <th>TAIL_NUMBER</th>\n",
       "      <th>ORIGIN_AIRPORT_CODE</th>\n",
       "      <th>DESTINATION_AIRPORT_CODE</th>\n",
       "      <th>SCHEDULED_DEPARTURE</th>\n",
       "      <th>...</th>\n",
       "      <th>LATE_AIRCRAFT_DELAY</th>\n",
       "      <th>WEATHER_DELAY</th>\n",
       "      <th>AIRLINE</th>\n",
       "      <th>AIRPORT_CODE</th>\n",
       "      <th>AIRPORT</th>\n",
       "      <th>CITY</th>\n",
       "      <th>STATE</th>\n",
       "      <th>COUNTRY</th>\n",
       "      <th>LATITUDE</th>\n",
       "      <th>LONGITUDE</th>\n",
       "    </tr>\n",
       "  </thead>\n",
       "  <tbody>\n",
       "    <tr>\n",
       "      <th>0</th>\n",
       "      <td>2015</td>\n",
       "      <td>4</td>\n",
       "      <td>7</td>\n",
       "      <td>2</td>\n",
       "      <td>EV</td>\n",
       "      <td>4900</td>\n",
       "      <td>N759EV</td>\n",
       "      <td>FWA</td>\n",
       "      <td>DTW</td>\n",
       "      <td>1340</td>\n",
       "      <td>...</td>\n",
       "      <td>NaN</td>\n",
       "      <td>NaN</td>\n",
       "      <td>Atlantic Southeast Airlines</td>\n",
       "      <td>FWA</td>\n",
       "      <td>Fort Wayne International Airport</td>\n",
       "      <td>Fort Wayne</td>\n",
       "      <td>IN</td>\n",
       "      <td>USA</td>\n",
       "      <td>40.97847</td>\n",
       "      <td>-85.19515</td>\n",
       "    </tr>\n",
       "    <tr>\n",
       "      <th>1</th>\n",
       "      <td>2015</td>\n",
       "      <td>1</td>\n",
       "      <td>24</td>\n",
       "      <td>6</td>\n",
       "      <td>AS</td>\n",
       "      <td>611</td>\n",
       "      <td>N413AS</td>\n",
       "      <td>LAS</td>\n",
       "      <td>SEA</td>\n",
       "      <td>1910</td>\n",
       "      <td>...</td>\n",
       "      <td>NaN</td>\n",
       "      <td>NaN</td>\n",
       "      <td>Alaska Airlines Inc.</td>\n",
       "      <td>LAS</td>\n",
       "      <td>McCarran International Airport</td>\n",
       "      <td>Las Vegas</td>\n",
       "      <td>NV</td>\n",
       "      <td>USA</td>\n",
       "      <td>36.08036</td>\n",
       "      <td>-115.15233</td>\n",
       "    </tr>\n",
       "    <tr>\n",
       "      <th>2</th>\n",
       "      <td>2015</td>\n",
       "      <td>7</td>\n",
       "      <td>8</td>\n",
       "      <td>3</td>\n",
       "      <td>WN</td>\n",
       "      <td>1483</td>\n",
       "      <td>N463WN</td>\n",
       "      <td>OAK</td>\n",
       "      <td>SEA</td>\n",
       "      <td>630</td>\n",
       "      <td>...</td>\n",
       "      <td>NaN</td>\n",
       "      <td>NaN</td>\n",
       "      <td>Southwest Airlines Co.</td>\n",
       "      <td>OAK</td>\n",
       "      <td>Oakland International Airport</td>\n",
       "      <td>Oakland</td>\n",
       "      <td>CA</td>\n",
       "      <td>USA</td>\n",
       "      <td>37.72129</td>\n",
       "      <td>-122.22072</td>\n",
       "    </tr>\n",
       "    <tr>\n",
       "      <th>3</th>\n",
       "      <td>2015</td>\n",
       "      <td>5</td>\n",
       "      <td>26</td>\n",
       "      <td>2</td>\n",
       "      <td>WN</td>\n",
       "      <td>193</td>\n",
       "      <td>N7745A</td>\n",
       "      <td>STL</td>\n",
       "      <td>DAL</td>\n",
       "      <td>810</td>\n",
       "      <td>...</td>\n",
       "      <td>152.0</td>\n",
       "      <td>0.0</td>\n",
       "      <td>Southwest Airlines Co.</td>\n",
       "      <td>STL</td>\n",
       "      <td>St. Louis International Airport at Lambert Field</td>\n",
       "      <td>St Louis</td>\n",
       "      <td>MO</td>\n",
       "      <td>USA</td>\n",
       "      <td>38.74769</td>\n",
       "      <td>-90.35999</td>\n",
       "    </tr>\n",
       "    <tr>\n",
       "      <th>4</th>\n",
       "      <td>2015</td>\n",
       "      <td>7</td>\n",
       "      <td>6</td>\n",
       "      <td>1</td>\n",
       "      <td>UA</td>\n",
       "      <td>253</td>\n",
       "      <td>N213UA</td>\n",
       "      <td>IAH</td>\n",
       "      <td>HNL</td>\n",
       "      <td>1000</td>\n",
       "      <td>...</td>\n",
       "      <td>NaN</td>\n",
       "      <td>NaN</td>\n",
       "      <td>United Air Lines Inc.</td>\n",
       "      <td>IAH</td>\n",
       "      <td>George Bush Intercontinental Airport</td>\n",
       "      <td>Houston</td>\n",
       "      <td>TX</td>\n",
       "      <td>USA</td>\n",
       "      <td>29.98047</td>\n",
       "      <td>-95.33972</td>\n",
       "    </tr>\n",
       "  </tbody>\n",
       "</table>\n",
       "<p>5 rows × 39 columns</p>\n",
       "</div>"
      ],
      "text/plain": [
       "   YEAR  MONTH  DAY  DAY_OF_WEEK AIRLINE_CODE  FLIGHT_NUMBER TAIL_NUMBER  \\\n",
       "0  2015      4    7            2           EV           4900      N759EV   \n",
       "1  2015      1   24            6           AS            611      N413AS   \n",
       "2  2015      7    8            3           WN           1483      N463WN   \n",
       "3  2015      5   26            2           WN            193      N7745A   \n",
       "4  2015      7    6            1           UA            253      N213UA   \n",
       "\n",
       "  ORIGIN_AIRPORT_CODE DESTINATION_AIRPORT_CODE  SCHEDULED_DEPARTURE  ...  \\\n",
       "0                 FWA                      DTW                 1340  ...   \n",
       "1                 LAS                      SEA                 1910  ...   \n",
       "2                 OAK                      SEA                  630  ...   \n",
       "3                 STL                      DAL                  810  ...   \n",
       "4                 IAH                      HNL                 1000  ...   \n",
       "\n",
       "   LATE_AIRCRAFT_DELAY  WEATHER_DELAY                      AIRLINE  \\\n",
       "0                  NaN            NaN  Atlantic Southeast Airlines   \n",
       "1                  NaN            NaN         Alaska Airlines Inc.   \n",
       "2                  NaN            NaN       Southwest Airlines Co.   \n",
       "3                152.0            0.0       Southwest Airlines Co.   \n",
       "4                  NaN            NaN        United Air Lines Inc.   \n",
       "\n",
       "   AIRPORT_CODE                                           AIRPORT        CITY  \\\n",
       "0           FWA                  Fort Wayne International Airport  Fort Wayne   \n",
       "1           LAS                    McCarran International Airport   Las Vegas   \n",
       "2           OAK                     Oakland International Airport     Oakland   \n",
       "3           STL  St. Louis International Airport at Lambert Field    St Louis   \n",
       "4           IAH              George Bush Intercontinental Airport     Houston   \n",
       "\n",
       "   STATE  COUNTRY  LATITUDE  LONGITUDE  \n",
       "0     IN      USA  40.97847  -85.19515  \n",
       "1     NV      USA  36.08036 -115.15233  \n",
       "2     CA      USA  37.72129 -122.22072  \n",
       "3     MO      USA  38.74769  -90.35999  \n",
       "4     TX      USA  29.98047  -95.33972  \n",
       "\n",
       "[5 rows x 39 columns]"
      ]
     },
     "execution_count": 4,
     "metadata": {},
     "output_type": "execute_result"
    }
   ],
   "source": [
    "#Preview the first 5 rows of the dataset \n",
    "df.head()"
   ]
  },
  {
   "cell_type": "code",
   "execution_count": 5,
   "metadata": {},
   "outputs": [
    {
     "name": "stdout",
     "output_type": "stream",
     "text": [
      "<class 'pandas.core.frame.DataFrame'>\n",
      "RangeIndex: 10000 entries, 0 to 9999\n",
      "Data columns (total 39 columns):\n",
      "YEAR                        10000 non-null int64\n",
      "MONTH                       10000 non-null int64\n",
      "DAY                         10000 non-null int64\n",
      "DAY_OF_WEEK                 10000 non-null int64\n",
      "AIRLINE_CODE                10000 non-null object\n",
      "FLIGHT_NUMBER               10000 non-null int64\n",
      "TAIL_NUMBER                 9981 non-null object\n",
      "ORIGIN_AIRPORT_CODE         10000 non-null object\n",
      "DESTINATION_AIRPORT_CODE    10000 non-null object\n",
      "SCHEDULED_DEPARTURE         10000 non-null int64\n",
      "DEPARTURE_TIME              9862 non-null float64\n",
      "DEPARTURE_DELAY             9862 non-null float64\n",
      "TAXI_OUT                    9852 non-null float64\n",
      "WHEELS_OFF                  9852 non-null float64\n",
      "SCHEDULED_TIME              10000 non-null float64\n",
      "ELAPSED_TIME                9828 non-null float64\n",
      "AIR_TIME                    9828 non-null float64\n",
      "DISTANCE                    10000 non-null int64\n",
      "WHEELS_ON                   9847 non-null float64\n",
      "TAXI_IN                     9847 non-null float64\n",
      "SCHEDULED_ARRIVAL           10000 non-null int64\n",
      "ARRIVAL_TIME                9847 non-null float64\n",
      "ARRIVAL_DELAY               9828 non-null float64\n",
      "DIVERTED                    10000 non-null int64\n",
      "CANCELLED                   10000 non-null int64\n",
      "CANCELLATION_REASON         148 non-null object\n",
      "AIR_SYSTEM_DELAY            1890 non-null float64\n",
      "SECURITY_DELAY              1890 non-null float64\n",
      "AIRLINE_DELAY               1890 non-null float64\n",
      "LATE_AIRCRAFT_DELAY         1890 non-null float64\n",
      "WEATHER_DELAY               1890 non-null float64\n",
      "AIRLINE                     10000 non-null object\n",
      "AIRPORT_CODE                9184 non-null object\n",
      "AIRPORT                     9184 non-null object\n",
      "CITY                        9184 non-null object\n",
      "STATE                       9184 non-null object\n",
      "COUNTRY                     9184 non-null object\n",
      "LATITUDE                    9173 non-null float64\n",
      "LONGITUDE                   9173 non-null float64\n",
      "dtypes: float64(18), int64(10), object(11)\n",
      "memory usage: 3.0+ MB\n"
     ]
    }
   ],
   "source": [
    "df.info()"
   ]
  },
  {
   "cell_type": "markdown",
   "metadata": {},
   "source": [
    "Before we begin any data cleaning or transformations, let's take a look at the distribution of our variables. "
   ]
  },
  {
   "cell_type": "code",
   "execution_count": 6,
   "metadata": {},
   "outputs": [
    {
     "data": {
      "image/png": "[encoded data removed]",
      "text/plain": [
       "<Figure size 1296x1080 with 30 Axes>"
      ]
     },
     "metadata": {
      "needs_background": "light"
     },
     "output_type": "display_data"
    }
   ],
   "source": [
    "#First, let's plot a histogram for each column\n",
    "df.hist(figsize=(18,15), bins='auto');"
   ]
  },
  {
   "cell_type": "markdown",
   "metadata": {},
   "source": [
    "Our analysis is looking at whether a departure delay is impacted by the month, day, airline or airport. \n",
    "\n",
    "Therefore, certain variables at this point can be dropped; firstly, anything involved in the delayed/cancellation reason can be removed. Next, we can remove \"year\" as this dataset only contains values from 2015. Other irrelevant variables in this context are flight number, tail number, departure time, taxi in, taxi out, wheels off, wheels on, and so on, and we will remove all of those unnecessary values below."
   ]
  },
  {
   "cell_type": "code",
   "execution_count": 7,
   "metadata": {},
   "outputs": [],
   "source": [
    "#Remove all columns not related to this analysis\n",
    "df = df.drop(['YEAR', 'FLIGHT_NUMBER', 'DEPARTURE_TIME', 'TAXI_IN', 'TAXI_OUT', \n",
    "              'WHEELS_OFF', 'WHEELS_ON', 'ELAPSED_TIME', 'AIR_TIME', 'ARRIVAL_TIME', \n",
    "              'DIVERTED', 'CANCELLED', 'TAIL_NUMBER', 'CANCELLATION_REASON', \n",
    "              'LATITUDE', 'LONGITUDE', 'AIRPORT', 'DAY'], axis=1)"
   ]
  },
  {
   "cell_type": "code",
   "execution_count": 8,
   "metadata": {},
   "outputs": [
    {
     "data": {
      "text/html": [
       "<div>\n",
       "<style scoped>\n",
       "    .dataframe tbody tr th:only-of-type {\n",
       "        vertical-align: middle;\n",
       "    }\n",
       "\n",
       "    .dataframe tbody tr th {\n",
       "        vertical-align: top;\n",
       "    }\n",
       "\n",
       "    .dataframe thead th {\n",
       "        text-align: right;\n",
       "    }\n",
       "</style>\n",
       "<table border=\"1\" class=\"dataframe\">\n",
       "  <thead>\n",
       "    <tr style=\"text-align: right;\">\n",
       "      <th></th>\n",
       "      <th>MONTH</th>\n",
       "      <th>DAY_OF_WEEK</th>\n",
       "      <th>SCHEDULED_DEPARTURE</th>\n",
       "      <th>DEPARTURE_DELAY</th>\n",
       "      <th>SCHEDULED_TIME</th>\n",
       "      <th>DISTANCE</th>\n",
       "      <th>SCHEDULED_ARRIVAL</th>\n",
       "      <th>ARRIVAL_DELAY</th>\n",
       "      <th>AIR_SYSTEM_DELAY</th>\n",
       "      <th>SECURITY_DELAY</th>\n",
       "      <th>AIRLINE_DELAY</th>\n",
       "      <th>LATE_AIRCRAFT_DELAY</th>\n",
       "      <th>WEATHER_DELAY</th>\n",
       "    </tr>\n",
       "  </thead>\n",
       "  <tbody>\n",
       "    <tr>\n",
       "      <th>count</th>\n",
       "      <td>10000.000000</td>\n",
       "      <td>10000.000000</td>\n",
       "      <td>10000.000000</td>\n",
       "      <td>9862.000000</td>\n",
       "      <td>10000.000000</td>\n",
       "      <td>10000.000000</td>\n",
       "      <td>10000.000000</td>\n",
       "      <td>9828.000000</td>\n",
       "      <td>1890.000000</td>\n",
       "      <td>1890.000000</td>\n",
       "      <td>1890.000000</td>\n",
       "      <td>1890.000000</td>\n",
       "      <td>1890.000000</td>\n",
       "    </tr>\n",
       "    <tr>\n",
       "      <th>mean</th>\n",
       "      <td>6.501900</td>\n",
       "      <td>3.891800</td>\n",
       "      <td>1334.976400</td>\n",
       "      <td>9.386534</td>\n",
       "      <td>141.795600</td>\n",
       "      <td>822.093000</td>\n",
       "      <td>1499.100000</td>\n",
       "      <td>4.565527</td>\n",
       "      <td>12.908995</td>\n",
       "      <td>0.043915</td>\n",
       "      <td>17.202116</td>\n",
       "      <td>23.922751</td>\n",
       "      <td>2.921693</td>\n",
       "    </tr>\n",
       "    <tr>\n",
       "      <th>std</th>\n",
       "      <td>3.423882</td>\n",
       "      <td>1.974255</td>\n",
       "      <td>481.846473</td>\n",
       "      <td>34.263006</td>\n",
       "      <td>75.881286</td>\n",
       "      <td>613.030353</td>\n",
       "      <td>504.603682</td>\n",
       "      <td>36.390556</td>\n",
       "      <td>23.884542</td>\n",
       "      <td>0.973811</td>\n",
       "      <td>39.632328</td>\n",
       "      <td>42.796270</td>\n",
       "      <td>17.347390</td>\n",
       "    </tr>\n",
       "    <tr>\n",
       "      <th>min</th>\n",
       "      <td>1.000000</td>\n",
       "      <td>1.000000</td>\n",
       "      <td>5.000000</td>\n",
       "      <td>-36.000000</td>\n",
       "      <td>20.000000</td>\n",
       "      <td>31.000000</td>\n",
       "      <td>1.000000</td>\n",
       "      <td>-58.000000</td>\n",
       "      <td>0.000000</td>\n",
       "      <td>0.000000</td>\n",
       "      <td>0.000000</td>\n",
       "      <td>0.000000</td>\n",
       "      <td>0.000000</td>\n",
       "    </tr>\n",
       "    <tr>\n",
       "      <th>25%</th>\n",
       "      <td>4.000000</td>\n",
       "      <td>2.000000</td>\n",
       "      <td>925.000000</td>\n",
       "      <td>-5.000000</td>\n",
       "      <td>85.000000</td>\n",
       "      <td>369.000000</td>\n",
       "      <td>1115.000000</td>\n",
       "      <td>-13.000000</td>\n",
       "      <td>0.000000</td>\n",
       "      <td>0.000000</td>\n",
       "      <td>0.000000</td>\n",
       "      <td>0.000000</td>\n",
       "      <td>0.000000</td>\n",
       "    </tr>\n",
       "    <tr>\n",
       "      <th>50%</th>\n",
       "      <td>7.000000</td>\n",
       "      <td>4.000000</td>\n",
       "      <td>1330.000000</td>\n",
       "      <td>-2.000000</td>\n",
       "      <td>123.000000</td>\n",
       "      <td>645.000000</td>\n",
       "      <td>1526.000000</td>\n",
       "      <td>-5.000000</td>\n",
       "      <td>2.000000</td>\n",
       "      <td>0.000000</td>\n",
       "      <td>1.000000</td>\n",
       "      <td>3.000000</td>\n",
       "      <td>0.000000</td>\n",
       "    </tr>\n",
       "    <tr>\n",
       "      <th>75%</th>\n",
       "      <td>9.000000</td>\n",
       "      <td>6.000000</td>\n",
       "      <td>1734.250000</td>\n",
       "      <td>8.000000</td>\n",
       "      <td>174.000000</td>\n",
       "      <td>1068.000000</td>\n",
       "      <td>1918.000000</td>\n",
       "      <td>8.000000</td>\n",
       "      <td>17.000000</td>\n",
       "      <td>0.000000</td>\n",
       "      <td>18.000000</td>\n",
       "      <td>31.000000</td>\n",
       "      <td>0.000000</td>\n",
       "    </tr>\n",
       "    <tr>\n",
       "      <th>max</th>\n",
       "      <td>12.000000</td>\n",
       "      <td>7.000000</td>\n",
       "      <td>2359.000000</td>\n",
       "      <td>588.000000</td>\n",
       "      <td>680.000000</td>\n",
       "      <td>4983.000000</td>\n",
       "      <td>2359.000000</td>\n",
       "      <td>581.000000</td>\n",
       "      <td>225.000000</td>\n",
       "      <td>26.000000</td>\n",
       "      <td>581.000000</td>\n",
       "      <td>470.000000</td>\n",
       "      <td>302.000000</td>\n",
       "    </tr>\n",
       "    <tr>\n",
       "      <th>+3_std</th>\n",
       "      <td>16.773546</td>\n",
       "      <td>9.814565</td>\n",
       "      <td>2780.515819</td>\n",
       "      <td>112.175553</td>\n",
       "      <td>369.439459</td>\n",
       "      <td>2661.184059</td>\n",
       "      <td>3012.911047</td>\n",
       "      <td>113.737196</td>\n",
       "      <td>84.562620</td>\n",
       "      <td>2.965350</td>\n",
       "      <td>136.099101</td>\n",
       "      <td>152.311563</td>\n",
       "      <td>54.963862</td>\n",
       "    </tr>\n",
       "    <tr>\n",
       "      <th>-3_std</th>\n",
       "      <td>-3.769746</td>\n",
       "      <td>-2.030965</td>\n",
       "      <td>-110.563019</td>\n",
       "      <td>-93.402485</td>\n",
       "      <td>-85.848259</td>\n",
       "      <td>-1016.998059</td>\n",
       "      <td>-14.711047</td>\n",
       "      <td>-104.606142</td>\n",
       "      <td>-58.744630</td>\n",
       "      <td>-2.877519</td>\n",
       "      <td>-101.694868</td>\n",
       "      <td>-104.466060</td>\n",
       "      <td>-49.120476</td>\n",
       "    </tr>\n",
       "  </tbody>\n",
       "</table>\n",
       "</div>"
      ],
      "text/plain": [
       "               MONTH   DAY_OF_WEEK  SCHEDULED_DEPARTURE  DEPARTURE_DELAY  \\\n",
       "count   10000.000000  10000.000000         10000.000000      9862.000000   \n",
       "mean        6.501900      3.891800          1334.976400         9.386534   \n",
       "std         3.423882      1.974255           481.846473        34.263006   \n",
       "min         1.000000      1.000000             5.000000       -36.000000   \n",
       "25%         4.000000      2.000000           925.000000        -5.000000   \n",
       "50%         7.000000      4.000000          1330.000000        -2.000000   \n",
       "75%         9.000000      6.000000          1734.250000         8.000000   \n",
       "max        12.000000      7.000000          2359.000000       588.000000   \n",
       "+3_std     16.773546      9.814565          2780.515819       112.175553   \n",
       "-3_std     -3.769746     -2.030965          -110.563019       -93.402485   \n",
       "\n",
       "        SCHEDULED_TIME      DISTANCE  SCHEDULED_ARRIVAL  ARRIVAL_DELAY  \\\n",
       "count     10000.000000  10000.000000       10000.000000    9828.000000   \n",
       "mean        141.795600    822.093000        1499.100000       4.565527   \n",
       "std          75.881286    613.030353         504.603682      36.390556   \n",
       "min          20.000000     31.000000           1.000000     -58.000000   \n",
       "25%          85.000000    369.000000        1115.000000     -13.000000   \n",
       "50%         123.000000    645.000000        1526.000000      -5.000000   \n",
       "75%         174.000000   1068.000000        1918.000000       8.000000   \n",
       "max         680.000000   4983.000000        2359.000000     581.000000   \n",
       "+3_std      369.439459   2661.184059        3012.911047     113.737196   \n",
       "-3_std      -85.848259  -1016.998059         -14.711047    -104.606142   \n",
       "\n",
       "        AIR_SYSTEM_DELAY  SECURITY_DELAY  AIRLINE_DELAY  LATE_AIRCRAFT_DELAY  \\\n",
       "count        1890.000000     1890.000000    1890.000000          1890.000000   \n",
       "mean           12.908995        0.043915      17.202116            23.922751   \n",
       "std            23.884542        0.973811      39.632328            42.796270   \n",
       "min             0.000000        0.000000       0.000000             0.000000   \n",
       "25%             0.000000        0.000000       0.000000             0.000000   \n",
       "50%             2.000000        0.000000       1.000000             3.000000   \n",
       "75%            17.000000        0.000000      18.000000            31.000000   \n",
       "max           225.000000       26.000000     581.000000           470.000000   \n",
       "+3_std         84.562620        2.965350     136.099101           152.311563   \n",
       "-3_std        -58.744630       -2.877519    -101.694868          -104.466060   \n",
       "\n",
       "        WEATHER_DELAY  \n",
       "count     1890.000000  \n",
       "mean         2.921693  \n",
       "std         17.347390  \n",
       "min          0.000000  \n",
       "25%          0.000000  \n",
       "50%          0.000000  \n",
       "75%          0.000000  \n",
       "max        302.000000  \n",
       "+3_std      54.963862  \n",
       "-3_std     -49.120476  "
      ]
     },
     "execution_count": 8,
     "metadata": {},
     "output_type": "execute_result"
    }
   ],
   "source": [
    "#Display some sample statistics and look for outliers \n",
    "\n",
    "desc_df = df.describe()\n",
    "\n",
    "#add std metric at the bottom to look for outliers that 3 stds away from the mean\n",
    "desc_df.loc['+3_std'] = desc_df.loc['mean'] + (desc_df.loc['std'] * 3)\n",
    "desc_df.loc['-3_std'] = desc_df.loc['mean'] - (desc_df.loc['std'] * 3)\n",
    "\n",
    "desc_df"
   ]
  },
  {
   "cell_type": "markdown",
   "metadata": {},
   "source": [
    "Before we continue, I will need to deal with null values in my dataset. For columns where the string information is unknown, such as airport code, city, state, etc, we will replace these values with 0. For values involving departure and arrival delays, we will fill the NaN values with the columns' median."
   ]
  },
  {
   "cell_type": "code",
   "execution_count": 9,
   "metadata": {
    "scrolled": true
   },
   "outputs": [
    {
     "data": {
      "text/plain": [
       "MONTH                          0\n",
       "DAY_OF_WEEK                    0\n",
       "AIRLINE_CODE                   0\n",
       "ORIGIN_AIRPORT_CODE            0\n",
       "DESTINATION_AIRPORT_CODE       0\n",
       "SCHEDULED_DEPARTURE            0\n",
       "DEPARTURE_DELAY              138\n",
       "SCHEDULED_TIME                 0\n",
       "DISTANCE                       0\n",
       "SCHEDULED_ARRIVAL              0\n",
       "ARRIVAL_DELAY                172\n",
       "AIR_SYSTEM_DELAY            8110\n",
       "SECURITY_DELAY              8110\n",
       "AIRLINE_DELAY               8110\n",
       "LATE_AIRCRAFT_DELAY         8110\n",
       "WEATHER_DELAY               8110\n",
       "AIRLINE                        0\n",
       "AIRPORT_CODE                 816\n",
       "CITY                         816\n",
       "STATE                        816\n",
       "COUNTRY                      816\n",
       "dtype: int64"
      ]
     },
     "execution_count": 9,
     "metadata": {},
     "output_type": "execute_result"
    }
   ],
   "source": [
    "#Exploring null values \n",
    "df.isna().sum()"
   ]
  },
  {
   "cell_type": "code",
   "execution_count": 10,
   "metadata": {},
   "outputs": [],
   "source": [
    "#Replace null values with blanks for these string columns where the information is unknown \n",
    "\n",
    "# df = df.replace(\"nan\",\"0\")\n",
    "\n",
    "col = ['AIRPORT_CODE','CITY', 'STATE', 'COUNTRY', 'AIR_SYSTEM_DELAY', 'SECURITY_DELAY', 'AIRLINE_DELAY', \n",
    "       'LATE_AIRCRAFT_DELAY', 'WEATHER_DELAY' ]\n",
    "\n",
    "for name in col:\n",
    "    df[name] = df[name].fillna(value=0)"
   ]
  },
  {
   "cell_type": "code",
   "execution_count": 11,
   "metadata": {
    "scrolled": true
   },
   "outputs": [
    {
     "data": {
      "text/plain": [
       "MONTH                         0\n",
       "DAY_OF_WEEK                   0\n",
       "AIRLINE_CODE                  0\n",
       "ORIGIN_AIRPORT_CODE           0\n",
       "DESTINATION_AIRPORT_CODE      0\n",
       "SCHEDULED_DEPARTURE           0\n",
       "DEPARTURE_DELAY             138\n",
       "SCHEDULED_TIME                0\n",
       "DISTANCE                      0\n",
       "SCHEDULED_ARRIVAL             0\n",
       "ARRIVAL_DELAY               172\n",
       "AIR_SYSTEM_DELAY              0\n",
       "SECURITY_DELAY                0\n",
       "AIRLINE_DELAY                 0\n",
       "LATE_AIRCRAFT_DELAY           0\n",
       "WEATHER_DELAY                 0\n",
       "AIRLINE                       0\n",
       "AIRPORT_CODE                  0\n",
       "CITY                          0\n",
       "STATE                         0\n",
       "COUNTRY                       0\n",
       "dtype: int64"
      ]
     },
     "execution_count": 11,
     "metadata": {},
     "output_type": "execute_result"
    }
   ],
   "source": [
    "#See if any null values are remaining \n",
    "df.isna().sum()"
   ]
  },
  {
   "cell_type": "code",
   "execution_count": 12,
   "metadata": {},
   "outputs": [],
   "source": [
    "#For unknown variables involving time, replace nans with median values \n",
    "#Median values were used instead of mean values as potential outliers (i.e. longer air time, extreme departure \n",
    "#delays etc) will have a stronger influence on the mean than the median\n",
    "\n",
    "col2 = ['DEPARTURE_DELAY', 'ARRIVAL_DELAY']\n",
    "\n",
    "for value in col2:\n",
    "    df[value].fillna(df[value].median(), inplace=True)"
   ]
  },
  {
   "cell_type": "code",
   "execution_count": 13,
   "metadata": {
    "scrolled": true
   },
   "outputs": [
    {
     "data": {
      "text/plain": [
       "MONTH                       0\n",
       "DAY_OF_WEEK                 0\n",
       "AIRLINE_CODE                0\n",
       "ORIGIN_AIRPORT_CODE         0\n",
       "DESTINATION_AIRPORT_CODE    0\n",
       "SCHEDULED_DEPARTURE         0\n",
       "DEPARTURE_DELAY             0\n",
       "SCHEDULED_TIME              0\n",
       "DISTANCE                    0\n",
       "SCHEDULED_ARRIVAL           0\n",
       "ARRIVAL_DELAY               0\n",
       "AIR_SYSTEM_DELAY            0\n",
       "SECURITY_DELAY              0\n",
       "AIRLINE_DELAY               0\n",
       "LATE_AIRCRAFT_DELAY         0\n",
       "WEATHER_DELAY               0\n",
       "AIRLINE                     0\n",
       "AIRPORT_CODE                0\n",
       "CITY                        0\n",
       "STATE                       0\n",
       "COUNTRY                     0\n",
       "dtype: int64"
      ]
     },
     "execution_count": 13,
     "metadata": {},
     "output_type": "execute_result"
    }
   ],
   "source": [
    "#Check for any remaining null values \n",
    "df.isna().sum()"
   ]
  },
  {
   "cell_type": "markdown",
   "metadata": {},
   "source": [
    "The next step of our EDA will be to determine if there are any outliers in our dataset and decide if they need to be removed or not."
   ]
  },
  {
   "cell_type": "code",
   "execution_count": 14,
   "metadata": {},
   "outputs": [
    {
     "data": {
      "text/plain": [
       "<matplotlib.axes._subplots.AxesSubplot at 0x7fcad58c35c0>"
      ]
     },
     "execution_count": 14,
     "metadata": {},
     "output_type": "execute_result"
    },
    {
     "data": {
      "image/png": "[encoded data removed]",
      "text/plain": [
       "<Figure size 1152x576 with 2 Axes>"
      ]
     },
     "metadata": {
      "needs_background": "light"
     },
     "output_type": "display_data"
    }
   ],
   "source": [
    "#Create boxplots to identify outliers\n",
    "plt.figure(figsize=(16,8))\n",
    "plt.subplot(221)\n",
    "sns.boxplot(x=df['DEPARTURE_DELAY'])\n",
    "plt.subplot(222)\n",
    "sns.boxplot(x=df['ARRIVAL_DELAY'])"
   ]
  },
  {
   "cell_type": "markdown",
   "metadata": {},
   "source": [
    "As we see from the boxplots above, there are several outliers in both departure and arrival delays. In our dataset there are clearly some extreme examples where arrivals and departures were severly delayed, likely due to extentuating, unusual circumstances. For now we will leave the data as is in order to explore it further, however we may consider dropping these outliers later on. "
   ]
  },
  {
   "cell_type": "code",
   "execution_count": 15,
   "metadata": {},
   "outputs": [
    {
     "name": "stdout",
     "output_type": "stream",
     "text": [
      "415\n",
      "423\n"
     ]
    }
   ],
   "source": [
    "#Find the number of unique origin and destination airport codes \n",
    "print(df['ORIGIN_AIRPORT_CODE'].nunique())\n",
    "print(df['DESTINATION_AIRPORT_CODE'].nunique())"
   ]
  },
  {
   "cell_type": "markdown",
   "metadata": {},
   "source": [
    "As there are so many airports in our dataset, let's take a look at the top 10 airports with the most frequent amount of flights."
   ]
  },
  {
   "cell_type": "code",
   "execution_count": 16,
   "metadata": {},
   "outputs": [
    {
     "data": {
      "image/png": "[encoded data removed]",
      "text/plain": [
       "<Figure size 720x720 with 1 Axes>"
      ]
     },
     "metadata": {
      "needs_background": "light"
     },
     "output_type": "display_data"
    }
   ],
   "source": [
    "#Build histogram to find the airports with the most flight traffic \n",
    "plt.figure(figsize=(10, 10))\n",
    "axis = sns.countplot(x=df['ORIGIN_AIRPORT_CODE'], data = df,\n",
    "              order=df['ORIGIN_AIRPORT_CODE'].value_counts().iloc[:10].index)\n",
    "axis.set_xticklabels(axis.get_xticklabels())\n",
    "\n",
    "plt.show()"
   ]
  },
  {
   "cell_type": "markdown",
   "metadata": {},
   "source": [
    "Atlanta, Chicago and Dallas appear to be the top 3 busiest airports. This makes sense, as they are hubs for Delta, United and American Airlines, respectively. "
   ]
  },
  {
   "cell_type": "code",
   "execution_count": 17,
   "metadata": {},
   "outputs": [
    {
     "data": {
      "text/plain": [
       "GRI        1\n",
       "PSE        1\n",
       "15249      1\n",
       "11423      1\n",
       "13830      1\n",
       "        ... \n",
       "LAX      298\n",
       "DEN      313\n",
       "DFW      423\n",
       "ORD      466\n",
       "ATL      594\n",
       "Name: ORIGIN_AIRPORT_CODE, Length: 415, dtype: int64"
      ]
     },
     "execution_count": 17,
     "metadata": {},
     "output_type": "execute_result"
    }
   ],
   "source": [
    "#We see below that several airports only appear once in the dataset \n",
    "df['ORIGIN_AIRPORT_CODE'].value_counts(ascending=True)"
   ]
  },
  {
   "cell_type": "markdown",
   "metadata": {},
   "source": [
    "As we see above, there are over 400 airports in our dataset. Additionally, some of the listed airports only appear once; actually, more than 50% of our data appears rather infrequently. Before we one-hot-encode this column, it makes sense to bin this variable.\n",
    "\n",
    "I have chosen to bin this variable based on whether the origin of the airport is an airport with heavy, medium light, or very light air traffic (i.e. if the airport appears very frequently in the dataset then this is an airport with high traffic, somewhat frequently then medium, etc. "
   ]
  },
  {
   "cell_type": "code",
   "execution_count": 18,
   "metadata": {},
   "outputs": [],
   "source": [
    "#Create new variable \"origin_airport_type\" based on the quantile for their number of flights \n",
    "bins_97 = df['ORIGIN_AIRPORT_CODE'].value_counts().quantile(0.97)\n",
    "bins_90 = df['ORIGIN_AIRPORT_CODE'].value_counts().quantile(0.90)\n",
    "bins_77 = df['ORIGIN_AIRPORT_CODE'].value_counts().quantile(0.77)\n",
    "\n",
    "airports = df['ORIGIN_AIRPORT_CODE'].value_counts()\n",
    "airports_index = df[df['ORIGIN_AIRPORT_CODE'].isin(airports[airports > bins_97].index)].index\n",
    "df.loc[airports_index,'ORIGIN_AIRPORT_TYPE'] = 'High'\n",
    "\n",
    "airports_index = df[df['ORIGIN_AIRPORT_CODE'].isin(airports[(airports > bins_90)&(airports <= bins_97)].index)].index\n",
    "df.loc[airports_index,'ORIGIN_AIRPORT_TYPE'] = 'Medium'\n",
    "\n",
    "airports_index = df[df['ORIGIN_AIRPORT_CODE'].isin(airports[(airports > bins_77)&(airports <= bins_90)].index)].index\n",
    "df.loc[airports_index,'ORIGIN_AIRPORT_TYPE'] = 'Low'\n",
    "\n",
    "airports_index = df[df['ORIGIN_AIRPORT_CODE'].isin(airports[airports <= bins_77].index)].index\n",
    "df.loc[airports_index,'ORIGIN_AIRPORT_TYPE'] = 'Very Low'"
   ]
  },
  {
   "cell_type": "code",
   "execution_count": 19,
   "metadata": {},
   "outputs": [
    {
     "data": {
      "text/plain": [
       "High        3903\n",
       "Medium      3165\n",
       "Very Low    1468\n",
       "Low         1464\n",
       "Name: ORIGIN_AIRPORT_TYPE, dtype: int64"
      ]
     },
     "execution_count": 19,
     "metadata": {},
     "output_type": "execute_result"
    }
   ],
   "source": [
    "#see the distribution of this new variable \n",
    "df['ORIGIN_AIRPORT_TYPE'].value_counts()"
   ]
  },
  {
   "cell_type": "code",
   "execution_count": 20,
   "metadata": {},
   "outputs": [],
   "source": [
    "#Repeat this same binning process for the destination airports \n",
    "bins_97 = df['DESTINATION_AIRPORT_CODE'].value_counts().quantile(0.97)\n",
    "bins_90 = df['DESTINATION_AIRPORT_CODE'].value_counts().quantile(0.90)\n",
    "bins_77 = df['DESTINATION_AIRPORT_CODE'].value_counts().quantile(0.77)\n",
    "\n",
    "airports = df['DESTINATION_AIRPORT_CODE'].value_counts()\n",
    "airports_index = df[df['DESTINATION_AIRPORT_CODE'].isin(airports[airports > bins_97].index)].index\n",
    "df.loc[airports_index,'DESTINATION_AIRPORT_TYPE'] = 'High'\n",
    "\n",
    "airports_index = df[df['DESTINATION_AIRPORT_CODE'].isin(airports[(airports > bins_90)&(airports <= bins_97)].index)].index\n",
    "df.loc[airports_index,'DESTINATION_AIRPORT_TYPE'] = 'Medium'\n",
    "\n",
    "airports_index = df[df['DESTINATION_AIRPORT_CODE'].isin(airports[(airports > bins_77)&(airports <= bins_90)].index)].index\n",
    "df.loc[airports_index,'DESTINATION_AIRPORT_TYPE'] = 'Low'\n",
    "\n",
    "airports_index = df[df['DESTINATION_AIRPORT_CODE'].isin(airports[airports <= bins_77].index)].index\n",
    "df.loc[airports_index,'DESTINATION_AIRPORT_TYPE'] = 'Very Low'"
   ]
  },
  {
   "cell_type": "code",
   "execution_count": 21,
   "metadata": {
    "scrolled": true
   },
   "outputs": [
    {
     "data": {
      "text/plain": [
       "High        3988\n",
       "Medium      3125\n",
       "Low         1516\n",
       "Very Low    1371\n",
       "Name: DESTINATION_AIRPORT_TYPE, dtype: int64"
      ]
     },
     "execution_count": 21,
     "metadata": {},
     "output_type": "execute_result"
    }
   ],
   "source": [
    "#See the distribution of this new variable\n",
    "df['DESTINATION_AIRPORT_TYPE'].value_counts()"
   ]
  },
  {
   "cell_type": "markdown",
   "metadata": {},
   "source": [
    "It appears that the value distributions for the both the origin and airport types are quite similar. This makes sense, however we will keep these variables separate in order to identify if whether the traffic of the origin airport, as well as whether the traffic of the destination airport, will impact whether a flight is predicted to be delayed or not.\n",
    "\n",
    "Let's continue by taking a look at the correlation matrix for this dataset."
   ]
  },
  {
   "cell_type": "code",
   "execution_count": 22,
   "metadata": {},
   "outputs": [
    {
     "data": {
      "image/png": "[encoded data removed]",
      "text/plain": [
       "<Figure size 1440x720 with 2 Axes>"
      ]
     },
     "metadata": {
      "needs_background": "light"
     },
     "output_type": "display_data"
    }
   ],
   "source": [
    "#Create a heatmap which shows correlation\n",
    "corr = df.corr().abs()\n",
    "plt.figure(figsize=(20,10))\n",
    "ax = sns.heatmap(corr, annot=True, fmt='.2g', square=True, cmap= 'Blues') \n",
    "bottom, top = ax.get_ylim()\n",
    "ax.set_ylim(bottom + 0.5, top - 0.5)\n",
    "plt.show()"
   ]
  },
  {
   "cell_type": "code",
   "execution_count": 23,
   "metadata": {
    "scrolled": true
   },
   "outputs": [
    {
     "data": {
      "text/plain": [
       "MONTH                 -0.028991\n",
       "DAY_OF_WEEK           -0.006471\n",
       "SCHEDULED_DEPARTURE    0.120952\n",
       "DEPARTURE_DELAY        1.000000\n",
       "SCHEDULED_TIME         0.024907\n",
       "DISTANCE               0.023008\n",
       "SCHEDULED_ARRIVAL      0.109448\n",
       "ARRIVAL_DELAY          0.924840\n",
       "AIR_SYSTEM_DELAY       0.269387\n",
       "SECURITY_DELAY         0.011544\n",
       "AIRLINE_DELAY          0.606123\n",
       "LATE_AIRCRAFT_DELAY    0.691296\n",
       "WEATHER_DELAY          0.253331\n",
       "Name: DEPARTURE_DELAY, dtype: float64"
      ]
     },
     "execution_count": 23,
     "metadata": {},
     "output_type": "execute_result"
    }
   ],
   "source": [
    "#Investigate which features are correlated with the target variable \n",
    "df.corr()['DEPARTURE_DELAY']"
   ]
  },
  {
   "cell_type": "markdown",
   "metadata": {},
   "source": [
    "Unsurprisingly, we see that ARRIVAL_DELAY has the strongest correlation with departure delay. Additionally, AIRLINE_DELAY, and LATE_AIRCRAFT_DELAY have higher correlations with a delayed flight compared to other similar predictors."
   ]
  },
  {
   "cell_type": "code",
   "execution_count": 24,
   "metadata": {},
   "outputs": [],
   "source": [
    "#Convert all categorical variables to string types \n",
    "category = ['AIRLINE_CODE', 'ORIGIN_AIRPORT_CODE', 'DESTINATION_AIRPORT_CODE',\n",
    "           'AIRPORT_CODE', 'CITY', 'STATE', 'COUNTRY', 'AIRLINE', \n",
    "            'ORIGIN_AIRPORT_TYPE', 'DESTINATION_AIRPORT_TYPE',]\n",
    "df[category]=df[category].astype('str')"
   ]
  },
  {
   "cell_type": "code",
   "execution_count": 25,
   "metadata": {},
   "outputs": [],
   "source": [
    "#Convert all continuous variables to float types \n",
    "floats = ['MONTH', 'DAY_OF_WEEK', 'SCHEDULED_DEPARTURE', 'SCHEDULED_TIME',\n",
    "       'DISTANCE', 'SCHEDULED_ARRIVAL', 'ARRIVAL_DELAY', 'AIR_SYSTEM_DELAY',\n",
    "       'SECURITY_DELAY', 'AIRLINE_DELAY', 'LATE_AIRCRAFT_DELAY',\n",
    "       'WEATHER_DELAY', 'DEPARTURE_DELAY']\n",
    "df[floats]=df[floats].astype('int')"
   ]
  },
  {
   "cell_type": "markdown",
   "metadata": {},
   "source": [
    "(txt about ohe)"
   ]
  },
  {
   "cell_type": "code",
   "execution_count": 26,
   "metadata": {},
   "outputs": [
    {
     "name": "stdout",
     "output_type": "stream",
     "text": [
      "<class 'pandas.core.frame.DataFrame'>\n",
      "RangeIndex: 10000 entries, 0 to 9999\n",
      "Data columns (total 59 columns):\n",
      "AIRLINE_CODE                            10000 non-null object\n",
      "ORIGIN_AIRPORT_CODE                     10000 non-null object\n",
      "DESTINATION_AIRPORT_CODE                10000 non-null object\n",
      "SCHEDULED_DEPARTURE                     10000 non-null int64\n",
      "DEPARTURE_DELAY                         10000 non-null int64\n",
      "SCHEDULED_TIME                          10000 non-null int64\n",
      "DISTANCE                                10000 non-null int64\n",
      "SCHEDULED_ARRIVAL                       10000 non-null int64\n",
      "ARRIVAL_DELAY                           10000 non-null int64\n",
      "AIR_SYSTEM_DELAY                        10000 non-null int64\n",
      "SECURITY_DELAY                          10000 non-null int64\n",
      "AIRLINE_DELAY                           10000 non-null int64\n",
      "LATE_AIRCRAFT_DELAY                     10000 non-null int64\n",
      "WEATHER_DELAY                           10000 non-null int64\n",
      "AIRPORT_CODE                            10000 non-null object\n",
      "CITY                                    10000 non-null object\n",
      "STATE                                   10000 non-null object\n",
      "COUNTRY                                 10000 non-null object\n",
      "AIRLINE_Alaska Airlines Inc.            10000 non-null float64\n",
      "AIRLINE_American Airlines Inc.          10000 non-null float64\n",
      "AIRLINE_American Eagle Airlines Inc.    10000 non-null float64\n",
      "AIRLINE_Atlantic Southeast Airlines     10000 non-null float64\n",
      "AIRLINE_Delta Air Lines Inc.            10000 non-null float64\n",
      "AIRLINE_Frontier Airlines Inc.          10000 non-null float64\n",
      "AIRLINE_Hawaiian Airlines Inc.          10000 non-null float64\n",
      "AIRLINE_JetBlue Airways                 10000 non-null float64\n",
      "AIRLINE_Skywest Airlines Inc.           10000 non-null float64\n",
      "AIRLINE_Southwest Airlines Co.          10000 non-null float64\n",
      "AIRLINE_Spirit Air Lines                10000 non-null float64\n",
      "AIRLINE_US Airways Inc.                 10000 non-null float64\n",
      "AIRLINE_United Air Lines Inc.           10000 non-null float64\n",
      "AIRLINE_Virgin America                  10000 non-null float64\n",
      "ORIGIN_AIRPORT_TYPE_High                10000 non-null float64\n",
      "ORIGIN_AIRPORT_TYPE_Low                 10000 non-null float64\n",
      "ORIGIN_AIRPORT_TYPE_Medium              10000 non-null float64\n",
      "ORIGIN_AIRPORT_TYPE_Very Low            10000 non-null float64\n",
      "DESTINATION_AIRPORT_TYPE_High           10000 non-null float64\n",
      "DESTINATION_AIRPORT_TYPE_Low            10000 non-null float64\n",
      "DESTINATION_AIRPORT_TYPE_Medium         10000 non-null float64\n",
      "DESTINATION_AIRPORT_TYPE_Very Low       10000 non-null float64\n",
      "DAY_OF_WEEK_1                           10000 non-null float64\n",
      "DAY_OF_WEEK_2                           10000 non-null float64\n",
      "DAY_OF_WEEK_3                           10000 non-null float64\n",
      "DAY_OF_WEEK_4                           10000 non-null float64\n",
      "DAY_OF_WEEK_5                           10000 non-null float64\n",
      "DAY_OF_WEEK_6                           10000 non-null float64\n",
      "DAY_OF_WEEK_7                           10000 non-null float64\n",
      "MONTH_1                                 10000 non-null float64\n",
      "MONTH_2                                 10000 non-null float64\n",
      "MONTH_3                                 10000 non-null float64\n",
      "MONTH_4                                 10000 non-null float64\n",
      "MONTH_5                                 10000 non-null float64\n",
      "MONTH_6                                 10000 non-null float64\n",
      "MONTH_7                                 10000 non-null float64\n",
      "MONTH_8                                 10000 non-null float64\n",
      "MONTH_9                                 10000 non-null float64\n",
      "MONTH_10                                10000 non-null float64\n",
      "MONTH_11                                10000 non-null float64\n",
      "MONTH_12                                10000 non-null float64\n",
      "dtypes: float64(41), int64(11), object(7)\n",
      "memory usage: 4.5+ MB\n"
     ]
    }
   ],
   "source": [
    "#Need to OHE airline, origin airport, destination_airport, day of week \n",
    "\n",
    "df_new = pd.get_dummies(df, columns=['AIRLINE', 'ORIGIN_AIRPORT_TYPE', 'DESTINATION_AIRPORT_TYPE',\n",
    "                                     'DAY_OF_WEEK', 'MONTH'], dtype='float')\n",
    "df_new.info()"
   ]
  },
  {
   "cell_type": "code",
   "execution_count": 27,
   "metadata": {
    "scrolled": true
   },
   "outputs": [],
   "source": [
    "# We now have dummy variables that include the information on origin and destination airports, based on their \n",
    "# flight traffic, and as a result we can remove the other variables as their context and \n",
    "# #value is now embedded in our new varaible \n",
    "df_new = df_new.drop(['AIRLINE_CODE', 'AIRPORT_CODE', 'ORIGIN_AIRPORT_CODE', 'DESTINATION_AIRPORT_CODE',\n",
    "                      'CITY', 'STATE', 'COUNTRY'], axis=1)"
   ]
  },
  {
   "cell_type": "code",
   "execution_count": 28,
   "metadata": {
    "scrolled": true
   },
   "outputs": [
    {
     "name": "stdout",
     "output_type": "stream",
     "text": [
      "<class 'pandas.core.frame.DataFrame'>\n",
      "RangeIndex: 10000 entries, 0 to 9999\n",
      "Data columns (total 52 columns):\n",
      "SCHEDULED_DEPARTURE                     10000 non-null int64\n",
      "DEPARTURE_DELAY                         10000 non-null int64\n",
      "SCHEDULED_TIME                          10000 non-null int64\n",
      "DISTANCE                                10000 non-null int64\n",
      "SCHEDULED_ARRIVAL                       10000 non-null int64\n",
      "ARRIVAL_DELAY                           10000 non-null int64\n",
      "AIR_SYSTEM_DELAY                        10000 non-null int64\n",
      "SECURITY_DELAY                          10000 non-null int64\n",
      "AIRLINE_DELAY                           10000 non-null int64\n",
      "LATE_AIRCRAFT_DELAY                     10000 non-null int64\n",
      "WEATHER_DELAY                           10000 non-null int64\n",
      "AIRLINE_Alaska Airlines Inc.            10000 non-null float64\n",
      "AIRLINE_American Airlines Inc.          10000 non-null float64\n",
      "AIRLINE_American Eagle Airlines Inc.    10000 non-null float64\n",
      "AIRLINE_Atlantic Southeast Airlines     10000 non-null float64\n",
      "AIRLINE_Delta Air Lines Inc.            10000 non-null float64\n",
      "AIRLINE_Frontier Airlines Inc.          10000 non-null float64\n",
      "AIRLINE_Hawaiian Airlines Inc.          10000 non-null float64\n",
      "AIRLINE_JetBlue Airways                 10000 non-null float64\n",
      "AIRLINE_Skywest Airlines Inc.           10000 non-null float64\n",
      "AIRLINE_Southwest Airlines Co.          10000 non-null float64\n",
      "AIRLINE_Spirit Air Lines                10000 non-null float64\n",
      "AIRLINE_US Airways Inc.                 10000 non-null float64\n",
      "AIRLINE_United Air Lines Inc.           10000 non-null float64\n",
      "AIRLINE_Virgin America                  10000 non-null float64\n",
      "ORIGIN_AIRPORT_TYPE_High                10000 non-null float64\n",
      "ORIGIN_AIRPORT_TYPE_Low                 10000 non-null float64\n",
      "ORIGIN_AIRPORT_TYPE_Medium              10000 non-null float64\n",
      "ORIGIN_AIRPORT_TYPE_Very Low            10000 non-null float64\n",
      "DESTINATION_AIRPORT_TYPE_High           10000 non-null float64\n",
      "DESTINATION_AIRPORT_TYPE_Low            10000 non-null float64\n",
      "DESTINATION_AIRPORT_TYPE_Medium         10000 non-null float64\n",
      "DESTINATION_AIRPORT_TYPE_Very Low       10000 non-null float64\n",
      "DAY_OF_WEEK_1                           10000 non-null float64\n",
      "DAY_OF_WEEK_2                           10000 non-null float64\n",
      "DAY_OF_WEEK_3                           10000 non-null float64\n",
      "DAY_OF_WEEK_4                           10000 non-null float64\n",
      "DAY_OF_WEEK_5                           10000 non-null float64\n",
      "DAY_OF_WEEK_6                           10000 non-null float64\n",
      "DAY_OF_WEEK_7                           10000 non-null float64\n",
      "MONTH_1                                 10000 non-null float64\n",
      "MONTH_2                                 10000 non-null float64\n",
      "MONTH_3                                 10000 non-null float64\n",
      "MONTH_4                                 10000 non-null float64\n",
      "MONTH_5                                 10000 non-null float64\n",
      "MONTH_6                                 10000 non-null float64\n",
      "MONTH_7                                 10000 non-null float64\n",
      "MONTH_8                                 10000 non-null float64\n",
      "MONTH_9                                 10000 non-null float64\n",
      "MONTH_10                                10000 non-null float64\n",
      "MONTH_11                                10000 non-null float64\n",
      "MONTH_12                                10000 non-null float64\n",
      "dtypes: float64(41), int64(11)\n",
      "memory usage: 4.0 MB\n"
     ]
    }
   ],
   "source": [
    "#Preview datatypes of all the features in the dataset\n",
    "df_new.info()"
   ]
  },
  {
   "cell_type": "markdown",
   "metadata": {},
   "source": [
    "The final step in the data cleaning process is to transform the target variable from a continuous to a binary variable. If the departure delay time is greater than 0, then the filght will be classified as delayed."
   ]
  },
  {
   "cell_type": "code",
   "execution_count": 29,
   "metadata": {},
   "outputs": [
    {
     "data": {
      "text/plain": [
       "0    6284\n",
       "1    3716\n",
       "Name: DELAYED, dtype: int64"
      ]
     },
     "execution_count": 29,
     "metadata": {},
     "output_type": "execute_result"
    }
   ],
   "source": [
    "#Transform continuous target variable to binary variable\n",
    "#Variable will have value of 1 if departure was delayed, 0 otherwise \n",
    "df_new['DELAYED'] = df_new['DEPARTURE_DELAY'] > 0\n",
    "df_new = df_new.drop(['DEPARTURE_DELAY'], axis=1)\n",
    "df_new['DELAYED'] = df_new['DELAYED'].astype(int)  \n",
    "df_new['DELAYED'].value_counts()"
   ]
  },
  {
   "cell_type": "markdown",
   "metadata": {},
   "source": [
    "We see there is a bit of a class imbalance in our dataset. For now we will export this data to a new CSV file to proceed with the modelling process."
   ]
  },
  {
   "cell_type": "code",
   "execution_count": 30,
   "metadata": {},
   "outputs": [],
   "source": [
    "#Export final cleaned data to csv file \n",
    "df_new.to_csv('final_data.csv')"
   ]
  }
 ],
 "metadata": {
  "kernelspec": {
   "display_name": "learn-env",
   "language": "python",
   "name": "learn-env"
  },
  "language_info": {
   "codemirror_mode": {
    "name": "ipython",
    "version": 3
   },
   "file_extension": ".py",
   "mimetype": "text/x-python",
   "name": "python",
   "nbconvert_exporter": "python",
   "pygments_lexer": "ipython3",
   "version": "3.6.9"
  }
 },
 "nbformat": 4,
 "nbformat_minor": 4
}
