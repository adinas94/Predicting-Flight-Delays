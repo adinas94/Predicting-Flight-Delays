{
 "cells": [
  {
   "cell_type": "markdown",
   "metadata": {},
   "source": [
    "### Introduction"
   ]
  },
  {
   "cell_type": "markdown",
   "metadata": {},
   "source": [
    "The FAA, Federal Aviation Authority of the United States, is looking to improve air transportation efficiency across the United States. They have hired my team of data scientists to utilize data from 2015 Flight Delays and Cancellations to build a model that can predict whether a flight will be delayed or not. The FAA aims to use the results of this model to strategize how flights across the United States can run more smoothly; whether that be that specific airlines need to implement ways to improve timeliness, if specific airports are experiencing more delays than others, or whether some conditions are outside of the FAA's control (i.e. weather delays in Chicago or other areas with harsher winter climates that experience many delays due to snow in December). Having a model that can predict whether a flight is delayed or not can help the FAA determine how to allocate resources effectively in order to prevent flight delays in the United States as much as possible. \n",
    "\n",
    "I will begin this project by importing all of the necessary libraries and an exploratory data analysis. Overall, the goal of this project is to identify which machine learning model is best able to predict the likelihood that a flight will be delayed, using data from 2015 Flights and Cancellations. I will use a variety of machine learning models and tune them accordingly in order to optimize performance metrics for this model. "
   ]
  },
  {
   "cell_type": "markdown",
   "metadata": {},
   "source": [
    "### Data Cleaning"
   ]
  },
  {
   "cell_type": "code",
   "execution_count": 1,
   "metadata": {},
   "outputs": [],
   "source": [
    "#Import necessary libraries\n",
    "import pandas as pd\n",
    "import matplotlib.pyplot as plt\n",
    "%matplotlib inline\n",
    "import seaborn as sns\n",
    "from imblearn.under_sampling import TomekLinks\n",
    "from sklearn.model_selection import train_test_split\n",
    "from imblearn.over_sampling import SMOTE\n",
    "import numpy as np\n",
    "from sklearn.neighbors import KNeighborsClassifier\n",
    "from sklearn.feature_extraction.text import CountVectorizer\n",
    "from sklearn.preprocessing import StandardScaler"
   ]
  },
  {
   "cell_type": "code",
   "execution_count": 2,
   "metadata": {},
   "outputs": [],
   "source": [
    "#create dataframe \n",
    "df = pd.read_csv('travel_data.csv')\n",
    "df = df.drop(['Unnamed: 0'], axis=1)"
   ]
  },
  {
   "cell_type": "code",
   "execution_count": 3,
   "metadata": {},
   "outputs": [
    {
     "data": {
      "text/plain": [
       "(10000, 39)"
      ]
     },
     "execution_count": 3,
     "metadata": {},
     "output_type": "execute_result"
    }
   ],
   "source": [
    "#Investigate the shape of the data\n",
    "df.shape"
   ]
  },
  {
   "cell_type": "code",
   "execution_count": 4,
   "metadata": {},
   "outputs": [
    {
     "data": {
      "text/html": [
       "<div>\n",
       "<style scoped>\n",
       "    .dataframe tbody tr th:only-of-type {\n",
       "        vertical-align: middle;\n",
       "    }\n",
       "\n",
       "    .dataframe tbody tr th {\n",
       "        vertical-align: top;\n",
       "    }\n",
       "\n",
       "    .dataframe thead th {\n",
       "        text-align: right;\n",
       "    }\n",
       "</style>\n",
       "<table border=\"1\" class=\"dataframe\">\n",
       "  <thead>\n",
       "    <tr style=\"text-align: right;\">\n",
       "      <th></th>\n",
       "      <th>YEAR</th>\n",
       "      <th>MONTH</th>\n",
       "      <th>DAY</th>\n",
       "      <th>DAY_OF_WEEK</th>\n",
       "      <th>AIRLINE_CODE</th>\n",
       "      <th>FLIGHT_NUMBER</th>\n",
       "      <th>TAIL_NUMBER</th>\n",
       "      <th>ORIGIN_AIRPORT_CODE</th>\n",
       "      <th>DESTINATION_AIRPORT_CODE</th>\n",
       "      <th>SCHEDULED_DEPARTURE</th>\n",
       "      <th>...</th>\n",
       "      <th>LATE_AIRCRAFT_DELAY</th>\n",
       "      <th>WEATHER_DELAY</th>\n",
       "      <th>AIRLINE</th>\n",
       "      <th>AIRPORT_CODE</th>\n",
       "      <th>AIRPORT</th>\n",
       "      <th>CITY</th>\n",
       "      <th>STATE</th>\n",
       "      <th>COUNTRY</th>\n",
       "      <th>LATITUDE</th>\n",
       "      <th>LONGITUDE</th>\n",
       "    </tr>\n",
       "  </thead>\n",
       "  <tbody>\n",
       "    <tr>\n",
       "      <th>0</th>\n",
       "      <td>2015</td>\n",
       "      <td>1</td>\n",
       "      <td>28</td>\n",
       "      <td>3</td>\n",
       "      <td>WN</td>\n",
       "      <td>103</td>\n",
       "      <td>N7728D</td>\n",
       "      <td>DCA</td>\n",
       "      <td>MKE</td>\n",
       "      <td>705</td>\n",
       "      <td>...</td>\n",
       "      <td>NaN</td>\n",
       "      <td>NaN</td>\n",
       "      <td>Southwest Airlines Co.</td>\n",
       "      <td>DCA</td>\n",
       "      <td>Ronald Reagan Washington National Airport</td>\n",
       "      <td>Arlington</td>\n",
       "      <td>VA</td>\n",
       "      <td>USA</td>\n",
       "      <td>38.85208</td>\n",
       "      <td>-77.03772</td>\n",
       "    </tr>\n",
       "    <tr>\n",
       "      <th>1</th>\n",
       "      <td>2015</td>\n",
       "      <td>8</td>\n",
       "      <td>11</td>\n",
       "      <td>2</td>\n",
       "      <td>B6</td>\n",
       "      <td>153</td>\n",
       "      <td>N592JB</td>\n",
       "      <td>JFK</td>\n",
       "      <td>PBI</td>\n",
       "      <td>1859</td>\n",
       "      <td>...</td>\n",
       "      <td>255.0</td>\n",
       "      <td>0.0</td>\n",
       "      <td>JetBlue Airways</td>\n",
       "      <td>JFK</td>\n",
       "      <td>John F. Kennedy International Airport (New Yor...</td>\n",
       "      <td>New York</td>\n",
       "      <td>NY</td>\n",
       "      <td>USA</td>\n",
       "      <td>40.63975</td>\n",
       "      <td>-73.77893</td>\n",
       "    </tr>\n",
       "    <tr>\n",
       "      <th>2</th>\n",
       "      <td>2015</td>\n",
       "      <td>2</td>\n",
       "      <td>4</td>\n",
       "      <td>3</td>\n",
       "      <td>DL</td>\n",
       "      <td>1187</td>\n",
       "      <td>N921DN</td>\n",
       "      <td>MSP</td>\n",
       "      <td>DCA</td>\n",
       "      <td>1735</td>\n",
       "      <td>...</td>\n",
       "      <td>NaN</td>\n",
       "      <td>NaN</td>\n",
       "      <td>Delta Air Lines Inc.</td>\n",
       "      <td>MSP</td>\n",
       "      <td>Minneapolis-Saint Paul International Airport</td>\n",
       "      <td>Minneapolis</td>\n",
       "      <td>MN</td>\n",
       "      <td>USA</td>\n",
       "      <td>44.88055</td>\n",
       "      <td>-93.21692</td>\n",
       "    </tr>\n",
       "    <tr>\n",
       "      <th>3</th>\n",
       "      <td>2015</td>\n",
       "      <td>3</td>\n",
       "      <td>27</td>\n",
       "      <td>5</td>\n",
       "      <td>WN</td>\n",
       "      <td>171</td>\n",
       "      <td>N407WN</td>\n",
       "      <td>DEN</td>\n",
       "      <td>RDU</td>\n",
       "      <td>1815</td>\n",
       "      <td>...</td>\n",
       "      <td>NaN</td>\n",
       "      <td>NaN</td>\n",
       "      <td>Southwest Airlines Co.</td>\n",
       "      <td>DEN</td>\n",
       "      <td>Denver International Airport</td>\n",
       "      <td>Denver</td>\n",
       "      <td>CO</td>\n",
       "      <td>USA</td>\n",
       "      <td>39.85841</td>\n",
       "      <td>-104.66700</td>\n",
       "    </tr>\n",
       "    <tr>\n",
       "      <th>4</th>\n",
       "      <td>2015</td>\n",
       "      <td>8</td>\n",
       "      <td>1</td>\n",
       "      <td>6</td>\n",
       "      <td>WN</td>\n",
       "      <td>4330</td>\n",
       "      <td>N7751A</td>\n",
       "      <td>ATL</td>\n",
       "      <td>RIC</td>\n",
       "      <td>2125</td>\n",
       "      <td>...</td>\n",
       "      <td>NaN</td>\n",
       "      <td>NaN</td>\n",
       "      <td>Southwest Airlines Co.</td>\n",
       "      <td>ATL</td>\n",
       "      <td>Hartsfield-Jackson Atlanta International Airport</td>\n",
       "      <td>Atlanta</td>\n",
       "      <td>GA</td>\n",
       "      <td>USA</td>\n",
       "      <td>33.64044</td>\n",
       "      <td>-84.42694</td>\n",
       "    </tr>\n",
       "  </tbody>\n",
       "</table>\n",
       "<p>5 rows × 39 columns</p>\n",
       "</div>"
      ],
      "text/plain": [
       "   YEAR  MONTH  DAY  DAY_OF_WEEK AIRLINE_CODE  FLIGHT_NUMBER TAIL_NUMBER  \\\n",
       "0  2015      1   28            3           WN            103      N7728D   \n",
       "1  2015      8   11            2           B6            153      N592JB   \n",
       "2  2015      2    4            3           DL           1187      N921DN   \n",
       "3  2015      3   27            5           WN            171      N407WN   \n",
       "4  2015      8    1            6           WN           4330      N7751A   \n",
       "\n",
       "  ORIGIN_AIRPORT_CODE DESTINATION_AIRPORT_CODE  SCHEDULED_DEPARTURE  ...  \\\n",
       "0                 DCA                      MKE                  705  ...   \n",
       "1                 JFK                      PBI                 1859  ...   \n",
       "2                 MSP                      DCA                 1735  ...   \n",
       "3                 DEN                      RDU                 1815  ...   \n",
       "4                 ATL                      RIC                 2125  ...   \n",
       "\n",
       "   LATE_AIRCRAFT_DELAY  WEATHER_DELAY                 AIRLINE  AIRPORT_CODE  \\\n",
       "0                  NaN            NaN  Southwest Airlines Co.           DCA   \n",
       "1                255.0            0.0         JetBlue Airways           JFK   \n",
       "2                  NaN            NaN    Delta Air Lines Inc.           MSP   \n",
       "3                  NaN            NaN  Southwest Airlines Co.           DEN   \n",
       "4                  NaN            NaN  Southwest Airlines Co.           ATL   \n",
       "\n",
       "                                             AIRPORT         CITY  STATE  \\\n",
       "0          Ronald Reagan Washington National Airport    Arlington     VA   \n",
       "1  John F. Kennedy International Airport (New Yor...     New York     NY   \n",
       "2       Minneapolis-Saint Paul International Airport  Minneapolis     MN   \n",
       "3                       Denver International Airport       Denver     CO   \n",
       "4   Hartsfield-Jackson Atlanta International Airport      Atlanta     GA   \n",
       "\n",
       "   COUNTRY  LATITUDE  LONGITUDE  \n",
       "0      USA  38.85208  -77.03772  \n",
       "1      USA  40.63975  -73.77893  \n",
       "2      USA  44.88055  -93.21692  \n",
       "3      USA  39.85841 -104.66700  \n",
       "4      USA  33.64044  -84.42694  \n",
       "\n",
       "[5 rows x 39 columns]"
      ]
     },
     "execution_count": 4,
     "metadata": {},
     "output_type": "execute_result"
    }
   ],
   "source": [
    "#Preview the first 5 rows of the dataset \n",
    "df.head()"
   ]
  },
  {
   "cell_type": "code",
   "execution_count": 5,
   "metadata": {},
   "outputs": [
    {
     "name": "stdout",
     "output_type": "stream",
     "text": [
      "<class 'pandas.core.frame.DataFrame'>\n",
      "RangeIndex: 10000 entries, 0 to 9999\n",
      "Data columns (total 39 columns):\n",
      "YEAR                        10000 non-null int64\n",
      "MONTH                       10000 non-null int64\n",
      "DAY                         10000 non-null int64\n",
      "DAY_OF_WEEK                 10000 non-null int64\n",
      "AIRLINE_CODE                10000 non-null object\n",
      "FLIGHT_NUMBER               10000 non-null int64\n",
      "TAIL_NUMBER                 9962 non-null object\n",
      "ORIGIN_AIRPORT_CODE         10000 non-null object\n",
      "DESTINATION_AIRPORT_CODE    10000 non-null object\n",
      "SCHEDULED_DEPARTURE         10000 non-null int64\n",
      "DEPARTURE_TIME              9821 non-null float64\n",
      "DEPARTURE_DELAY             9821 non-null float64\n",
      "TAXI_OUT                    9818 non-null float64\n",
      "WHEELS_OFF                  9818 non-null float64\n",
      "SCHEDULED_TIME              10000 non-null float64\n",
      "ELAPSED_TIME                9793 non-null float64\n",
      "AIR_TIME                    9793 non-null float64\n",
      "DISTANCE                    10000 non-null int64\n",
      "WHEELS_ON                   9815 non-null float64\n",
      "TAXI_IN                     9815 non-null float64\n",
      "SCHEDULED_ARRIVAL           10000 non-null int64\n",
      "ARRIVAL_TIME                9815 non-null float64\n",
      "ARRIVAL_DELAY               9793 non-null float64\n",
      "DIVERTED                    10000 non-null int64\n",
      "CANCELLED                   10000 non-null int64\n",
      "CANCELLATION_REASON         182 non-null object\n",
      "AIR_SYSTEM_DELAY            1839 non-null float64\n",
      "SECURITY_DELAY              1839 non-null float64\n",
      "AIRLINE_DELAY               1839 non-null float64\n",
      "LATE_AIRCRAFT_DELAY         1839 non-null float64\n",
      "WEATHER_DELAY               1839 non-null float64\n",
      "AIRLINE                     10000 non-null object\n",
      "AIRPORT_CODE                9210 non-null object\n",
      "AIRPORT                     9210 non-null object\n",
      "CITY                        9210 non-null object\n",
      "STATE                       9210 non-null object\n",
      "COUNTRY                     9210 non-null object\n",
      "LATITUDE                    9202 non-null float64\n",
      "LONGITUDE                   9202 non-null float64\n",
      "dtypes: float64(18), int64(10), object(11)\n",
      "memory usage: 3.0+ MB\n"
     ]
    }
   ],
   "source": [
    "df.info()"
   ]
  },
  {
   "cell_type": "markdown",
   "metadata": {},
   "source": [
    "Before we begin any data cleaning or transformations, let's take a look at the distribution of our variables. "
   ]
  },
  {
   "cell_type": "code",
   "execution_count": 6,
   "metadata": {},
   "outputs": [
    {
     "data": {
      "image/png": "[encoded data removed]",
      "text/plain": [
       "<Figure size 1296x1080 with 30 Axes>"
      ]
     },
     "metadata": {
      "needs_background": "light"
     },
     "output_type": "display_data"
    }
   ],
   "source": [
    "#First, let's plot a histogram for each column\n",
    "df.hist(figsize=(18,15), bins='auto');"
   ]
  },
  {
   "cell_type": "markdown",
   "metadata": {},
   "source": [
    "Our analysis is looking at whether a departure delay is impacted by the month, day, airline or airport. \n",
    "\n",
    "Therefore, certain variables at this point can be dropped; firstly, anything involved in the delayed/cancellation reason can be removed. Next, we can remove \"year\" as this dataset only contains values from 2015. Other irrelevant variables in this context are flight number, tail number, departure time, taxi in, taxi out, wheels off, wheels on, and so on, and we will remove all of those unnecessary values below."
   ]
  },
  {
   "cell_type": "code",
   "execution_count": 7,
   "metadata": {},
   "outputs": [],
   "source": [
    "#Remove all columns not related to this analysis\n",
    "df = df.drop(['YEAR', 'FLIGHT_NUMBER', 'DEPARTURE_TIME', 'TAXI_IN', 'TAXI_OUT', \n",
    "              'WHEELS_OFF', 'WHEELS_ON', 'ELAPSED_TIME', 'AIR_TIME', 'ARRIVAL_TIME', \n",
    "              'DIVERTED', 'CANCELLED', 'TAIL_NUMBER', 'CANCELLATION_REASON', \n",
    "              'LATITUDE', 'LONGITUDE', 'AIRPORT', 'DAY'], axis=1)"
   ]
  },
  {
   "cell_type": "code",
   "execution_count": 8,
   "metadata": {},
   "outputs": [
    {
     "data": {
      "text/html": [
       "<div>\n",
       "<style scoped>\n",
       "    .dataframe tbody tr th:only-of-type {\n",
       "        vertical-align: middle;\n",
       "    }\n",
       "\n",
       "    .dataframe tbody tr th {\n",
       "        vertical-align: top;\n",
       "    }\n",
       "\n",
       "    .dataframe thead th {\n",
       "        text-align: right;\n",
       "    }\n",
       "</style>\n",
       "<table border=\"1\" class=\"dataframe\">\n",
       "  <thead>\n",
       "    <tr style=\"text-align: right;\">\n",
       "      <th></th>\n",
       "      <th>MONTH</th>\n",
       "      <th>DAY_OF_WEEK</th>\n",
       "      <th>SCHEDULED_DEPARTURE</th>\n",
       "      <th>DEPARTURE_DELAY</th>\n",
       "      <th>SCHEDULED_TIME</th>\n",
       "      <th>DISTANCE</th>\n",
       "      <th>SCHEDULED_ARRIVAL</th>\n",
       "      <th>ARRIVAL_DELAY</th>\n",
       "      <th>AIR_SYSTEM_DELAY</th>\n",
       "      <th>SECURITY_DELAY</th>\n",
       "      <th>AIRLINE_DELAY</th>\n",
       "      <th>LATE_AIRCRAFT_DELAY</th>\n",
       "      <th>WEATHER_DELAY</th>\n",
       "    </tr>\n",
       "  </thead>\n",
       "  <tbody>\n",
       "    <tr>\n",
       "      <th>count</th>\n",
       "      <td>10000.000000</td>\n",
       "      <td>10000.000000</td>\n",
       "      <td>10000.000000</td>\n",
       "      <td>9821.000000</td>\n",
       "      <td>10000.000000</td>\n",
       "      <td>10000.000000</td>\n",
       "      <td>10000.000000</td>\n",
       "      <td>9793.000000</td>\n",
       "      <td>1839.000000</td>\n",
       "      <td>1839.000000</td>\n",
       "      <td>1839.000000</td>\n",
       "      <td>1839.000000</td>\n",
       "      <td>1839.000000</td>\n",
       "    </tr>\n",
       "    <tr>\n",
       "      <th>mean</th>\n",
       "      <td>6.583000</td>\n",
       "      <td>3.906200</td>\n",
       "      <td>1335.638800</td>\n",
       "      <td>9.913756</td>\n",
       "      <td>142.183500</td>\n",
       "      <td>827.452200</td>\n",
       "      <td>1498.106300</td>\n",
       "      <td>5.012866</td>\n",
       "      <td>15.040239</td>\n",
       "      <td>0.077760</td>\n",
       "      <td>20.052746</td>\n",
       "      <td>24.172920</td>\n",
       "      <td>2.486678</td>\n",
       "    </tr>\n",
       "    <tr>\n",
       "      <th>std</th>\n",
       "      <td>3.390378</td>\n",
       "      <td>1.989220</td>\n",
       "      <td>488.881087</td>\n",
       "      <td>39.893034</td>\n",
       "      <td>75.455193</td>\n",
       "      <td>613.444234</td>\n",
       "      <td>516.702029</td>\n",
       "      <td>42.232465</td>\n",
       "      <td>36.098802</td>\n",
       "      <td>1.622388</td>\n",
       "      <td>54.761039</td>\n",
       "      <td>42.934592</td>\n",
       "      <td>18.060854</td>\n",
       "    </tr>\n",
       "    <tr>\n",
       "      <th>min</th>\n",
       "      <td>1.000000</td>\n",
       "      <td>1.000000</td>\n",
       "      <td>5.000000</td>\n",
       "      <td>-27.000000</td>\n",
       "      <td>24.000000</td>\n",
       "      <td>31.000000</td>\n",
       "      <td>2.000000</td>\n",
       "      <td>-59.000000</td>\n",
       "      <td>0.000000</td>\n",
       "      <td>0.000000</td>\n",
       "      <td>0.000000</td>\n",
       "      <td>0.000000</td>\n",
       "      <td>0.000000</td>\n",
       "    </tr>\n",
       "    <tr>\n",
       "      <th>25%</th>\n",
       "      <td>4.000000</td>\n",
       "      <td>2.000000</td>\n",
       "      <td>918.750000</td>\n",
       "      <td>-5.000000</td>\n",
       "      <td>86.000000</td>\n",
       "      <td>373.000000</td>\n",
       "      <td>1106.000000</td>\n",
       "      <td>-13.000000</td>\n",
       "      <td>0.000000</td>\n",
       "      <td>0.000000</td>\n",
       "      <td>0.000000</td>\n",
       "      <td>0.000000</td>\n",
       "      <td>0.000000</td>\n",
       "    </tr>\n",
       "    <tr>\n",
       "      <th>50%</th>\n",
       "      <td>7.000000</td>\n",
       "      <td>4.000000</td>\n",
       "      <td>1330.000000</td>\n",
       "      <td>-2.000000</td>\n",
       "      <td>123.000000</td>\n",
       "      <td>649.000000</td>\n",
       "      <td>1524.500000</td>\n",
       "      <td>-5.000000</td>\n",
       "      <td>2.000000</td>\n",
       "      <td>0.000000</td>\n",
       "      <td>2.000000</td>\n",
       "      <td>3.000000</td>\n",
       "      <td>0.000000</td>\n",
       "    </tr>\n",
       "    <tr>\n",
       "      <th>75%</th>\n",
       "      <td>9.000000</td>\n",
       "      <td>6.000000</td>\n",
       "      <td>1740.000000</td>\n",
       "      <td>7.000000</td>\n",
       "      <td>174.000000</td>\n",
       "      <td>1066.000000</td>\n",
       "      <td>1925.250000</td>\n",
       "      <td>8.000000</td>\n",
       "      <td>18.000000</td>\n",
       "      <td>0.000000</td>\n",
       "      <td>18.000000</td>\n",
       "      <td>31.000000</td>\n",
       "      <td>0.000000</td>\n",
       "    </tr>\n",
       "    <tr>\n",
       "      <th>max</th>\n",
       "      <td>12.000000</td>\n",
       "      <td>7.000000</td>\n",
       "      <td>2359.000000</td>\n",
       "      <td>904.000000</td>\n",
       "      <td>680.000000</td>\n",
       "      <td>4983.000000</td>\n",
       "      <td>2359.000000</td>\n",
       "      <td>898.000000</td>\n",
       "      <td>791.000000</td>\n",
       "      <td>55.000000</td>\n",
       "      <td>898.000000</td>\n",
       "      <td>370.000000</td>\n",
       "      <td>388.000000</td>\n",
       "    </tr>\n",
       "    <tr>\n",
       "      <th>+3_std</th>\n",
       "      <td>16.754133</td>\n",
       "      <td>9.873861</td>\n",
       "      <td>2802.282062</td>\n",
       "      <td>129.592859</td>\n",
       "      <td>368.549080</td>\n",
       "      <td>2667.784903</td>\n",
       "      <td>3048.212388</td>\n",
       "      <td>131.710262</td>\n",
       "      <td>123.336646</td>\n",
       "      <td>4.944925</td>\n",
       "      <td>184.335864</td>\n",
       "      <td>152.976697</td>\n",
       "      <td>56.669241</td>\n",
       "    </tr>\n",
       "    <tr>\n",
       "      <th>-3_std</th>\n",
       "      <td>-3.588133</td>\n",
       "      <td>-2.061461</td>\n",
       "      <td>-131.004462</td>\n",
       "      <td>-109.765346</td>\n",
       "      <td>-84.182080</td>\n",
       "      <td>-1012.880503</td>\n",
       "      <td>-51.999788</td>\n",
       "      <td>-121.684530</td>\n",
       "      <td>-93.256167</td>\n",
       "      <td>-4.789405</td>\n",
       "      <td>-144.230372</td>\n",
       "      <td>-104.630857</td>\n",
       "      <td>-51.695886</td>\n",
       "    </tr>\n",
       "  </tbody>\n",
       "</table>\n",
       "</div>"
      ],
      "text/plain": [
       "               MONTH   DAY_OF_WEEK  SCHEDULED_DEPARTURE  DEPARTURE_DELAY  \\\n",
       "count   10000.000000  10000.000000         10000.000000      9821.000000   \n",
       "mean        6.583000      3.906200          1335.638800         9.913756   \n",
       "std         3.390378      1.989220           488.881087        39.893034   \n",
       "min         1.000000      1.000000             5.000000       -27.000000   \n",
       "25%         4.000000      2.000000           918.750000        -5.000000   \n",
       "50%         7.000000      4.000000          1330.000000        -2.000000   \n",
       "75%         9.000000      6.000000          1740.000000         7.000000   \n",
       "max        12.000000      7.000000          2359.000000       904.000000   \n",
       "+3_std     16.754133      9.873861          2802.282062       129.592859   \n",
       "-3_std     -3.588133     -2.061461          -131.004462      -109.765346   \n",
       "\n",
       "        SCHEDULED_TIME      DISTANCE  SCHEDULED_ARRIVAL  ARRIVAL_DELAY  \\\n",
       "count     10000.000000  10000.000000       10000.000000    9793.000000   \n",
       "mean        142.183500    827.452200        1498.106300       5.012866   \n",
       "std          75.455193    613.444234         516.702029      42.232465   \n",
       "min          24.000000     31.000000           2.000000     -59.000000   \n",
       "25%          86.000000    373.000000        1106.000000     -13.000000   \n",
       "50%         123.000000    649.000000        1524.500000      -5.000000   \n",
       "75%         174.000000   1066.000000        1925.250000       8.000000   \n",
       "max         680.000000   4983.000000        2359.000000     898.000000   \n",
       "+3_std      368.549080   2667.784903        3048.212388     131.710262   \n",
       "-3_std      -84.182080  -1012.880503         -51.999788    -121.684530   \n",
       "\n",
       "        AIR_SYSTEM_DELAY  SECURITY_DELAY  AIRLINE_DELAY  LATE_AIRCRAFT_DELAY  \\\n",
       "count        1839.000000     1839.000000    1839.000000          1839.000000   \n",
       "mean           15.040239        0.077760      20.052746            24.172920   \n",
       "std            36.098802        1.622388      54.761039            42.934592   \n",
       "min             0.000000        0.000000       0.000000             0.000000   \n",
       "25%             0.000000        0.000000       0.000000             0.000000   \n",
       "50%             2.000000        0.000000       2.000000             3.000000   \n",
       "75%            18.000000        0.000000      18.000000            31.000000   \n",
       "max           791.000000       55.000000     898.000000           370.000000   \n",
       "+3_std        123.336646        4.944925     184.335864           152.976697   \n",
       "-3_std        -93.256167       -4.789405    -144.230372          -104.630857   \n",
       "\n",
       "        WEATHER_DELAY  \n",
       "count     1839.000000  \n",
       "mean         2.486678  \n",
       "std         18.060854  \n",
       "min          0.000000  \n",
       "25%          0.000000  \n",
       "50%          0.000000  \n",
       "75%          0.000000  \n",
       "max        388.000000  \n",
       "+3_std      56.669241  \n",
       "-3_std     -51.695886  "
      ]
     },
     "execution_count": 8,
     "metadata": {},
     "output_type": "execute_result"
    }
   ],
   "source": [
    "#Display some sample statistics and look for outliers \n",
    "\n",
    "desc_df = df.describe()\n",
    "\n",
    "#add std metric at the bottom to look for outliers that 3 stds away from the mean\n",
    "desc_df.loc['+3_std'] = desc_df.loc['mean'] + (desc_df.loc['std'] * 3)\n",
    "desc_df.loc['-3_std'] = desc_df.loc['mean'] - (desc_df.loc['std'] * 3)\n",
    "\n",
    "desc_df"
   ]
  },
  {
   "cell_type": "markdown",
   "metadata": {},
   "source": [
    "Before we continue, I will need to deal with null values in my dataset. For columns where the string information is unknown, such as airport code, city, state, etc, we will replace these values with 0. For values involving departure and arrival delays, we will fill the NaN values with the columns' median."
   ]
  },
  {
   "cell_type": "code",
   "execution_count": 9,
   "metadata": {
    "scrolled": true
   },
   "outputs": [
    {
     "data": {
      "text/plain": [
       "MONTH                          0\n",
       "DAY_OF_WEEK                    0\n",
       "AIRLINE_CODE                   0\n",
       "ORIGIN_AIRPORT_CODE            0\n",
       "DESTINATION_AIRPORT_CODE       0\n",
       "SCHEDULED_DEPARTURE            0\n",
       "DEPARTURE_DELAY              179\n",
       "SCHEDULED_TIME                 0\n",
       "DISTANCE                       0\n",
       "SCHEDULED_ARRIVAL              0\n",
       "ARRIVAL_DELAY                207\n",
       "AIR_SYSTEM_DELAY            8161\n",
       "SECURITY_DELAY              8161\n",
       "AIRLINE_DELAY               8161\n",
       "LATE_AIRCRAFT_DELAY         8161\n",
       "WEATHER_DELAY               8161\n",
       "AIRLINE                        0\n",
       "AIRPORT_CODE                 790\n",
       "CITY                         790\n",
       "STATE                        790\n",
       "COUNTRY                      790\n",
       "dtype: int64"
      ]
     },
     "execution_count": 9,
     "metadata": {},
     "output_type": "execute_result"
    }
   ],
   "source": [
    "#Exploring null values \n",
    "df.isna().sum()"
   ]
  },
  {
   "cell_type": "code",
   "execution_count": 10,
   "metadata": {},
   "outputs": [],
   "source": [
    "#Replace null values with blanks for these string columns where the information is unknown \n",
    "\n",
    "# df = df.replace(\"nan\",\"0\")\n",
    "\n",
    "col = ['AIRPORT_CODE','CITY', 'STATE', 'COUNTRY', 'AIR_SYSTEM_DELAY', 'SECURITY_DELAY', 'AIRLINE_DELAY', \n",
    "       'LATE_AIRCRAFT_DELAY', 'WEATHER_DELAY' ]\n",
    "\n",
    "for name in col:\n",
    "    df[name] = df[name].fillna(value=0)"
   ]
  },
  {
   "cell_type": "code",
   "execution_count": 11,
   "metadata": {
    "scrolled": true
   },
   "outputs": [
    {
     "data": {
      "text/plain": [
       "MONTH                         0\n",
       "DAY_OF_WEEK                   0\n",
       "AIRLINE_CODE                  0\n",
       "ORIGIN_AIRPORT_CODE           0\n",
       "DESTINATION_AIRPORT_CODE      0\n",
       "SCHEDULED_DEPARTURE           0\n",
       "DEPARTURE_DELAY             179\n",
       "SCHEDULED_TIME                0\n",
       "DISTANCE                      0\n",
       "SCHEDULED_ARRIVAL             0\n",
       "ARRIVAL_DELAY               207\n",
       "AIR_SYSTEM_DELAY              0\n",
       "SECURITY_DELAY                0\n",
       "AIRLINE_DELAY                 0\n",
       "LATE_AIRCRAFT_DELAY           0\n",
       "WEATHER_DELAY                 0\n",
       "AIRLINE                       0\n",
       "AIRPORT_CODE                  0\n",
       "CITY                          0\n",
       "STATE                         0\n",
       "COUNTRY                       0\n",
       "dtype: int64"
      ]
     },
     "execution_count": 11,
     "metadata": {},
     "output_type": "execute_result"
    }
   ],
   "source": [
    "#See if any null values are remaining \n",
    "df.isna().sum()"
   ]
  },
  {
   "cell_type": "code",
   "execution_count": 12,
   "metadata": {},
   "outputs": [],
   "source": [
    "#For unknown variables involving time, replace nans with median values \n",
    "#Median values were used instead of mean values as potential outliers (i.e. longer air time, extreme departure \n",
    "#delays etc) will have a stronger influence on the mean than the median\n",
    "\n",
    "col2 = ['DEPARTURE_DELAY', 'ARRIVAL_DELAY']\n",
    "\n",
    "for value in col2:\n",
    "    df[value].fillna(df[value].median(), inplace=True)"
   ]
  },
  {
   "cell_type": "code",
   "execution_count": 13,
   "metadata": {
    "scrolled": true
   },
   "outputs": [
    {
     "data": {
      "text/plain": [
       "MONTH                       0\n",
       "DAY_OF_WEEK                 0\n",
       "AIRLINE_CODE                0\n",
       "ORIGIN_AIRPORT_CODE         0\n",
       "DESTINATION_AIRPORT_CODE    0\n",
       "SCHEDULED_DEPARTURE         0\n",
       "DEPARTURE_DELAY             0\n",
       "SCHEDULED_TIME              0\n",
       "DISTANCE                    0\n",
       "SCHEDULED_ARRIVAL           0\n",
       "ARRIVAL_DELAY               0\n",
       "AIR_SYSTEM_DELAY            0\n",
       "SECURITY_DELAY              0\n",
       "AIRLINE_DELAY               0\n",
       "LATE_AIRCRAFT_DELAY         0\n",
       "WEATHER_DELAY               0\n",
       "AIRLINE                     0\n",
       "AIRPORT_CODE                0\n",
       "CITY                        0\n",
       "STATE                       0\n",
       "COUNTRY                     0\n",
       "dtype: int64"
      ]
     },
     "execution_count": 13,
     "metadata": {},
     "output_type": "execute_result"
    }
   ],
   "source": [
    "#Check for any remaining null values \n",
    "df.isna().sum()"
   ]
  },
  {
   "cell_type": "markdown",
   "metadata": {},
   "source": [
    "The next step of our EDA will be to determine if there are any outliers in our dataset and decide if they need to be removed or not."
   ]
  },
  {
   "cell_type": "code",
   "execution_count": 14,
   "metadata": {},
   "outputs": [
    {
     "data": {
      "text/plain": [
       "<matplotlib.axes._subplots.AxesSubplot at 0x7fbc87a758d0>"
      ]
     },
     "execution_count": 14,
     "metadata": {},
     "output_type": "execute_result"
    },
    {
     "data": {
      "image/png": "[encoded data removed]",
      "text/plain": [
       "<Figure size 1152x576 with 2 Axes>"
      ]
     },
     "metadata": {
      "needs_background": "light"
     },
     "output_type": "display_data"
    }
   ],
   "source": [
    "#Create boxplots to identify outliers\n",
    "plt.figure(figsize=(16,8))\n",
    "plt.subplot(221)\n",
    "sns.boxplot(x=df['DEPARTURE_DELAY'])\n",
    "plt.subplot(222)\n",
    "sns.boxplot(x=df['ARRIVAL_DELAY'])"
   ]
  },
  {
   "cell_type": "markdown",
   "metadata": {},
   "source": [
    "As we see from the boxplots above, there are several outliers in both departure and arrival delays. In our dataset there are clearly some extreme examples where arrivals and departures were severly delayed, likely due to extentuating, unusual circumstances. For now we will leave the data as is in order to explore it further, however we may consider dropping these outliers later on. "
   ]
  },
  {
   "cell_type": "code",
   "execution_count": 15,
   "metadata": {},
   "outputs": [
    {
     "name": "stdout",
     "output_type": "stream",
     "text": [
      "411\n",
      "409\n"
     ]
    }
   ],
   "source": [
    "#Find the number of unique origin and destination airport codes \n",
    "print(df['ORIGIN_AIRPORT_CODE'].nunique())\n",
    "print(df['DESTINATION_AIRPORT_CODE'].nunique())"
   ]
  },
  {
   "cell_type": "markdown",
   "metadata": {},
   "source": [
    "As there are so many airports in our dataset, let's take a look at the top 10 airports with the most frequent amount of flights."
   ]
  },
  {
   "cell_type": "code",
   "execution_count": 16,
   "metadata": {},
   "outputs": [
    {
     "data": {
      "image/png": "[encoded data removed]",
      "text/plain": [
       "<Figure size 720x720 with 1 Axes>"
      ]
     },
     "metadata": {
      "needs_background": "light"
     },
     "output_type": "display_data"
    }
   ],
   "source": [
    "#Build histogram to find the airports with the most flight traffic \n",
    "plt.figure(figsize=(10, 10))\n",
    "axis = sns.countplot(x=df['ORIGIN_AIRPORT_CODE'], data = df,\n",
    "              order=df['ORIGIN_AIRPORT_CODE'].value_counts().iloc[:10].index)\n",
    "axis.set_xticklabels(axis.get_xticklabels())\n",
    "\n",
    "plt.show()"
   ]
  },
  {
   "cell_type": "markdown",
   "metadata": {},
   "source": [
    "Atlanta, Chicago and Dallas appear to be the top 3 busiest airports. This makes sense, as they are hubs for Delta, United and American Airlines, respectively. "
   ]
  },
  {
   "cell_type": "code",
   "execution_count": 17,
   "metadata": {},
   "outputs": [
    {
     "data": {
      "text/plain": [
       "11986      1\n",
       "PSG        1\n",
       "GCK        1\n",
       "SWF        1\n",
       "14574      1\n",
       "        ... \n",
       "DEN      351\n",
       "LAX      357\n",
       "DFW      424\n",
       "ORD      529\n",
       "ATL      619\n",
       "Name: ORIGIN_AIRPORT_CODE, Length: 411, dtype: int64"
      ]
     },
     "execution_count": 17,
     "metadata": {},
     "output_type": "execute_result"
    }
   ],
   "source": [
    "#We see below that several airports only appear once in the dataset \n",
    "df['ORIGIN_AIRPORT_CODE'].value_counts(ascending=True)"
   ]
  },
  {
   "cell_type": "markdown",
   "metadata": {},
   "source": [
    "As we see above, there are over 400 airports in our dataset. Additionally, some of the listed airports only appear once; actually, more than 50% of our data appears rather infrequently. Before we one-hot-encode this column, it makes sense to bin this variable.\n",
    "\n",
    "I have chosen to bin this variable based on whether the origin of the airport is an airport with heavy, medium light, or very light air traffic (i.e. if the airport appears very frequently in the dataset then this is an airport with high traffic, somewhat frequently then medium, etc. "
   ]
  },
  {
   "cell_type": "code",
   "execution_count": 18,
   "metadata": {},
   "outputs": [],
   "source": [
    "#Create new variable \"origin_airport_type\" based on the quantile for their number of flights \n",
    "bins_97 = df['ORIGIN_AIRPORT_CODE'].value_counts().quantile(0.97)\n",
    "bins_90 = df['ORIGIN_AIRPORT_CODE'].value_counts().quantile(0.90)\n",
    "bins_77 = df['ORIGIN_AIRPORT_CODE'].value_counts().quantile(0.77)\n",
    "\n",
    "airports = df['ORIGIN_AIRPORT_CODE'].value_counts()\n",
    "airports_index = df[df['ORIGIN_AIRPORT_CODE'].isin(airports[airports > bins_97].index)].index\n",
    "df.loc[airports_index,'ORIGIN_AIRPORT_TYPE'] = 'High'\n",
    "\n",
    "airports_index = df[df['ORIGIN_AIRPORT_CODE'].isin(airports[(airports > bins_90)&(airports <= bins_97)].index)].index\n",
    "df.loc[airports_index,'ORIGIN_AIRPORT_TYPE'] = 'Medium'\n",
    "\n",
    "airports_index = df[df['ORIGIN_AIRPORT_CODE'].isin(airports[(airports > bins_77)&(airports <= bins_90)].index)].index\n",
    "df.loc[airports_index,'ORIGIN_AIRPORT_TYPE'] = 'Low'\n",
    "\n",
    "airports_index = df[df['ORIGIN_AIRPORT_CODE'].isin(airports[airports <= bins_77].index)].index\n",
    "df.loc[airports_index,'ORIGIN_AIRPORT_TYPE'] = 'Very Low'"
   ]
  },
  {
   "cell_type": "code",
   "execution_count": 19,
   "metadata": {},
   "outputs": [
    {
     "data": {
      "text/plain": [
       "High        4003\n",
       "Medium      3073\n",
       "Low         1554\n",
       "Very Low    1370\n",
       "Name: ORIGIN_AIRPORT_TYPE, dtype: int64"
      ]
     },
     "execution_count": 19,
     "metadata": {},
     "output_type": "execute_result"
    }
   ],
   "source": [
    "#see the distribution of this new variable \n",
    "df['ORIGIN_AIRPORT_TYPE'].value_counts()"
   ]
  },
  {
   "cell_type": "code",
   "execution_count": 20,
   "metadata": {},
   "outputs": [],
   "source": [
    "#Repeat this same binning process for the destination airports \n",
    "bins_97 = df['DESTINATION_AIRPORT_CODE'].value_counts().quantile(0.97)\n",
    "bins_90 = df['DESTINATION_AIRPORT_CODE'].value_counts().quantile(0.90)\n",
    "bins_77 = df['DESTINATION_AIRPORT_CODE'].value_counts().quantile(0.77)\n",
    "\n",
    "airports = df['DESTINATION_AIRPORT_CODE'].value_counts()\n",
    "airports_index = df[df['DESTINATION_AIRPORT_CODE'].isin(airports[airports > bins_97].index)].index\n",
    "df.loc[airports_index,'DESTINATION_AIRPORT_TYPE'] = 'High'\n",
    "\n",
    "airports_index = df[df['DESTINATION_AIRPORT_CODE'].isin(airports[(airports > bins_90)&(airports <= bins_97)].index)].index\n",
    "df.loc[airports_index,'DESTINATION_AIRPORT_TYPE'] = 'Medium'\n",
    "\n",
    "airports_index = df[df['DESTINATION_AIRPORT_CODE'].isin(airports[(airports > bins_77)&(airports <= bins_90)].index)].index\n",
    "df.loc[airports_index,'DESTINATION_AIRPORT_TYPE'] = 'Low'\n",
    "\n",
    "airports_index = df[df['DESTINATION_AIRPORT_CODE'].isin(airports[airports <= bins_77].index)].index\n",
    "df.loc[airports_index,'DESTINATION_AIRPORT_TYPE'] = 'Very Low'"
   ]
  },
  {
   "cell_type": "code",
   "execution_count": 21,
   "metadata": {
    "scrolled": true
   },
   "outputs": [
    {
     "data": {
      "text/plain": [
       "High        3965\n",
       "Medium      3036\n",
       "Low         1534\n",
       "Very Low    1465\n",
       "Name: DESTINATION_AIRPORT_TYPE, dtype: int64"
      ]
     },
     "execution_count": 21,
     "metadata": {},
     "output_type": "execute_result"
    }
   ],
   "source": [
    "#See the distribution of this new variable\n",
    "df['DESTINATION_AIRPORT_TYPE'].value_counts()"
   ]
  },
  {
   "cell_type": "markdown",
   "metadata": {},
   "source": [
    "It appears that the value distributions for the both the origin and airport types are quite similar. This makes sense, however we will keep these variables separate in order to identify if whether the traffic of the origin airport, as well as whether the traffic of the destination airport, will impact whether a flight is predicted to be delayed or not.\n",
    "\n",
    "Let's continue by taking a look at the correlation matrix for this dataset."
   ]
  },
  {
   "cell_type": "code",
   "execution_count": 22,
   "metadata": {},
   "outputs": [
    {
     "data": {
      "image/png": "[encoded data removed]",
      "text/plain": [
       "<Figure size 1440x720 with 2 Axes>"
      ]
     },
     "metadata": {
      "needs_background": "light"
     },
     "output_type": "display_data"
    }
   ],
   "source": [
    "#Create a heatmap which shows correlation\n",
    "corr = df.corr().abs()\n",
    "plt.figure(figsize=(20,10))\n",
    "ax = sns.heatmap(corr, annot=True, fmt='.2g', square=True, cmap= 'Blues') \n",
    "bottom, top = ax.get_ylim()\n",
    "ax.set_ylim(bottom + 0.5, top - 0.5)\n",
    "plt.show()"
   ]
  },
  {
   "cell_type": "code",
   "execution_count": 23,
   "metadata": {
    "scrolled": true
   },
   "outputs": [
    {
     "data": {
      "text/plain": [
       "MONTH                 -0.020631\n",
       "DAY_OF_WEEK           -0.020872\n",
       "SCHEDULED_DEPARTURE    0.102755\n",
       "DEPARTURE_DELAY        1.000000\n",
       "SCHEDULED_TIME         0.041651\n",
       "DISTANCE               0.041254\n",
       "SCHEDULED_ARRIVAL      0.086786\n",
       "ARRIVAL_DELAY          0.948479\n",
       "AIR_SYSTEM_DELAY       0.369213\n",
       "SECURITY_DELAY         0.022429\n",
       "AIRLINE_DELAY          0.668503\n",
       "LATE_AIRCRAFT_DELAY    0.611428\n",
       "WEATHER_DELAY          0.236239\n",
       "Name: DEPARTURE_DELAY, dtype: float64"
      ]
     },
     "execution_count": 23,
     "metadata": {},
     "output_type": "execute_result"
    }
   ],
   "source": [
    "#Investigate which features are correlated with the target variable \n",
    "df.corr()['DEPARTURE_DELAY']"
   ]
  },
  {
   "cell_type": "markdown",
   "metadata": {},
   "source": [
    "Unsurprisingly, we see that ARRIVAL_DELAY has the strongest correlation with departure delay. Additionally, AIRLINE_DELAY, and LATE_AIRCRAFT_DELAY have higher correlations with a delayed flight compared to other similar predictors."
   ]
  },
  {
   "cell_type": "code",
   "execution_count": 24,
   "metadata": {},
   "outputs": [],
   "source": [
    "#Convert all categorical variables to string types \n",
    "category = ['AIRLINE_CODE', 'ORIGIN_AIRPORT_CODE', 'DESTINATION_AIRPORT_CODE',\n",
    "           'AIRPORT_CODE', 'CITY', 'STATE', 'COUNTRY', 'AIRLINE', \n",
    "            'ORIGIN_AIRPORT_TYPE', 'DESTINATION_AIRPORT_TYPE',]\n",
    "df[category]=df[category].astype('str')"
   ]
  },
  {
   "cell_type": "code",
   "execution_count": 25,
   "metadata": {},
   "outputs": [],
   "source": [
    "#Convert all continuous variables to float types \n",
    "floats = ['MONTH', 'DAY_OF_WEEK', 'SCHEDULED_DEPARTURE', 'SCHEDULED_TIME',\n",
    "       'DISTANCE', 'SCHEDULED_ARRIVAL', 'ARRIVAL_DELAY', 'AIR_SYSTEM_DELAY',\n",
    "       'SECURITY_DELAY', 'AIRLINE_DELAY', 'LATE_AIRCRAFT_DELAY',\n",
    "       'WEATHER_DELAY', 'DEPARTURE_DELAY']\n",
    "df[floats]=df[floats].astype('int')"
   ]
  },
  {
   "cell_type": "markdown",
   "metadata": {},
   "source": [
    "(txt about ohe)"
   ]
  },
  {
   "cell_type": "code",
   "execution_count": 26,
   "metadata": {},
   "outputs": [
    {
     "name": "stdout",
     "output_type": "stream",
     "text": [
      "<class 'pandas.core.frame.DataFrame'>\n",
      "RangeIndex: 10000 entries, 0 to 9999\n",
      "Data columns (total 59 columns):\n",
      "AIRLINE_CODE                            10000 non-null object\n",
      "ORIGIN_AIRPORT_CODE                     10000 non-null object\n",
      "DESTINATION_AIRPORT_CODE                10000 non-null object\n",
      "SCHEDULED_DEPARTURE                     10000 non-null int64\n",
      "DEPARTURE_DELAY                         10000 non-null int64\n",
      "SCHEDULED_TIME                          10000 non-null int64\n",
      "DISTANCE                                10000 non-null int64\n",
      "SCHEDULED_ARRIVAL                       10000 non-null int64\n",
      "ARRIVAL_DELAY                           10000 non-null int64\n",
      "AIR_SYSTEM_DELAY                        10000 non-null int64\n",
      "SECURITY_DELAY                          10000 non-null int64\n",
      "AIRLINE_DELAY                           10000 non-null int64\n",
      "LATE_AIRCRAFT_DELAY                     10000 non-null int64\n",
      "WEATHER_DELAY                           10000 non-null int64\n",
      "AIRPORT_CODE                            10000 non-null object\n",
      "CITY                                    10000 non-null object\n",
      "STATE                                   10000 non-null object\n",
      "COUNTRY                                 10000 non-null object\n",
      "AIRLINE_Alaska Airlines Inc.            10000 non-null float64\n",
      "AIRLINE_American Airlines Inc.          10000 non-null float64\n",
      "AIRLINE_American Eagle Airlines Inc.    10000 non-null float64\n",
      "AIRLINE_Atlantic Southeast Airlines     10000 non-null float64\n",
      "AIRLINE_Delta Air Lines Inc.            10000 non-null float64\n",
      "AIRLINE_Frontier Airlines Inc.          10000 non-null float64\n",
      "AIRLINE_Hawaiian Airlines Inc.          10000 non-null float64\n",
      "AIRLINE_JetBlue Airways                 10000 non-null float64\n",
      "AIRLINE_Skywest Airlines Inc.           10000 non-null float64\n",
      "AIRLINE_Southwest Airlines Co.          10000 non-null float64\n",
      "AIRLINE_Spirit Air Lines                10000 non-null float64\n",
      "AIRLINE_US Airways Inc.                 10000 non-null float64\n",
      "AIRLINE_United Air Lines Inc.           10000 non-null float64\n",
      "AIRLINE_Virgin America                  10000 non-null float64\n",
      "ORIGIN_AIRPORT_TYPE_High                10000 non-null float64\n",
      "ORIGIN_AIRPORT_TYPE_Low                 10000 non-null float64\n",
      "ORIGIN_AIRPORT_TYPE_Medium              10000 non-null float64\n",
      "ORIGIN_AIRPORT_TYPE_Very Low            10000 non-null float64\n",
      "DESTINATION_AIRPORT_TYPE_High           10000 non-null float64\n",
      "DESTINATION_AIRPORT_TYPE_Low            10000 non-null float64\n",
      "DESTINATION_AIRPORT_TYPE_Medium         10000 non-null float64\n",
      "DESTINATION_AIRPORT_TYPE_Very Low       10000 non-null float64\n",
      "DAY_OF_WEEK_1                           10000 non-null float64\n",
      "DAY_OF_WEEK_2                           10000 non-null float64\n",
      "DAY_OF_WEEK_3                           10000 non-null float64\n",
      "DAY_OF_WEEK_4                           10000 non-null float64\n",
      "DAY_OF_WEEK_5                           10000 non-null float64\n",
      "DAY_OF_WEEK_6                           10000 non-null float64\n",
      "DAY_OF_WEEK_7                           10000 non-null float64\n",
      "MONTH_1                                 10000 non-null float64\n",
      "MONTH_2                                 10000 non-null float64\n",
      "MONTH_3                                 10000 non-null float64\n",
      "MONTH_4                                 10000 non-null float64\n",
      "MONTH_5                                 10000 non-null float64\n",
      "MONTH_6                                 10000 non-null float64\n",
      "MONTH_7                                 10000 non-null float64\n",
      "MONTH_8                                 10000 non-null float64\n",
      "MONTH_9                                 10000 non-null float64\n",
      "MONTH_10                                10000 non-null float64\n",
      "MONTH_11                                10000 non-null float64\n",
      "MONTH_12                                10000 non-null float64\n",
      "dtypes: float64(41), int64(11), object(7)\n",
      "memory usage: 4.5+ MB\n"
     ]
    }
   ],
   "source": [
    "#Need to OHE airline, origin airport, destination_airport, day of week \n",
    "\n",
    "df_new = pd.get_dummies(df, columns=['AIRLINE', 'ORIGIN_AIRPORT_TYPE', 'DESTINATION_AIRPORT_TYPE',\n",
    "                                     'DAY_OF_WEEK', 'MONTH'], dtype='float')\n",
    "df_new.info()"
   ]
  },
  {
   "cell_type": "code",
   "execution_count": 27,
   "metadata": {
    "scrolled": true
   },
   "outputs": [],
   "source": [
    "# We now have dummy variables that include the information on origin and destination airports, based on their \n",
    "# flight traffic, and as a result we can remove the other variables as their context and \n",
    "# #value is now embedded in our new varaible \n",
    "df_new = df_new.drop(['AIRLINE_CODE', 'AIRPORT_CODE', 'ORIGIN_AIRPORT_CODE', 'DESTINATION_AIRPORT_CODE',\n",
    "                      'CITY', 'STATE', 'COUNTRY'], axis=1)"
   ]
  },
  {
   "cell_type": "code",
   "execution_count": 28,
   "metadata": {
    "scrolled": true
   },
   "outputs": [
    {
     "name": "stdout",
     "output_type": "stream",
     "text": [
      "<class 'pandas.core.frame.DataFrame'>\n",
      "RangeIndex: 10000 entries, 0 to 9999\n",
      "Data columns (total 52 columns):\n",
      "SCHEDULED_DEPARTURE                     10000 non-null int64\n",
      "DEPARTURE_DELAY                         10000 non-null int64\n",
      "SCHEDULED_TIME                          10000 non-null int64\n",
      "DISTANCE                                10000 non-null int64\n",
      "SCHEDULED_ARRIVAL                       10000 non-null int64\n",
      "ARRIVAL_DELAY                           10000 non-null int64\n",
      "AIR_SYSTEM_DELAY                        10000 non-null int64\n",
      "SECURITY_DELAY                          10000 non-null int64\n",
      "AIRLINE_DELAY                           10000 non-null int64\n",
      "LATE_AIRCRAFT_DELAY                     10000 non-null int64\n",
      "WEATHER_DELAY                           10000 non-null int64\n",
      "AIRLINE_Alaska Airlines Inc.            10000 non-null float64\n",
      "AIRLINE_American Airlines Inc.          10000 non-null float64\n",
      "AIRLINE_American Eagle Airlines Inc.    10000 non-null float64\n",
      "AIRLINE_Atlantic Southeast Airlines     10000 non-null float64\n",
      "AIRLINE_Delta Air Lines Inc.            10000 non-null float64\n",
      "AIRLINE_Frontier Airlines Inc.          10000 non-null float64\n",
      "AIRLINE_Hawaiian Airlines Inc.          10000 non-null float64\n",
      "AIRLINE_JetBlue Airways                 10000 non-null float64\n",
      "AIRLINE_Skywest Airlines Inc.           10000 non-null float64\n",
      "AIRLINE_Southwest Airlines Co.          10000 non-null float64\n",
      "AIRLINE_Spirit Air Lines                10000 non-null float64\n",
      "AIRLINE_US Airways Inc.                 10000 non-null float64\n",
      "AIRLINE_United Air Lines Inc.           10000 non-null float64\n",
      "AIRLINE_Virgin America                  10000 non-null float64\n",
      "ORIGIN_AIRPORT_TYPE_High                10000 non-null float64\n",
      "ORIGIN_AIRPORT_TYPE_Low                 10000 non-null float64\n",
      "ORIGIN_AIRPORT_TYPE_Medium              10000 non-null float64\n",
      "ORIGIN_AIRPORT_TYPE_Very Low            10000 non-null float64\n",
      "DESTINATION_AIRPORT_TYPE_High           10000 non-null float64\n",
      "DESTINATION_AIRPORT_TYPE_Low            10000 non-null float64\n",
      "DESTINATION_AIRPORT_TYPE_Medium         10000 non-null float64\n",
      "DESTINATION_AIRPORT_TYPE_Very Low       10000 non-null float64\n",
      "DAY_OF_WEEK_1                           10000 non-null float64\n",
      "DAY_OF_WEEK_2                           10000 non-null float64\n",
      "DAY_OF_WEEK_3                           10000 non-null float64\n",
      "DAY_OF_WEEK_4                           10000 non-null float64\n",
      "DAY_OF_WEEK_5                           10000 non-null float64\n",
      "DAY_OF_WEEK_6                           10000 non-null float64\n",
      "DAY_OF_WEEK_7                           10000 non-null float64\n",
      "MONTH_1                                 10000 non-null float64\n",
      "MONTH_2                                 10000 non-null float64\n",
      "MONTH_3                                 10000 non-null float64\n",
      "MONTH_4                                 10000 non-null float64\n",
      "MONTH_5                                 10000 non-null float64\n",
      "MONTH_6                                 10000 non-null float64\n",
      "MONTH_7                                 10000 non-null float64\n",
      "MONTH_8                                 10000 non-null float64\n",
      "MONTH_9                                 10000 non-null float64\n",
      "MONTH_10                                10000 non-null float64\n",
      "MONTH_11                                10000 non-null float64\n",
      "MONTH_12                                10000 non-null float64\n",
      "dtypes: float64(41), int64(11)\n",
      "memory usage: 4.0 MB\n"
     ]
    }
   ],
   "source": [
    "#Preview datatypes of all the features in the dataset\n",
    "df_new.info()"
   ]
  },
  {
   "cell_type": "markdown",
   "metadata": {},
   "source": [
    "The final step in the data cleaning process is to transform the target variable from a continuous to a binary variable. If the departure delay time is greater than 0, then the filght will be classified as delayed."
   ]
  },
  {
   "cell_type": "code",
   "execution_count": 29,
   "metadata": {},
   "outputs": [
    {
     "data": {
      "text/plain": [
       "0    6384\n",
       "1    3616\n",
       "Name: DELAYED, dtype: int64"
      ]
     },
     "execution_count": 29,
     "metadata": {},
     "output_type": "execute_result"
    }
   ],
   "source": [
    "#Transform continuous target variable to binary variable\n",
    "#Variable will have value of 1 if departure was delayed, 0 otherwise \n",
    "df_new['DELAYED'] = df_new['DEPARTURE_DELAY'] > 0\n",
    "df_new = df_new.drop(['DEPARTURE_DELAY'], axis=1)\n",
    "df_new['DELAYED'] = df_new['DELAYED'].astype(int)  \n",
    "df_new['DELAYED'].value_counts()"
   ]
  },
  {
   "cell_type": "markdown",
   "metadata": {},
   "source": [
    "We see there is a bit of a class imbalance in our dataset. For now we will export this data to a new CSV file to proceed with the modelling process."
   ]
  },
  {
   "cell_type": "code",
   "execution_count": 30,
   "metadata": {},
   "outputs": [],
   "source": [
    "#Export final cleaned data to csv file \n",
    "df_new.to_csv('final_data.csv')"
   ]
  }
 ],
 "metadata": {
  "kernelspec": {
   "display_name": "learn-env",
   "language": "python",
   "name": "learn-env"
  },
  "language_info": {
   "codemirror_mode": {
    "name": "ipython",
    "version": 3
   },
   "file_extension": ".py",
   "mimetype": "text/x-python",
   "name": "python",
   "nbconvert_exporter": "python",
   "pygments_lexer": "ipython3",
   "version": "3.6.9"
  }
 },
 "nbformat": 4,
 "nbformat_minor": 4
}
